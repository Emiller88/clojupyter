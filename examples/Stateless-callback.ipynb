{
 "cells": [
  {
   "cell_type": "code",
   "execution_count": null,
   "metadata": {},
   "outputs": [],
   "source": [
    "(require '[clojupyter.widgets.ipywidgets :as ipy])\n",
    "(require '[clojupyter.kernel.comm-atom :as ca]);"
   ]
  },
  {
   "cell_type": "code",
   "execution_count": null,
   "metadata": {},
   "outputs": [],
   "source": [
    "(def W\n",
    "  (let [out (ipy/label)\n",
    "        but (ipy/button {:description \"Click me\"})\n",
    "        _ (send (.-agent_ but) assoc :on-click (fn [] (swap! out assoc :value \"Button clicked\")))]\n",
    "    (ipy/v-box {:children [but out]})))\n",
    "W"
   ]
  },
  {
   "cell_type": "code",
   "execution_count": null,
   "metadata": {},
   "outputs": [],
   "source": [
    "(def L0 (ipy/label))\n",
    "(def BUTS (ipy/toggle-buttons {:options [\"one\" \"two\"]}))\n",
    "(send (.-agent_ BUTS) assoc :on-click (fn [] (swap! L0 assoc :value (str \"Toggle pressed on \" (:value @BUTS)))))\n",
    "(ipy/v-box {:children [L0 BUTS]})"
   ]
  },
  {
   "cell_type": "code",
   "execution_count": null,
   "metadata": {},
   "outputs": [],
   "source": []
  },
  {
   "cell_type": "code",
   "execution_count": null,
   "metadata": {},
   "outputs": [],
   "source": []
  },
  {
   "cell_type": "code",
   "execution_count": null,
   "metadata": {},
   "outputs": [],
   "source": []
  },
  {
   "cell_type": "code",
   "execution_count": null,
   "metadata": {},
   "outputs": [],
   "source": []
  }
 ],
 "metadata": {
  "kernelspec": {
   "display_name": "Clojure (clojupyter-0.3.3-snapshot)",
   "language": "clojure",
   "name": "clojupyter-0.3.3-snapshot"
  },
  "language_info": {
   "file_extension": ".clj",
   "mimetype": "text/x-clojure",
   "name": "clojure",
   "version": "1.10.1"
  }
 },
 "nbformat": 4,
 "nbformat_minor": 4
}
