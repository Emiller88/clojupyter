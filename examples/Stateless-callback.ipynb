{
 "cells": [
  {
   "cell_type": "code",
   "execution_count": null,
   "metadata": {},
   "outputs": [],
   "source": [
    "(require '[clojupyter.widgets.ipywidgets :as ipy])\n",
    "(require '[clojupyter.kernel.comm-atom :as ca]);"
   ]
  },
  {
   "cell_type": "code",
   "execution_count": null,
   "metadata": {},
   "outputs": [],
   "source": [
    "(def W\n",
    "  (let [out (ipy/label)\n",
    "        but (ipy/button {:description \"Click me\" :on-click (fn [] (swap! out assoc :value \"Button clicked\"))})]\n",
    "    (ipy/v-box {:children [but out]})))\n",
    "W"
   ]
  },
  {
   "cell_type": "code",
   "execution_count": null,
   "metadata": {},
   "outputs": [],
   "source": [
    "(def L0 (ipy/label))\n",
    "(def BUTS (ipy/toggle-buttons {:options [\"one\" \"two\"] :on-click (fn [] (swap! L0 assoc :value (str \"Toggle pressed on \" (:value @BUTS))))}))\n",
    "(ipy/v-box {:children [L0 BUTS]})"
   ]
  },
  {
   "cell_type": "code",
   "execution_count": null,
   "metadata": {},
   "outputs": [],
   "source": [
    "(def W1\n",
    "  (let [OUT (ipy/label)\n",
    "        W (ipy/combobox {:options [\"blue\" \"black\" \"green\" \"yellow\"] :description \"Pick a color\" :on-submit (fn [] (swap! OUT assoc :value \"User submitted\"))})]\n",
    "    (ipy/v-box {:children [W OUT]})))\n",
    "W1"
   ]
  },
  {
   "cell_type": "code",
   "execution_count": null,
   "metadata": {},
   "outputs": [],
   "source": []
  },
  {
   "cell_type": "code",
   "execution_count": null,
   "metadata": {},
   "outputs": [],
   "source": []
  },
  {
   "cell_type": "code",
   "execution_count": null,
   "metadata": {},
   "outputs": [],
   "source": []
  }
 ],
 "metadata": {
  "kernelspec": {
   "display_name": "Clojure (clojupyter-0.3.3-snapshot)",
   "language": "clojure",
   "name": "clojupyter-0.3.3-snapshot"
  },
  "language_info": {
   "file_extension": ".clj",
   "mimetype": "text/x-clojure",
   "name": "clojure",
   "version": "1.10.1"
  },
  "widgets": {
   "application/vnd.jupyter.widget-state+json": {
    "state": {},
    "version_major": 2,
    "version_minor": 0
   }
  }
 },
 "nbformat": 4,
 "nbformat_minor": 4
}
