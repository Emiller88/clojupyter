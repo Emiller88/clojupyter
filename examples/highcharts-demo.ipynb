{
 "cells": [
  {
   "cell_type": "code",
   "execution_count": null,
   "metadata": {},
   "outputs": [],
   "source": [
    "(require '[clojupyter :as cjp])\n",
    "(require '[clojure.data.json :as json])\n",
    "(cjp/amd-add-javascript-html\n",
    "  [{:ident :hicharts :exports \"Highcharts\" :url \"https://code.highcharts.com/highcharts\"}])"
   ]
  },
  {
   "cell_type": "code",
   "execution_count": null,
   "metadata": {},
   "outputs": [],
   "source": [
    "(def raw-data (map #(int (+ (* 22 (+ % (Math/random)) 78))) (range)))\n",
    "(def data-1 (take 25 raw-data))\n",
    "(def data-2 (take 25 (drop 25 raw-data)))"
   ]
  },
  {
   "cell_type": "code",
   "execution_count": null,
   "metadata": {},
   "outputs": [],
   "source": [
    "(defn highchart-chart\n",
    "  [nodeid data]\n",
    "  (cjp/amd-wrap-require [:hicharts]\n",
    "    (format \"function(hc){hc.chart('%s',%s)}\" nodeid (json/write-str data))))"
   ]
  },
  {
   "cell_type": "code",
   "execution_count": null,
   "metadata": {},
   "outputs": [],
   "source": [
    "(def CHART {:chart {:type \"line\"}\n",
    "            :title {:text (str \"External js library: Highcharts plot using clojupyter-v\" \n",
    "                               (:version clojupyter/*clojupyter-version*))}\n",
    "            :series [{:data data-1} {:data data-2}]})"
   ]
  },
  {
   "cell_type": "code",
   "execution_count": null,
   "metadata": {},
   "outputs": [],
   "source": [
    "(cjp/hiccup-html \n",
    " (let [nodeid (gensym)]\n",
    "   [:div \n",
    "    [:div {:id nodeid}]\n",
    "    [:script (highchart-chart nodeid CHART)]]))"
   ]
  }
 ],
 "metadata": {
  "kernelspec": {
   "display_name": "Clojure (clojupyter-dev)",
   "language": "clojure",
   "name": "clojure"
  },
  "language_info": {
   "file_extension": ".clj",
   "mimetype": "text/x-clojure",
   "name": "clojure",
   "version": "1.10.0"
  }
 },
 "nbformat": 4,
 "nbformat_minor": 2
}
