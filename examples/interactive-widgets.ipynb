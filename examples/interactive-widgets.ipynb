{
 "cells": [
  {
   "cell_type": "markdown",
   "metadata": {},
   "source": [
    "# Demo Widget Composition and Interaction"
   ]
  },
  {
   "cell_type": "code",
   "execution_count": null,
   "metadata": {},
   "outputs": [],
   "source": [
    "(require '[clojupyter.widgets.ipywidgets :as ipy])\n",
    "(require '[clojupyter.widgets.alpha :as alpha]);"
   ]
  },
  {
   "cell_type": "markdown",
   "metadata": {},
   "source": [
    "## Composition\n",
    "To combine widgets, we have two include them in a container widget.\n",
    "e.g. **box**, **v-box**, **h-box**, **grid-box**, **tab**, **accordion** and **stacked**.\n",
    "\n",
    "The widgets can be deeply nested"
   ]
  },
  {
   "cell_type": "code",
   "execution_count": null,
   "metadata": {},
   "outputs": [],
   "source": [
    "(let [sl (ipy/int-slider)\n",
    "      b0 (ipy/h-box {:children [sl sl]})\n",
    "      ac (ipy/accordion {:children [b0]})\n",
    "      b1 (ipy/v-box {:children (vec (repeat 5 ac))})\n",
    "      tc (ipy/tab {:children (vec (repeat 10 b1))})]\n",
    "  tc)"
   ]
  },
  {
   "cell_type": "markdown",
   "metadata": {},
   "source": [
    "All of them use the :children key to hold the relationships."
   ]
  },
  {
   "cell_type": "markdown",
   "metadata": {},
   "source": [
    "## Widgets Linking\n",
    "We can link the attributes of two widgets with link or directional-link widgets.\n",
    "\n",
    "These allow linking the widgets directly, without relying on the kernel to handle callbacks. Evaluate the form bellow and reset the kernel. The widgets will continue to sync."
   ]
  },
  {
   "cell_type": "code",
   "execution_count": null,
   "metadata": {},
   "outputs": [],
   "source": [
    "(let [sl (ipy/int-slider)\n",
    "      p (ipy/int-progress)]\n",
    "  (ipy/directional-link {:source [sl :value] :target [p :value]})\n",
    "  (ipy/box {:children [sl p]}))"
   ]
  },
  {
   "cell_type": "markdown",
   "metadata": {},
   "source": [
    "## Stateless Callbacks\n",
    "Some widgets send on-click and on-submit callbacks which can be handled by attaching a fn of 3 arguments (the widget reference. the message content, and a sequence of buffers) to the `:callbacks` map `:on-click` and `:on-submit` respectively."
   ]
  },
  {
   "cell_type": "code",
   "execution_count": null,
   "metadata": {},
   "outputs": [],
   "source": [
    "(let [out (ipy/label)\n",
    "      out2 (ipy/label)\n",
    "      but (ipy/button {:description \"Click me\" :callbacks {:on-click [(fn [_ _ _] (swap! out assoc :value \"Button clicked\"))\n",
    "                                                                      (fn [_ _ _] (swap! out2 assoc :value \"Second fn ran\"))]}})]\n",
    "  (ipy/v-box {:children [but out out2]}))"
   ]
  },
  {
   "cell_type": "code",
   "execution_count": null,
   "metadata": {},
   "outputs": [],
   "source": [
    "(def L0 (ipy/label))\n",
    "(def BUTS (ipy/toggle-buttons {:options [\"one\" \"two\"] :callbacks {:on-click (fn [w _ _] (swap! L0 assoc :value (str \"Toggle pressed on \" (:value @w))))}}))\n",
    "(ipy/v-box {:children [L0 BUTS]})"
   ]
  },
  {
   "cell_type": "code",
   "execution_count": null,
   "metadata": {},
   "outputs": [],
   "source": [
    "(def W1\n",
    "  (let [OUT (ipy/label)\n",
    "        W (ipy/combobox {:options [\"blue\" \"black\" \"green\" \"yellow\"] :description \"Pick a color\"\n",
    "                             :callbacks {:on-submit (fn [_] (swap! OUT assoc :value \"User submitted\"))}})]\n",
    "    (ipy/v-box {:children [W OUT]})))\n",
    "W1"
   ]
  },
  {
   "cell_type": "code",
   "execution_count": null,
   "metadata": {},
   "outputs": [],
   "source": []
  },
  {
   "cell_type": "markdown",
   "metadata": {},
   "source": [
    "## Statefull Callbacks\n",
    "Any widget can attach a fn using the watch method to run whenever the widget state changes.\n",
    "The fn must have the same signature as those accepted by atom watchers: four arguments, a key, the reference, the old-state and new-state.\n",
    "\n",
    "*Note*: Often, we're only interested when a single attribute of the widget changes, so we'll have to check it ourselves.\n",
    "The example bellow attaches two watch fns, one that watches the int slider and updates the image `:width` attribute and a second fn that watches the file-upload widget and updates the image `:value` attribute."
   ]
  },
  {
   "cell_type": "code",
   "execution_count": null,
   "metadata": {},
   "outputs": [],
   "source": [
    "(def W\n",
    "(let [w0 (ipy/file-upload {:description \"Upload an image\":accept \"jpg\" :multiple true})\n",
    "      w1 (ipy/int-slider {:min 300 :max 1000 :value 400 :step 10})\n",
    "      w2 (ipy/image {:width (str (:value @w1))})\n",
    "      ww (ipy/h-box {:children [w0 w1]})\n",
    "      _ (.watch w1 :on-change (fn [_ _ o-state n-state] (when (not= (:value o-state) (:value n-state)) (swap! w2 assoc :width (str (:value n-state))))))\n",
    "      _ (.watch w0 :on-change (fn [_ _ o-state n-state] (when (not= (:value o-state) (:value n-state)) (swap! w2 assoc :value (-> n-state :value first :content)))))]\n",
    "  (ipy/v-box {:children [ww w2]})))W"
   ]
  },
  {
   "cell_type": "code",
   "execution_count": null,
   "metadata": {},
   "outputs": [],
   "source": []
  },
  {
   "cell_type": "markdown",
   "metadata": {},
   "source": [
    "We can access helper functions in `clojupyter.widgets.alpha` namespace.\n",
    "`interactive` accepts an output widget, a fn that accepts a map argument and a map of widgets."
   ]
  },
  {
   "cell_type": "code",
   "execution_count": null,
   "metadata": {},
   "outputs": [],
   "source": [
    "(alpha/interactive (ipy/int-progress {:max 200}) (comp (partial * 2) :x) {:x (ipy/int-slider {:max 100})})"
   ]
  },
  {
   "cell_type": "code",
   "execution_count": null,
   "metadata": {},
   "outputs": [],
   "source": [
    "(def IA\n",
    "    (let [myfun (fn [{:keys [a b]}]\n",
    "                  (str a \" + \" b \" = \" (+ a b)))\n",
    "          label (ipy/label)\n",
    "          slider-1 (ipy/int-slider {:value (rand-int 100)})\n",
    "          slider-2 (ipy/int-slider {:value (rand-int 100)})]\n",
    "      (alpha/interactive label myfun {:a slider-1, :b slider-2})))\n",
    "IA"
   ]
  },
  {
   "cell_type": "markdown",
   "metadata": {},
   "source": [
    "`interact!` accepts a fn and one or more widgets. The fn must accept the same number of arguments as passed widgets. The return value of the fn is passed to a string and into an label widget."
   ]
  },
  {
   "cell_type": "code",
   "execution_count": null,
   "metadata": {},
   "outputs": [],
   "source": [
    "(def IB (alpha/interact! -\n",
    "                         (ipy/int-slider {:value (rand-int 100)})\n",
    "                         (ipy/int-slider {:value (rand-int 100)})))\n",
    "IB"
   ]
  },
  {
   "cell_type": "markdown",
   "metadata": {},
   "source": [
    "The example bellow contains a horizontal box widget with three other widgets, two int sliders and an int progress bar and combines both watch functions and link widgets."
   ]
  },
  {
   "cell_type": "code",
   "execution_count": null,
   "metadata": {},
   "outputs": [],
   "source": [
    "(def SSP\n",
    "    (let [slider-style (ipy/slider-style {:handle_color \"tomato\"})\n",
    "      w (ipy/int-slider {:orientation \"vertical\" :value (rand-int 101) :style slider-style :description \"x\"})\n",
    "      ww (ipy/int-slider {:orientation \"vertical\" :value (* 2 (:value @w)) :max (* 2 (:max @w)) :style slider-style :description \"2*x\" :disabled true})\n",
    "      _ (.watch w :double (fn [_ _ _ {value :value}] (swap! ww assoc :value (* 2 value))))\n",
    "      p (ipy/int-progress {:orientation \"vertical\" :value (:value @w) :bar_style \"danger\"})\n",
    "      pv (ipy/label {:value (str (:value @p)) :_dom_classes [\"output\"]})\n",
    "      _ (.watch p :print (fn [_ _ _ {value :value}] (swap! pv assoc :value (str value))))\n",
    "      _ (ipy/directional-link {:source [w :value] :target [p :value]})\n",
    "      ppv (ipy/v-box {:children [p pv] :layout (ipy/layout {:align_items \"center\"})})]\n",
    "  (ipy/h-box {:children [w ww ppv]})))\n",
    "SSP"
   ]
  },
  {
   "cell_type": "code",
   "execution_count": null,
   "metadata": {},
   "outputs": [],
   "source": []
  },
  {
   "cell_type": "code",
   "execution_count": null,
   "metadata": {},
   "outputs": [],
   "source": []
  }
 ],
 "metadata": {
  "kernelspec": {
   "display_name": "Clojure (clojupyter-0.3.3-snapshot-3v0.2.2-86-g3c1e-dirty)",
   "language": "clojure",
   "name": "clojupyter-0.3.3-snapshot-3v0.2.2-86-g3c1e-dirty"
  },
  "language_info": {
   "file_extension": ".clj",
   "mimetype": "text/x-clojure",
   "name": "clojure",
   "version": "1.10.1"
  },
  "widgets": {
   "application/vnd.jupyter.widget-state+json": {
    "state": {},
    "version_major": 2,
    "version_minor": 0
   }
  }
 },
 "nbformat": 4,
 "nbformat_minor": 4
}
