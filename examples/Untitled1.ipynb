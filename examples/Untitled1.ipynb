{
 "cells": [
  {
   "cell_type": "code",
   "execution_count": 1,
   "metadata": {},
   "outputs": [],
   "source": [
    "(require '[clojupyter.widgets.ipywidgets :as ipy])\n",
    "(require '[clojupyter.widgets.alpha :as alpha])\n",
    "(require '[clojupyter.kernel.comm-atom :as ca]);"
   ]
  },
  {
   "cell_type": "code",
   "execution_count": 2,
   "metadata": {},
   "outputs": [
    {
     "data": {
      "application/vnd.jupyter.widget-view+json": {
       "model_id": "4df639fe-06d9-4949-9118-0b5fe68b3462",
       "version_major": 2,
       "version_minor": 0
      },
      "text/plain": [
       "[4df639fe-06d9-4949-9118-0b5fe68b3462]={:description \"\", :_view_module \"@jupyter-widgets/controls\", :min 0, :disabled false, :layout nil, :value 0, :orientation \"horizontal\", :_view_module_version \"2.0.0\", :continuous_update true, :style nil, :max 500, :tabbable nil, :readout_format \"d\", :_view_name \"IntSliderView\", :_model_module \"@jupyter-widgets/controls\", :readout true, :_model_name \"IntSliderModel\", :_dom_classes [], :step 1, :tooltip nil, :_model_module_version \"2.0.0\"}"
      ]
     },
     "execution_count": 2,
     "metadata": {},
     "output_type": "execute_result"
    }
   ],
   "source": [
    "(def W0 (ipy/int-slider {:max 500}))\n",
    "W0"
   ]
  },
  {
   "cell_type": "code",
   "execution_count": null,
   "metadata": {},
   "outputs": [],
   "source": []
  },
  {
   "cell_type": "code",
   "execution_count": 3,
   "metadata": {},
   "outputs": [
    {
     "data": {
      "application/vnd.jupyter.widget-view+json": {
       "model_id": "815f34f3-95b1-41e6-adc1-55a204e04322",
       "version_major": 2,
       "version_minor": 0
      },
      "text/plain": [
       "[815f34f3-95b1-41e6-adc1-55a204e04322]={:description \"\", :_view_module \"@jupyter-widgets/controls\", :min 0, :disabled false, :layout nil, :value 0, :orientation \"horizontal\", :_view_module_version \"2.0.0\", :continuous_update true, :style nil, :max 100, :tabbable nil, :readout_format \"d\", :_view_name \"IntSliderView\", :_model_module \"@jupyter-widgets/controls\", :readout true, :_model_name \"IntSliderModel\", :_dom_classes [], :step 1, :tooltip nil, :_model_module_version \"2.0.0\"}"
      ]
     },
     "execution_count": 3,
     "metadata": {},
     "output_type": "execute_result"
    }
   ],
   "source": [
    "(def W1 (ipy/int-slider))\n",
    "W1"
   ]
  },
  {
   "cell_type": "code",
   "execution_count": 4,
   "metadata": {},
   "outputs": [],
   "source": [
    "(ca/watch W0 :my-fancy-key\n",
    "          (fn [_ _ _ new-st]\n",
    "            (swap! W1 assoc :max (:value new-st))));"
   ]
  },
  {
   "cell_type": "code",
   "execution_count": 25,
   "metadata": {},
   "outputs": [
    {
     "data": {
      "text/plain": [
       "{:description \"\", :_view_module \"@jupyter-widgets/controls\", :min 0, :disabled false, :layout nil, :value 7, :orientation \"horizontal\", :_view_module_version \"2.0.0\", :continuous_update true, :style nil, :max 5, :tabbable nil, :readout_format \"d\", :_view_name \"IntSliderView\", :_model_module \"@jupyter-widgets/controls\", :readout true, :_model_name \"IntSliderModel\", :_dom_classes [], :step 1, :tooltip nil, :_model_module_version \"2.0.0\"}"
      ]
     },
     "execution_count": 25,
     "metadata": {},
     "output_type": "execute_result"
    }
   ],
   "source": [
    "@W1"
   ]
  },
  {
   "cell_type": "code",
   "execution_count": 38,
   "metadata": {},
   "outputs": [
    {
     "data": {
      "application/vnd.jupyter.widget-view+json": {
       "model_id": "863bee59-d564-4c4f-8510-432cfb9498f0",
       "version_major": 2,
       "version_minor": 0
      },
      "text/plain": [
       "[863bee59-d564-4c4f-8510-432cfb9498f0]={:_view_module \"@jupyter-widgets/controls\", :children [#<CommAtom@93316f26:\n",
       "  {:description \"\",\n",
       "   :_view_module \"@jupyter-widgets/controls\",\n",
       "   :min 10,\n",
       "   :disabled false,\n",
       "   :layout nil,\n",
       "   :value 0,\n",
       "   :orientation \"horizontal\",\n",
       "   :_view_module_version \"2.0.0\",\n",
       "   :continuous_update true,\n",
       "   :style nil,\n",
       "   :max 50,\n",
       "   :tabbable nil,\n",
       "   :readout_format \"d\",\n",
       "   :_view_name \"IntSliderView\",\n",
       "   :_model_module \"@jupyter-widgets/controls\",\n",
       "   :readout true,\n",
       "   :_model_name \"IntSliderModel\",\n",
       "   :_dom_classes [],\n",
       "   :step 1,\n",
       "   :tooltip nil,\n",
       "   :_model_module_version \"2.0.0\"} #<CommAtom@de8b62c8:\n",
       "  {:description \"\",\n",
       "   :_view_module \"@jupyter-widgets/controls\",\n",
       "   :placeholder \"​\",\n",
       "   :layout nil,\n",
       "   :value \"\",\n",
       "   :_view_module_version \"2.0.0\",\n",
       "   :style nil,\n",
       "   :tabbable nil,\n",
       "   :_view_name \"LabelView\",\n",
       "   :_model_module \"@jupyter-widgets/controls\",\n",
       "   :_model_name \"LabelModel\",\n",
       "   :_dom_classes [],\n",
       "   :tooltip nil,\n",
       "   :_model_module_version \"2.0.0\"}], :layout nil, :box_style \"\", :_view_module_version \"2.0.0\", :tabbable nil, :_view_name \"VBoxView\", :_model_module \"@jupyter-widgets/controls\", :_model_name \"VBoxModel\", :_dom_classes [], :tooltip nil, :_model_module_version \"2.0.0\"}"
      ]
     },
     "execution_count": 38,
     "metadata": {},
     "output_type": "execute_result"
    }
   ],
   "source": [
    "(let [W (ipy/int-slider {:min 10 :max 50})\n",
    "      out (ipy/label)]\n",
    "  (ca/watch W (gensym)\n",
    "            (fn [_ _ old-state new-state] (swap! out assoc :value (str \"Widget changed from \" (:value old-state) \" to \" (:value new-state)))))\n",
    "  (ipy/v-box {:children [W out]}))"
   ]
  },
  {
   "cell_type": "code",
   "execution_count": 45,
   "metadata": {},
   "outputs": [
    {
     "data": {
      "text/plain": [
       "\"IPY_MODEL_d9e1df17-8799-4215-b860-559f26b43976\""
      ]
     },
     "execution_count": 45,
     "metadata": {},
     "output_type": "execute_result"
    }
   ],
   "source": [
    "(.model-ref W1)"
   ]
  },
  {
   "cell_type": "code",
   "execution_count": 53,
   "metadata": {},
   "outputs": [
    {
     "data": {
      "application/vnd.jupyter.widget-view+json": {
       "model_id": "2a60ca4d-1748-4b89-bfb1-840b01aef43d",
       "version_major": 2,
       "version_minor": 0
      },
      "text/plain": [
       "[2a60ca4d-1748-4b89-bfb1-840b01aef43d]={:description \"\", :_view_module \"@jupyter-widgets/controls\", :min 0, :disabled false, :layout nil, :value 0, :orientation \"horizontal\", :_view_module_version \"2.0.0\", :continuous_update true, :style nil, :max 5, :tabbable nil, :readout_format \"d\", :_view_name \"IntSliderView\", :_model_module \"@jupyter-widgets/controls\", :readout true, :_model_name \"IntSliderModel\", :_dom_classes [], :step 20, :tooltip nil, :_model_module_version \"2.0.0\"}"
      ]
     },
     "execution_count": 53,
     "metadata": {},
     "output_type": "execute_result"
    }
   ],
   "source": [
    "(ipy/int-slider {:min 0 :max 5 :step 20})"
   ]
  },
  {
   "cell_type": "code",
   "execution_count": null,
   "metadata": {},
   "outputs": [],
   "source": []
  },
  {
   "cell_type": "code",
   "execution_count": null,
   "metadata": {},
   "outputs": [],
   "source": []
  },
  {
   "cell_type": "code",
   "execution_count": null,
   "metadata": {},
   "outputs": [],
   "source": []
  }
 ],
 "metadata": {
  "kernelspec": {
   "display_name": "Clojure (clojupyter-0.3.3-snapshot)",
   "language": "clojure",
   "name": "clojupyter-0.3.3-snapshot"
  },
  "language_info": {
   "file_extension": ".clj",
   "mimetype": "text/x-clojure",
   "name": "clojure",
   "version": "1.10.1"
  }
 },
 "nbformat": 4,
 "nbformat_minor": 4
}
