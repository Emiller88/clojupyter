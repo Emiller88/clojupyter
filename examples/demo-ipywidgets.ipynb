{
 "cells": [
  {
   "cell_type": "markdown",
   "metadata": {},
   "source": [
    "# Demo: Interactive Widgets\n",
    "A notebook to explore the ipywidgets interactive widgets with clojupyter kernel.\n",
    "The notebook explores widget creation. For examples of widget composition and interaction see interactive-widgets.ipynb\n",
    "\n",
    "Requires clojupyter-0.3.3.-snapshot."
   ]
  },
  {
   "cell_type": "code",
   "execution_count": null,
   "metadata": {},
   "outputs": [],
   "source": [
    "(require '[clojupyter.widgets.alpha :as alpha])\n",
    "(require '[clojupyter.widgets.ipywidgets :as ipy])\n",
    "(require '[clojure.string :as s]);"
   ]
  },
  {
   "cell_type": "markdown",
   "metadata": {},
   "source": [
    "## Simple Widgets\n",
    "### Text Widgets\n",
    "Let's build a text widget that returns the reverse upper case of the input string.\n",
    "The function bellow achieves that:"
   ]
  },
  {
   "cell_type": "code",
   "execution_count": null,
   "metadata": {},
   "outputs": [],
   "source": [
    "(ipy/label {:value \"My text widget\"})"
   ]
  },
  {
   "cell_type": "code",
   "execution_count": null,
   "metadata": {},
   "outputs": [],
   "source": [
    "(ipy/text {:placeholder \"Hello World\"})"
   ]
  },
  {
   "cell_type": "code",
   "execution_count": null,
   "metadata": {},
   "outputs": [],
   "source": [
    "(ipy/password {:value \"top secret pwd\" :description \"Password\"})"
   ]
  },
  {
   "cell_type": "code",
   "execution_count": null,
   "metadata": {},
   "outputs": [],
   "source": [
    "(ipy/textarea {:placeholder \"Some lengthy description\" :description \"Your Text Here:\" :rows 4})"
   ]
  },
  {
   "cell_type": "code",
   "execution_count": null,
   "metadata": {},
   "outputs": [],
   "source": [
    "(ipy/combobox {:options [\"blue\" \"black\" \"green\" \"yellow\"] :description \"Pick a color\"})"
   ]
  },
  {
   "cell_type": "markdown",
   "metadata": {},
   "source": [
    "Passing the fn directly to the widget does not work, because the fn passed to interactive needs to take a hash-map argument."
   ]
  },
  {
   "cell_type": "code",
   "execution_count": null,
   "metadata": {},
   "outputs": [],
   "source": [
    "(ipy/html {:value \"<p>Hello <b>World</b></p>\" :placeholder \"Some HTML\" :description \"Some HTML\"})"
   ]
  },
  {
   "cell_type": "markdown",
   "metadata": {},
   "source": [
    "Example taken from: https://ipywidgets.readthedocs.io/en/latest/examples/Widget%20List.html#HTML-Math"
   ]
  },
  {
   "cell_type": "code",
   "execution_count": null,
   "metadata": {},
   "outputs": [],
   "source": [
    "(ipy/html-math {:value \"Some math and <i>HTML</i>: \\\\(x^2\\\\) and $$\\\\frac{x+1}{x-1}$$\"})"
   ]
  },
  {
   "cell_type": "markdown",
   "metadata": {},
   "source": [
    "Note: *We need to escape the backslash in order for the above example to work.*"
   ]
  },
  {
   "cell_type": "markdown",
   "metadata": {},
   "source": [
    "____\n",
    "### Boolean Widgets\n"
   ]
  },
  {
   "cell_type": "code",
   "execution_count": null,
   "metadata": {},
   "outputs": [],
   "source": [
    "(ipy/checkbox {:description \"Click Me\" :value true})"
   ]
  },
  {
   "cell_type": "code",
   "execution_count": null,
   "metadata": {},
   "outputs": [],
   "source": [
    "(ipy/toggle-button {:value false :description \"Click to Activate\" :icon \"hand-pointer\"})"
   ]
  },
  {
   "cell_type": "code",
   "execution_count": null,
   "metadata": {},
   "outputs": [],
   "source": [
    "(ipy/valid {:value true :description \"Valid!\"})"
   ]
  },
  {
   "cell_type": "markdown",
   "metadata": {},
   "source": [
    "___\n",
    "### Numeric Widgets"
   ]
  },
  {
   "cell_type": "code",
   "execution_count": null,
   "metadata": {},
   "outputs": [],
   "source": [
    "(ipy/int-slider {:description \"Vertical Slider\" :value 20 :min -10 :max 20\n",
    "                         :orientation \"vertical\"})"
   ]
  },
  {
   "cell_type": "code",
   "execution_count": null,
   "metadata": {},
   "outputs": [],
   "source": [
    "(ipy/float-slider {:description \"Horizontal Slider\" :value (rand) :min 0.0 :max 1.0\n",
    "                           :step 0.01 :readout_format \".2f\"})"
   ]
  },
  {
   "cell_type": "code",
   "execution_count": null,
   "metadata": {},
   "outputs": [],
   "source": [
    "(ipy/float-log-slider {:value 2e5 :base 10.0 :min 4.0 :max 8.0 :step 0.2})"
   ]
  },
  {
   "cell_type": "code",
   "execution_count": null,
   "metadata": {},
   "outputs": [],
   "source": [
    "(ipy/int-range-slider {:value [200 1800] :max 3000 :step 5})"
   ]
  },
  {
   "cell_type": "markdown",
   "metadata": {},
   "source": [
    "Note: *Passing the type fn to most (all?) widgets kills the kernel.*"
   ]
  },
  {
   "cell_type": "code",
   "execution_count": null,
   "metadata": {},
   "outputs": [],
   "source": [
    "(ipy/float-range-slider)"
   ]
  },
  {
   "cell_type": "code",
   "execution_count": null,
   "metadata": {},
   "outputs": [],
   "source": [
    "(ipy/int-progress {:min 10 :max 100 :value 95})"
   ]
  },
  {
   "cell_type": "code",
   "execution_count": null,
   "metadata": {},
   "outputs": [],
   "source": [
    "(ipy/float-progress {:min 0.0 :max 10.0 :step 0.1 :value 4.8})"
   ]
  },
  {
   "cell_type": "markdown",
   "metadata": {},
   "source": [
    "Note: *How does one animate the above progress bars?*"
   ]
  },
  {
   "cell_type": "code",
   "execution_count": null,
   "metadata": {},
   "outputs": [],
   "source": [
    "(ipy/bounded-int-text {:min 0 :max 100 :step 5})"
   ]
  },
  {
   "cell_type": "markdown",
   "metadata": {},
   "source": [
    "Note: *The above widget acts like a bounded-float-text if we pass a float step.*\n",
    "No longer true, now that the widgets get validated."
   ]
  },
  {
   "cell_type": "code",
   "execution_count": null,
   "metadata": {},
   "outputs": [],
   "source": [
    "(ipy/bounded-float-text {:min 0.0 :max 10.0 :step 0.2})"
   ]
  },
  {
   "cell_type": "code",
   "execution_count": null,
   "metadata": {},
   "outputs": [],
   "source": [
    "(ipy/int-text {:value 233})"
   ]
  },
  {
   "cell_type": "code",
   "execution_count": null,
   "metadata": {},
   "outputs": [],
   "source": [
    "(ipy/float-text {:value 9.33 :min 0.01 :step 0.02})"
   ]
  },
  {
   "cell_type": "markdown",
   "metadata": {},
   "source": [
    "____\n",
    "### Selection Widgets"
   ]
  },
  {
   "cell_type": "code",
   "execution_count": null,
   "metadata": {},
   "outputs": [],
   "source": [
    "(def A (ipy/dropdown {:options [\"one\" \"two\" \"three\"] :value \"three\"}))\n",
    "A"
   ]
  },
  {
   "cell_type": "code",
   "execution_count": null,
   "metadata": {},
   "outputs": [],
   "source": [
    "(ipy/dropdown {:options {:one 1 :two 2 :three 3} :index 2})"
   ]
  },
  {
   "cell_type": "code",
   "execution_count": null,
   "metadata": {},
   "outputs": [],
   "source": [
    "(ipy/dropdown {:options [[\"one\" 1] [\"two\" 2] [\"three\" 3]] :index 2 :description \"Pick a number\"})"
   ]
  },
  {
   "cell_type": "code",
   "execution_count": null,
   "metadata": {},
   "outputs": [],
   "source": [
    "(ipy/box {:children [(ipy/radio-buttons {:options [\"dark\" \"light\"] :description \"A long description here\" :value \"dark\"})]})"
   ]
  },
  {
   "cell_type": "code",
   "execution_count": null,
   "metadata": {},
   "outputs": [],
   "source": [
    "(ipy/select {:options [\"english\" \"french\" \"german\"] :value \"german\" :description \"Select Language\"})"
   ]
  },
  {
   "cell_type": "code",
   "execution_count": null,
   "metadata": {},
   "outputs": [],
   "source": [
    "(ipy/toggle-buttons {:options [\"english\" \"french\" \"german\"] :value \"french\" :description \"A very looooooooooooooooooooooooooong description\" :button_style \"primary\" :disabled true\n",
    "                     :style (ipy/toggle-buttons-style {:button_width \"100px\"})})"
   ]
  },
  {
   "cell_type": "code",
   "execution_count": null,
   "metadata": {},
   "outputs": [],
   "source": [
    "(ipy/select-multiple {:options [\"Guitar\" \"Mandolin\" \"Violin\" \"Bass\"] :value [\"Bass\"] :description \"String Instruments\"})"
   ]
  },
  {
   "cell_type": "code",
   "execution_count": null,
   "metadata": {},
   "outputs": [],
   "source": [
    "(ipy/selection-slider {:options [\"slower\" \"slow\" \"normal\" \"fast\" \"fastest\"] :value \"normal\" :description \"Speed\"})"
   ]
  },
  {
   "cell_type": "code",
   "execution_count": null,
   "metadata": {},
   "outputs": [],
   "source": [
    "(ipy/selection-range-slider {:options (map list [\"slower\" \"slow\" \"normal\" \"fast\" \"fastest\"] (range)) :value [2 2] :description \"Speed\"})"
   ]
  },
  {
   "cell_type": "markdown",
   "metadata": {},
   "source": [
    "____\n",
    "### Container Widgets"
   ]
  },
  {
   "cell_type": "code",
   "execution_count": null,
   "metadata": {},
   "outputs": [],
   "source": [
    "(let [w (ipy/int-slider)\n",
    "      p (ipy/int-slider {:max (* 2 (:max @w))})\n",
    "      _ (ipy/directional-link {:source [w :value] :target [p :value]})]\n",
    "  (ipy/box {:children [w p]}))"
   ]
  },
  {
   "cell_type": "code",
   "execution_count": null,
   "metadata": {},
   "outputs": [],
   "source": [
    "(let [w (ipy/int-slider {:orientation \"vertical\" :value (rand-int 101)})\n",
    "      p (ipy/int-progress {:orientation \"vertical\" :value (:value @w)})]\n",
    "  (.watch w :key0 (fn [_ _ _ new-state] (swap! p assoc :value (:value new-state))))\n",
    "  (ipy/h-box {:children [w p]}))"
   ]
  },
  {
   "cell_type": "markdown",
   "metadata": {},
   "source": [
    "H-box looks and feels identical with a regular box widget."
   ]
  },
  {
   "cell_type": "code",
   "execution_count": null,
   "metadata": {},
   "outputs": [],
   "source": [
    "(let [w (ipy/int-slider)\n",
    "      p (ipy/int-progress)]\n",
    "  (.watch w :key0 (fn [_ _ _ new-state] (swap! p assoc :value (:value new-state))))\n",
    "  (ipy/v-box {:children [w p]}))"
   ]
  },
  {
   "cell_type": "code",
   "execution_count": null,
   "metadata": {},
   "outputs": [],
   "source": [
    "(let [w (ipy/label {:value \"Hello\"})\n",
    "      p (ipy/label {:value \"World\"})]\n",
    "  (ipy/accordion {:children [w p]}))"
   ]
  },
  {
   "cell_type": "code",
   "execution_count": null,
   "metadata": {},
   "outputs": [],
   "source": [
    "(let [w (ipy/label {:value \"Hello\"})\n",
    "      p (ipy/label {:value \"World\"})]\n",
    "  (ipy/tab {:children [w p] :selected_index 0}))"
   ]
  },
  {
   "cell_type": "code",
   "execution_count": null,
   "metadata": {},
   "outputs": [],
   "source": [
    "(let [l0 (ipy/label {:value \"Hello\"})\n",
    "      l1 (ipy/label {:value \"World\"})\n",
    "      s (ipy/stacked {:children [l0 l1] :selected_index 0})\n",
    "      w0 (ipy/radio-buttons {:options [\"Stack 0\" \"Stack 1\"] :description \"Select stack\" :index 0})]\n",
    "  (.watch w0 :key0 (fn [_ _ _ new-state] (swap! s assoc :selected_index (:index new-state))))\n",
    "  (ipy/box {:children [w0 s]}))"
   ]
  },
  {
   "cell_type": "markdown",
   "metadata": {},
   "source": [
    "____\n",
    "### Other Widgets"
   ]
  },
  {
   "cell_type": "code",
   "execution_count": null,
   "metadata": {},
   "outputs": [],
   "source": [
    "(require '[clojure.java.io :as io])\n",
    "(defn slurp-bytes\n",
    "  [^String filename & opt]\n",
    "  (let [file (io/file filename)\n",
    "        buf (byte-array (.length file))]\n",
    "    (with-open [fis (io/make-input-stream file (when opt (apply hash-map opt)))]\n",
    "      (.read fis buf))\n",
    "    buf))"
   ]
  },
  {
   "cell_type": "code",
   "execution_count": null,
   "metadata": {},
   "outputs": [],
   "source": [
    "(let [img (slurp-bytes \"../resources/clojupyter/assets/logo-64x64.png\")]\n",
    "  (ipy/image {:value img :format \"png\" :height \"200\" :width \"120\"}))"
   ]
  },
  {
   "cell_type": "markdown",
   "metadata": {},
   "source": [
    " "
   ]
  },
  {
   "cell_type": "code",
   "execution_count": null,
   "metadata": {},
   "outputs": [],
   "source": [
    "(ipy/button {:description \"Click me\" :on-click (constantly nil)}) "
   ]
  },
  {
   "cell_type": "code",
   "execution_count": null,
   "metadata": {},
   "outputs": [],
   "source": [
    "(let [min 0\n",
    "      max 100\n",
    "      value 30\n",
    "      step 1\n",
    "      w (ipy/play {:value value :min min :max max :step step :interval 500})\n",
    "      prg (ipy/int-progress {:min min :max max :value value})]\n",
    "  (.watch w :key0 (fn [_ _ _ new-state] (swap! prg assoc :value (:value new-state))))\n",
    "  (ipy/h-box {:children [w prg]}))"
   ]
  },
  {
   "cell_type": "code",
   "execution_count": null,
   "metadata": {},
   "outputs": [],
   "source": [
    "(ipy/date-picker {:description \"Pick a date\" :disabled false})"
   ]
  },
  {
   "cell_type": "code",
   "execution_count": null,
   "metadata": {},
   "outputs": [],
   "source": [
    "(ipy/color-picker {:description \"Pick a color\" :value \"blue\" :concise false})"
   ]
  },
  {
   "cell_type": "code",
   "execution_count": null,
   "metadata": {},
   "outputs": [],
   "source": [
    "(def fu (ipy/file-upload))\n",
    "fu"
   ]
  },
  {
   "cell_type": "code",
   "execution_count": null,
   "metadata": {},
   "outputs": [],
   "source": [
    "(let [X (ipy/controller-axis)\n",
    "      B (ipy/controller-button)]\n",
    "  (ipy/controller {:axes [X] :buttons [B]}))"
   ]
  }
 ],
 "metadata": {
  "kernelspec": {
   "display_name": "Clojure (clojupyter-0.3.3-snapshot)",
   "language": "clojure",
   "name": "clojupyter-0.3.3-snapshot"
  },
  "language_info": {
   "file_extension": ".clj",
   "mimetype": "text/x-clojure",
   "name": "clojure",
   "version": "1.10.1"
  },
  "widgets": {
   "application/vnd.jupyter.widget-state+json": {
    "state": {
     "01f90b52-3717-483f-8da3-71d968050915": {
      "model_module": "@jupyter-widgets/controls",
      "model_module_version": "2.0.0",
      "model_name": "LabelModel",
      "state": {
       "layout": null,
       "style": null,
       "value": "40"
      }
     },
     "047c8a60-3e10-4a0c-a93d-e6e0df9d4f25": {
      "model_module": "@jupyter-widgets/controls",
      "model_module_version": "2.0.0",
      "model_name": "LabelModel",
      "state": {
       "layout": null,
       "style": null,
       "value": "AMORA"
      }
     },
     "04b68b2c-216a-41ff-8b0e-c01f3bc002c7": {
      "model_module": "@jupyter-widgets/controls",
      "model_module_version": "2.0.0",
      "model_name": "BoxModel",
      "state": {
       "children": [
        "IPY_MODEL_e63cd188-d4b7-4ffe-8f70-1b44a354b908",
        "IPY_MODEL_9c7c3990-7cab-4e71-9a23-5faca063c717"
       ],
       "layout": null
      }
     },
     "064f3f9f-eac2-414d-ad64-a5b63627b3fb": {
      "model_module": "@jupyter-widgets/controls",
      "model_module_version": "2.0.0",
      "model_name": "HTMLMathModel",
      "state": {
       "layout": null,
       "style": null,
       "value": "Some math and <i>HTML</i>: \\(x^2\\) and $$\\frac{x+1}{x-1}$$"
      }
     },
     "0c15e5fd-ba3b-4ba2-8d71-3cb6d33e6760": {
      "model_module": "@jupyter-widgets/controls",
      "model_module_version": "2.0.0",
      "model_name": "ControllerAxisModel",
      "state": {
       "layout": null
      }
     },
     "111ff78a-9253-428f-93cd-57a5c33a99b5": {
      "model_module": "@jupyter-widgets/controls",
      "model_module_version": "2.0.0",
      "model_name": "BoundedFloatTextModel",
      "state": {
       "layout": null,
       "max": 10,
       "step": 0.2,
       "style": null
      }
     },
     "14dadcc4-7ec3-4a8e-834f-0e3a6c4845e9": {
      "model_module": "@jupyter-widgets/controls",
      "model_module_version": "2.0.0",
      "model_name": "VBoxModel",
      "state": {
       "children": [
        "IPY_MODEL_aa7552b9-8bc3-4834-8a00-055760ba3366",
        "IPY_MODEL_8b2be294-6180-4c96-9658-6e1ff5fa0efc"
       ],
       "layout": null
      }
     },
     "16a3876d-da4b-494b-b818-b593f1f6e52b": {
      "model_module": "@jupyter-widgets/controls",
      "model_module_version": "2.0.0",
      "model_name": "ToggleButtonModel",
      "state": {
       "description": "Click to Activate",
       "icon": "hand-pointer",
       "layout": null,
       "style": null,
       "tooltip": null
      }
     },
     "1b90f1e0-3e05-4a74-9c56-f74654904fa7": {
      "model_module": "@jupyter-widgets/controls",
      "model_module_version": "2.0.0",
      "model_name": "RadioButtonsModel",
      "state": {
       "_options_labels": [
        "dark",
        "light"
       ],
       "description": "A long description here",
       "index": 0,
       "layout": null,
       "style": null
      }
     },
     "1c9b7e55-ff40-4af2-ae90-1161b1879a09": {
      "model_module": "@jupyter-widgets/controls",
      "model_module_version": "2.0.0",
      "model_name": "LabelModel",
      "state": {
       "layout": null,
       "style": null
      }
     },
     "1e7b3de4-ecc1-4dd5-8f0c-6151869e51c1": {
      "model_module": "@jupyter-widgets/controls",
      "model_module_version": "2.0.0",
      "model_name": "VBoxModel",
      "state": {
       "children": [
        "IPY_MODEL_ed1e0ca4-3a78-40ac-91fd-bb0106de33e4",
        "IPY_MODEL_5ff398db-5d35-4105-b841-1f673aa3029e",
        "IPY_MODEL_a059acf2-d9bf-41b5-9cfb-afcc7aa7fc3c"
       ],
       "layout": null
      }
     },
     "1f981a34-efbb-4026-b97a-c2452f8e2bde": {
      "model_module": "@jupyter-widgets/controls",
      "model_module_version": "2.0.0",
      "model_name": "LabelModel",
      "state": {
       "layout": null,
       "style": null,
       "value": "[:VALUE \"HELLO WORLD\"]"
      }
     },
     "1fea979b-23b6-407b-bc1e-33d0ddc8b4c0": {
      "model_module": "@jupyter-widgets/controls",
      "model_module_version": "2.0.0",
      "model_name": "LabelModel",
      "state": {
       "layout": null,
       "style": null,
       "value": "3.98e-06"
      }
     },
     "20a4f723-d17e-4a0b-bfd7-ea173562e1b4": {
      "model_module": "@jupyter-widgets/controls",
      "model_module_version": "2.0.0",
      "model_name": "DatePickerModel",
      "state": {
       "description": "Pick a date",
       "disabled": false,
       "layout": null,
       "style": null
      }
     },
     "26e714a5-ff93-431b-ac2f-2f3669018213": {
      "model_module": "@jupyter-widgets/controls",
      "model_module_version": "2.0.0",
      "model_name": "TabModel",
      "state": {
       "children": [
        "IPY_MODEL_4f33a4b6-4f17-4483-993f-64a28e445019",
        "IPY_MODEL_f9d0507a-a0fe-4148-992f-e284a1729bb4"
       ],
       "layout": null,
       "selected_index": 0,
       "titles": []
      }
     },
     "278f9f52-d2f2-4365-a68a-589eb32a6349": {
      "model_module": "@jupyter-widgets/controls",
      "model_module_version": "2.0.0",
      "model_name": "IntSliderModel",
      "state": {
       "layout": null
      }
     },
     "28bb8468-4ad8-4007-9a77-6ac9703a6bf2": {
      "model_module": "@jupyter-widgets/controls",
      "model_module_version": "2.0.0",
      "model_name": "LabelModel",
      "state": {
       "layout": null,
       "style": null,
       "value": "0.774"
      }
     },
     "2d6a106c-8d62-4d22-af37-6b57ca27402b": {
      "model_module": "@jupyter-widgets/controls",
      "model_module_version": "2.0.0",
      "model_name": "TextModel",
      "state": {
       "layout": null,
       "style": null,
       "value": "aroma"
      }
     },
     "2f6b788b-b52f-4930-a671-23887534ed6d": {
      "model_module": "@jupyter-widgets/controls",
      "model_module_version": "2.0.0",
      "model_name": "ControllerModel",
      "state": {
       "axes": [
        "IPY_MODEL_0c15e5fd-ba3b-4ba2-8d71-3cb6d33e6760"
       ],
       "buttons": [
        "IPY_MODEL_5687e4bb-16ed-42c0-bbc2-c9fc84518012"
       ],
       "layout": null
      }
     },
     "312bddd4-19ad-48b2-a734-c1a7edb6a0cc": {
      "model_module": "@jupyter-widgets/controls",
      "model_module_version": "2.0.0",
      "model_name": "TextModel",
      "state": {
       "layout": null,
       "style": null,
       "value": "Hello world"
      }
     },
     "338823e9-d844-4b86-9ce0-702853a0c314": {
      "model_module": "@jupyter-widgets/controls",
      "model_module_version": "2.0.0",
      "model_name": "FloatSliderModel",
      "state": {
       "description": "Square this:",
       "layout": null,
       "max": 1,
       "step": 0.01,
       "style": null,
       "value": 0.88
      }
     },
     "33ac943a-cf64-4b1d-b3a5-4cc6ef7fa436": {
      "model_module": "@jupyter-widgets/controls",
      "model_module_version": "2.0.0",
      "model_name": "VBoxModel",
      "state": {
       "children": [
        "IPY_MODEL_8a940ba6-933a-492b-ac97-88340b10f56b",
        "IPY_MODEL_c458f2df-743c-445c-807d-92484105390d"
       ],
       "layout": null
      }
     },
     "37a17d04-3222-492e-b55f-76e129e2fc59": {
      "model_module": "@jupyter-widgets/controls",
      "model_module_version": "2.0.0",
      "model_name": "FloatRangeSliderModel",
      "state": {
       "_model_name": "FloatRangeSliderModel",
       "_view_name": "FloatRangeSliderView",
       "layout": null,
       "step": 0.1,
       "style": null,
       "value": [
        0,
        1
       ]
      }
     },
     "392f35ee-b2df-4375-a568-08dc6ef90fb0": {
      "model_module": "@jupyter-widgets/controls",
      "model_module_version": "2.0.0",
      "model_name": "SelectionRangeSliderModel",
      "state": {
       "_model_name": "SelectionRangeSliderModel",
       "_options_labels": [
        "slower",
        "slow",
        "normal",
        "fast",
        "fastest"
       ],
       "_view_name": "SelectionRangeSliderView",
       "description": "Speed",
       "index": [
        2,
        2
       ],
       "layout": null,
       "style": null
      }
     },
     "3aeefb05-e28a-4645-b4fd-c48c3d4e542c": {
      "model_module": "@jupyter-widgets/controls",
      "model_module_version": "2.0.0",
      "model_name": "DirectionalLinkModel",
      "state": {
       "source": [
        "IPY_MODEL_59a097be-015c-44aa-b9b2-187b81ee4c84",
        "value"
       ],
       "target": [
        "IPY_MODEL_d31903b8-62e5-4e19-9f56-ed3a79361b0a",
        "value"
       ]
      }
     },
     "3b12fc7b-789f-48e5-8e34-4febb3b3cdef": {
      "model_module": "@jupyter-widgets/controls",
      "model_module_version": "2.0.0",
      "model_name": "LabelModel",
      "state": {
       "layout": null,
       "style": null,
       "value": "World"
      }
     },
     "3cfc20a8-d353-4637-9658-5c8ea6a83154": {
      "model_module": "@jupyter-widgets/controls",
      "model_module_version": "2.0.0",
      "model_name": "FloatLogSliderModel",
      "state": {
       "layout": null,
       "max": 8,
       "min": 4,
       "step": 0.2,
       "style": null,
       "value": 251188.6431509582
      }
     },
     "3d7195ae-b3fe-4231-aeab-509eb2110e25": {
      "model_module": "@jupyter-widgets/controls",
      "model_module_version": "2.0.0",
      "model_name": "LabelModel",
      "state": {
       "layout": null,
       "style": null,
       "value": "Inactive"
      }
     },
     "40d14c54-7b31-4177-9e2c-3a848c7a0579": {
      "model_module": "@jupyter-widgets/controls",
      "model_module_version": "2.0.0",
      "model_name": "IntRangeSliderModel",
      "state": {
       "_model_name": "IntRangeSliderModel",
       "_view_name": "IntRangeSliderView",
       "layout": null,
       "max": 3000,
       "step": 5,
       "value": [
        200,
        1800
       ]
      }
     },
     "41307a1b-02d2-4d94-b909-78928735a89a": {
      "model_module": "@jupyter-widgets/controls",
      "model_module_version": "2.0.0",
      "model_name": "IntProgressModel",
      "state": {
       "layout": null
      }
     },
     "44b7056c-bd68-4397-a6dc-644ff79e2d1a": {
      "model_module": "@jupyter-widgets/controls",
      "model_module_version": "2.0.0",
      "model_name": "CheckboxModel",
      "state": {
       "description": "Click Me",
       "disabled": false,
       "layout": null,
       "style": null,
       "value": true
      }
     },
     "46005ee7-2756-4fdf-8c6f-6abfc8053e7b": {
      "model_module": "@jupyter-widgets/controls",
      "model_module_version": "2.0.0",
      "model_name": "IntProgressModel",
      "state": {
       "layout": null,
       "orientation": "vertical",
       "value": 43
      }
     },
     "469151a8-f9b3-4e96-a35d-b611168408d7": {
      "model_module": "@jupyter-widgets/controls",
      "model_module_version": "2.0.0",
      "model_name": "VBoxModel",
      "state": {
       "children": [
        "IPY_MODEL_338823e9-d844-4b86-9ce0-702853a0c314",
        "IPY_MODEL_28bb8468-4ad8-4007-9a77-6ac9703a6bf2"
       ],
       "layout": null
      }
     },
     "48db5827-04bf-4bed-b23b-393ca35f94c6": {
      "model_module": "@jupyter-widgets/controls",
      "model_module_version": "2.0.0",
      "model_name": "ValidModel",
      "state": {
       "description": "Valid!",
       "layout": null,
       "style": null,
       "value": true
      }
     },
     "4b86c6cf-fb26-434f-b0ee-7306120c6118": {
      "model_module": "@jupyter-widgets/controls",
      "model_module_version": "2.0.0",
      "model_name": "PlayModel",
      "state": {
       "interval": 500,
       "layout": null,
       "style": null,
       "value": 30
      }
     },
     "4cd625d2-b9c2-4e3f-bb85-4a237ec03851": {
      "model_module": "@jupyter-widgets/controls",
      "model_module_version": "2.0.0",
      "model_name": "VBoxModel",
      "state": {
       "children": [
        "IPY_MODEL_20a4f723-d17e-4a0b-bfd7-ea173562e1b4",
        "IPY_MODEL_1c9b7e55-ff40-4af2-ae90-1161b1879a09"
       ],
       "layout": null
      }
     },
     "4e562a5d-03c0-4f8d-bcda-fda7b9df2d95": {
      "model_module": "@jupyter-widgets/controls",
      "model_module_version": "2.0.0",
      "model_name": "LabelModel",
      "state": {
       "layout": null,
       "style": null
      }
     },
     "4f33a4b6-4f17-4483-993f-64a28e445019": {
      "model_module": "@jupyter-widgets/controls",
      "model_module_version": "2.0.0",
      "model_name": "LabelModel",
      "state": {
       "layout": null,
       "style": null,
       "value": "Hello"
      }
     },
     "5687e4bb-16ed-42c0-bbc2-c9fc84518012": {
      "model_module": "@jupyter-widgets/controls",
      "model_module_version": "2.0.0",
      "model_name": "ControllerButtonModel",
      "state": {
       "layout": null
      }
     },
     "59a097be-015c-44aa-b9b2-187b81ee4c84": {
      "model_module": "@jupyter-widgets/controls",
      "model_module_version": "2.0.0",
      "model_name": "IntSliderModel",
      "state": {
       "layout": null
      }
     },
     "5a268b62-a197-48d5-9c56-3c8a5eb98149": {
      "model_module": "@jupyter-widgets/controls",
      "model_module_version": "2.0.0",
      "model_name": "BoxModel",
      "state": {
       "children": [
        "IPY_MODEL_1b90f1e0-3e05-4a74-9c56-f74654904fa7"
       ],
       "layout": null
      }
     },
     "5a4b1eb4-3d33-46ec-bad9-bfc3c12c576f": {
      "model_module": "@jupyter-widgets/controls",
      "model_module_version": "2.0.0",
      "model_name": "IntTextModel",
      "state": {
       "layout": null,
       "step": 1,
       "style": null,
       "value": 233
      }
     },
     "5c885a80-2839-42e5-bea5-d9e054198fa6": {
      "model_module": "@jupyter-widgets/controls",
      "model_module_version": "2.0.0",
      "model_name": "PasswordModel",
      "state": {
       "description": "Password",
       "layout": null,
       "style": null,
       "value": "top secret pwd"
      }
     },
     "5ff398db-5d35-4105-b841-1f673aa3029e": {
      "model_module": "@jupyter-widgets/controls",
      "model_module_version": "2.0.0",
      "model_name": "IntSliderModel",
      "state": {
       "layout": null,
       "value": 52
      }
     },
     "62179744-67aa-45d4-9e41-cfef60c83869": {
      "model_module": "@jupyter-widgets/controls",
      "model_module_version": "2.0.0",
      "model_name": "ToggleButtonsModel",
      "state": {
       "_options_labels": [
        "english",
        "french",
        "german"
       ],
       "button_style": "primary",
       "description": "A very looooooooooooooooooooooooooong description",
       "disabled": true,
       "icons": [],
       "index": 1,
       "layout": null,
       "style": "IPY_MODEL_6ff00b36-6b6e-4671-9f79-b3f630f10a07",
       "tooltips": []
      }
     },
     "625de117-02d8-4d7d-a506-e55e1c479934": {
      "model_module": "@jupyter-widgets/controls",
      "model_module_version": "2.0.0",
      "model_name": "ButtonModel",
      "state": {
       "description": "Click me",
       "layout": null,
       "tooltip": null
      }
     },
     "64ddbbdf-39bb-4467-bda4-f0d00e25eec2": {
      "model_module": "@jupyter-widgets/controls",
      "model_module_version": "2.0.0",
      "model_name": "IntSliderModel",
      "state": {
       "layout": null,
       "orientation": "vertical",
       "value": 43
      }
     },
     "6b11a700-7a2b-4ddf-a92b-b840994b1977": {
      "model_module": "@jupyter-widgets/controls",
      "model_module_version": "2.0.0",
      "model_name": "FloatTextModel",
      "state": {
       "layout": null,
       "step": 0.02,
       "style": null,
       "value": 9.33
      }
     },
     "6c42ac47-fe2a-45c6-b9e8-3a9ccbb585db": {
      "model_module": "@jupyter-widgets/controls",
      "model_module_version": "2.0.0",
      "model_name": "LabelModel",
      "state": {
       "layout": null,
       "style": null,
       "value": "Some_lengthy_description"
      }
     },
     "6e7d118e-02ee-4d0d-b7e6-95110ddffd2d": {
      "model_module": "@jupyter-widgets/controls",
      "model_module_version": "2.0.0",
      "model_name": "LabelModel",
      "state": {
       "layout": null,
       "style": null,
       "value": "1000"
      }
     },
     "6ff00b36-6b6e-4671-9f79-b3f630f10a07": {
      "model_module": "@jupyter-widgets/controls",
      "model_module_version": "2.0.0",
      "model_name": "ToggleButtonsStyleModel",
      "state": {
       "button_width": "100px",
       "description_width": ""
      }
     },
     "7129e84b-7bf0-445e-9283-6202682bede0": {
      "model_module": "@jupyter-widgets/controls",
      "model_module_version": "2.0.0",
      "model_name": "VBoxModel",
      "state": {
       "children": [
        "IPY_MODEL_40d14c54-7b31-4177-9e2c-3a848c7a0579",
        "IPY_MODEL_6e7d118e-02ee-4d0d-b7e6-95110ddffd2d"
       ],
       "layout": null
      }
     },
     "716f7545-0010-4190-b8ba-0f68cff51ea3": {
      "model_module": "@jupyter-widgets/controls",
      "model_module_version": "2.0.0",
      "model_name": "HBoxModel",
      "state": {
       "children": [
        "IPY_MODEL_4b86c6cf-fb26-434f-b0ee-7306120c6118",
        "IPY_MODEL_c641e31c-c746-4380-bbff-f5155329003a"
       ],
       "layout": null
      }
     },
     "7213eec2-e21b-4662-a0a8-27206464a9ed": {
      "model_module": "@jupyter-widgets/controls",
      "model_module_version": "2.0.0",
      "model_name": "VBoxModel",
      "state": {
       "children": [
        "IPY_MODEL_2d6a106c-8d62-4d22-af37-6b57ca27402b",
        "IPY_MODEL_047c8a60-3e10-4a0c-a93d-e6e0df9d4f25"
       ],
       "layout": null
      }
     },
     "777bee6f-ac95-47de-9238-a9662b4731f0": {
      "model_module": "@jupyter-widgets/controls",
      "model_module_version": "2.0.0",
      "model_name": "LabelModel",
      "state": {
       "layout": null,
       "style": null,
       "value": "World"
      }
     },
     "80de604a-290e-431a-9ae7-a4d2e6250a7e": {
      "model_module": "@jupyter-widgets/controls",
      "model_module_version": "2.0.0",
      "model_name": "VBoxModel",
      "state": {
       "children": [
        "IPY_MODEL_44b7056c-bd68-4397-a6dc-644ff79e2d1a",
        "IPY_MODEL_b4341a20-983c-4d37-9b15-5bf9e05b8243"
       ],
       "layout": null
      }
     },
     "87362a2d-47c4-4c6b-9812-0ba5d3b25308": {
      "model_module": "@jupyter-widgets/controls",
      "model_module_version": "2.0.0",
      "model_name": "BoxModel",
      "state": {
       "children": [
        "IPY_MODEL_59a097be-015c-44aa-b9b2-187b81ee4c84",
        "IPY_MODEL_d31903b8-62e5-4e19-9f56-ed3a79361b0a"
       ],
       "layout": null
      }
     },
     "8a940ba6-933a-492b-ac97-88340b10f56b": {
      "model_module": "@jupyter-widgets/controls",
      "model_module_version": "2.0.0",
      "model_name": "ColorPickerModel",
      "state": {
       "description": "Pick a color",
       "disabled": false,
       "layout": null,
       "style": null,
       "value": "blue"
      }
     },
     "8b2be294-6180-4c96-9658-6e1ff5fa0efc": {
      "model_module": "@jupyter-widgets/controls",
      "model_module_version": "2.0.0",
      "model_name": "LabelModel",
      "state": {
       "layout": null,
       "style": null,
       "value": "english"
      }
     },
     "8c4a2c1a-013a-453a-be15-b106deaea946": {
      "model_module": "@jupyter-widgets/controls",
      "model_module_version": "2.0.0",
      "model_name": "SelectionSliderModel",
      "state": {
       "_options_labels": [
        "slower",
        "slow",
        "normal",
        "fast",
        "fastest"
       ],
       "description": "Speed",
       "index": 2,
       "layout": null,
       "style": null
      }
     },
     "90597316-b805-43e9-973a-c41472ffeaef": {
      "model_module": "@jupyter-widgets/controls",
      "model_module_version": "2.0.0",
      "model_name": "IntSliderModel",
      "state": {
       "description": "Double this:",
       "layout": null,
       "max": 20,
       "min": -10,
       "orientation": "vertical",
       "value": 20
      }
     },
     "91312f9b-7fd0-42eb-8c19-e2ead147fad0": {
      "model_module": "@jupyter-widgets/controls",
      "model_module_version": "2.0.0",
      "model_name": "ComboboxModel",
      "state": {
       "description": "Pick a color",
       "ensure_option": false,
       "layout": null,
       "options": [
        "blue",
        "black",
        "green",
        "yellow"
       ],
       "style": null
      }
     },
     "92458db5-8f1b-4161-9751-c2865a670229": {
      "model_module": "@jupyter-widgets/controls",
      "model_module_version": "2.0.0",
      "model_name": "VBoxModel",
      "state": {
       "children": [
        "IPY_MODEL_b0c5b040-a52f-49f0-9776-ee1d2a3fb673",
        "IPY_MODEL_6c42ac47-fe2a-45c6-b9e8-3a9ccbb585db"
       ],
       "layout": null
      }
     },
     "92aeaa3d-63ca-4286-886d-57b3862866e0": {
      "buffers": [
       {
        "data": "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",
        "encoding": "base64",
        "path": [
         "value"
        ]
       }
      ],
      "model_module": "@jupyter-widgets/controls",
      "model_module_version": "2.0.0",
      "model_name": "ImageModel",
      "state": {
       "height": "200",
       "layout": null,
       "width": "120"
      }
     },
     "9a642cef-8f9a-43ec-a418-ba64114e9c25": {
      "model_module": "@jupyter-widgets/controls",
      "model_module_version": "2.0.0",
      "model_name": "FileUploadModel",
      "state": {
       "description": "",
       "layout": null
      }
     },
     "9c7c3990-7cab-4e71-9a23-5faca063c717": {
      "model_module": "@jupyter-widgets/controls",
      "model_module_version": "2.0.0",
      "model_name": "StackedModel",
      "state": {
       "children": [
        "IPY_MODEL_d4d7f197-7d6e-423d-826d-325f88822233",
        "IPY_MODEL_3b12fc7b-789f-48e5-8e34-4febb3b3cdef"
       ],
       "layout": null,
       "selected_index": 0,
       "titles": []
      }
     },
     "a059acf2-d9bf-41b5-9cfb-afcc7aa7fc3c": {
      "model_module": "@jupyter-widgets/controls",
      "model_module_version": "2.0.0",
      "model_name": "LabelModel",
      "state": {
       "layout": null,
       "style": null,
       "value": "89 + 52 = 141"
      }
     },
     "a0d749e1-28d5-4ec9-b514-b8752f1f71b5": {
      "model_module": "@jupyter-widgets/controls",
      "model_module_version": "2.0.0",
      "model_name": "DropdownModel",
      "state": {
       "_options_labels": [
        "one",
        "two",
        "three"
       ],
       "index": 2,
       "layout": null,
       "style": null
      }
     },
     "a33ac22e-bdc8-42f4-9353-acf1d73c0360": {
      "model_module": "@jupyter-widgets/controls",
      "model_module_version": "2.0.0",
      "model_name": "HTMLModel",
      "state": {
       "description": "Some HTML",
       "layout": null,
       "placeholder": "Some HTML",
       "style": null,
       "value": "<p>Hello <b>World</b></p>"
      }
     },
     "a6b65728-b588-4c1c-bf98-3295b37e0936": {
      "model_module": "@jupyter-widgets/controls",
      "model_module_version": "2.0.0",
      "model_name": "FloatProgressModel",
      "state": {
       "layout": null,
       "max": 10,
       "value": 4.8
      }
     },
     "a78dfc89-1cf5-4349-a112-323c11032aed": {
      "model_module": "@jupyter-widgets/controls",
      "model_module_version": "2.0.0",
      "model_name": "BoundedIntTextModel",
      "state": {
       "layout": null,
       "step": 5,
       "style": null
      }
     },
     "a835975a-fe79-4579-9fe0-60b129b25823": {
      "model_module": "@jupyter-widgets/controls",
      "model_module_version": "2.0.0",
      "model_name": "LabelModel",
      "state": {
       "layout": null,
       "style": null,
       "value": "Hello"
      }
     },
     "aa7552b9-8bc3-4834-8a00-055760ba3366": {
      "model_module": "@jupyter-widgets/controls",
      "model_module_version": "2.0.0",
      "model_name": "ToggleButtonsModel",
      "state": {
       "_options_labels": [
        "english",
        "french",
        "german"
       ],
       "button_style": "",
       "description": "Language",
       "icons": [],
       "index": 0,
       "layout": null,
       "style": null,
       "tooltips": []
      }
     },
     "ade13e28-9a39-4afa-a5fe-f99151e88c6a": {
      "model_module": "@jupyter-widgets/controls",
      "model_module_version": "2.0.0",
      "model_name": "SelectMultipleModel",
      "state": {
       "_options_labels": [
        "Guitar",
        "Mandolin",
        "Violin",
        "Bass"
       ],
       "description": "String Instruments",
       "index": [
        3
       ],
       "layout": null,
       "rows": 5,
       "style": null
      }
     },
     "b0c5b040-a52f-49f0-9776-ee1d2a3fb673": {
      "model_module": "@jupyter-widgets/controls",
      "model_module_version": "2.0.0",
      "model_name": "TextareaModel",
      "state": {
       "description": "Your Text Here:",
       "layout": null,
       "style": null,
       "value": "Some lengthy description"
      }
     },
     "b34eec83-66bd-4ea8-9644-92f2b72e1663": {
      "model_module": "@jupyter-widgets/controls",
      "model_module_version": "2.0.0",
      "model_name": "VBoxModel",
      "state": {
       "children": [
        "IPY_MODEL_90597316-b805-43e9-973a-c41472ffeaef",
        "IPY_MODEL_01f90b52-3717-483f-8da3-71d968050915"
       ],
       "layout": null
      }
     },
     "b4341a20-983c-4d37-9b15-5bf9e05b8243": {
      "model_module": "@jupyter-widgets/controls",
      "model_module_version": "2.0.0",
      "model_name": "LabelModel",
      "state": {
       "layout": null,
       "style": null,
       "value": "My state: true"
      }
     },
     "b9cff206-e71e-405f-8800-47048de152a4": {
      "model_module": "@jupyter-widgets/controls",
      "model_module_version": "2.0.0",
      "model_name": "VBoxModel",
      "state": {
       "children": [
        "IPY_MODEL_278f9f52-d2f2-4365-a68a-589eb32a6349",
        "IPY_MODEL_41307a1b-02d2-4d94-b909-78928735a89a"
       ],
       "layout": null
      }
     },
     "bb0be66f-5142-4b17-8c16-9f4dfca9006c": {
      "model_module": "@jupyter-widgets/controls",
      "model_module_version": "2.0.0",
      "model_name": "VBoxModel",
      "state": {
       "children": [
        "IPY_MODEL_3cfc20a8-d353-4637-9658-5c8ea6a83154",
        "IPY_MODEL_1fea979b-23b6-407b-bc1e-33d0ddc8b4c0"
       ],
       "layout": null
      }
     },
     "c2f097ed-3aa5-4d4f-9d87-f8fea2e69c61": {
      "model_module": "@jupyter-widgets/controls",
      "model_module_version": "2.0.0",
      "model_name": "VBoxModel",
      "state": {
       "children": [
        "IPY_MODEL_5c885a80-2839-42e5-bea5-d9e054198fa6",
        "IPY_MODEL_e786bc59-2a35-4a5f-92cb-4f93757af744"
       ],
       "layout": null
      }
     },
     "c458f2df-743c-445c-807d-92484105390d": {
      "model_module": "@jupyter-widgets/controls",
      "model_module_version": "2.0.0",
      "model_name": "LabelModel",
      "state": {
       "layout": null,
       "style": null,
       "value": "blue"
      }
     },
     "c641e31c-c746-4380-bbff-f5155329003a": {
      "model_module": "@jupyter-widgets/controls",
      "model_module_version": "2.0.0",
      "model_name": "IntProgressModel",
      "state": {
       "layout": null,
       "value": 30
      }
     },
     "caa7b126-17e2-4f76-86fb-d8faddf4fd0f": {
      "model_module": "@jupyter-widgets/controls",
      "model_module_version": "2.0.0",
      "model_name": "HBoxModel",
      "state": {
       "children": [
        "IPY_MODEL_64ddbbdf-39bb-4467-bda4-f0d00e25eec2",
        "IPY_MODEL_46005ee7-2756-4fdf-8c6f-6abfc8053e7b"
       ],
       "layout": null
      }
     },
     "cebc5f7f-a03a-42ab-9f40-445c17238134": {
      "model_module": "@jupyter-widgets/controls",
      "model_module_version": "2.0.0",
      "model_name": "DropdownModel",
      "state": {
       "_options_labels": [
        "one",
        "two",
        "three"
       ],
       "index": 2,
       "layout": null,
       "style": null
      }
     },
     "d31903b8-62e5-4e19-9f56-ed3a79361b0a": {
      "model_module": "@jupyter-widgets/controls",
      "model_module_version": "2.0.0",
      "model_name": "IntSliderModel",
      "state": {
       "layout": null,
       "max": 200
      }
     },
     "d4d7f197-7d6e-423d-826d-325f88822233": {
      "model_module": "@jupyter-widgets/controls",
      "model_module_version": "2.0.0",
      "model_name": "LabelModel",
      "state": {
       "layout": null,
       "style": null,
       "value": "Hello"
      }
     },
     "dedf77d9-5a13-4116-a006-0a1403752009": {
      "model_module": "@jupyter-widgets/controls",
      "model_module_version": "2.0.0",
      "model_name": "VBoxModel",
      "state": {
       "children": [
        "IPY_MODEL_312bddd4-19ad-48b2-a734-c1a7edb6a0cc",
        "IPY_MODEL_1f981a34-efbb-4026-b97a-c2452f8e2bde"
       ],
       "layout": null
      }
     },
     "e0c31eaa-1b05-4469-9335-f67b04b31e9d": {
      "model_module": "@jupyter-widgets/controls",
      "model_module_version": "2.0.0",
      "model_name": "VBoxModel",
      "state": {
       "children": [
        "IPY_MODEL_91312f9b-7fd0-42eb-8c19-e2ead147fad0",
        "IPY_MODEL_4e562a5d-03c0-4f8d-bcda-fda7b9df2d95"
       ],
       "layout": null
      }
     },
     "e1236be1-86e3-41e7-a682-b2083b862361": {
      "model_module": "@jupyter-widgets/controls",
      "model_module_version": "2.0.0",
      "model_name": "IntProgressModel",
      "state": {
       "layout": null,
       "min": 10,
       "value": 95
      }
     },
     "e2a4f8ae-c10d-4862-9b65-54070b40758f": {
      "model_module": "@jupyter-widgets/controls",
      "model_module_version": "2.0.0",
      "model_name": "SelectModel",
      "state": {
       "_options_labels": [
        "english",
        "french",
        "german"
       ],
       "description": "Select Language",
       "index": 2,
       "layout": null,
       "style": null
      }
     },
     "e4fcb3e0-3dc4-4f67-ba04-b1a2cdd01126": {
      "model_module": "@jupyter-widgets/controls",
      "model_module_version": "2.0.0",
      "model_name": "AccordionModel",
      "state": {
       "children": [
        "IPY_MODEL_a835975a-fe79-4579-9fe0-60b129b25823",
        "IPY_MODEL_777bee6f-ac95-47de-9238-a9662b4731f0"
       ],
       "layout": null,
       "titles": []
      }
     },
     "e63cd188-d4b7-4ffe-8f70-1b44a354b908": {
      "model_module": "@jupyter-widgets/controls",
      "model_module_version": "2.0.0",
      "model_name": "RadioButtonsModel",
      "state": {
       "_options_labels": [
        "Stack 0",
        "Stack 1"
       ],
       "description": "Select stack",
       "index": 0,
       "layout": null,
       "style": null
      }
     },
     "e675a9ad-e691-4a24-9606-56fec14f3946": {
      "model_module": "@jupyter-widgets/controls",
      "model_module_version": "2.0.0",
      "model_name": "DropdownModel",
      "state": {
       "_options_labels": [
        "one",
        "two",
        "three"
       ],
       "description": "Pick a number",
       "index": 2,
       "layout": null,
       "style": null
      }
     },
     "e786bc59-2a35-4a5f-92cb-4f93757af744": {
      "model_module": "@jupyter-widgets/controls",
      "model_module_version": "2.0.0",
      "model_name": "LabelModel",
      "state": {
       "layout": null,
       "style": null,
       "value": "top secret pwd"
      }
     },
     "ead8b465-52ca-4379-aaeb-a59699b62de8": {
      "model_module": "@jupyter-widgets/controls",
      "model_module_version": "2.0.0",
      "model_name": "VBoxModel",
      "state": {
       "children": [
        "IPY_MODEL_16a3876d-da4b-494b-b818-b593f1f6e52b",
        "IPY_MODEL_3d7195ae-b3fe-4231-aeab-509eb2110e25"
       ],
       "layout": null
      }
     },
     "ed1e0ca4-3a78-40ac-91fd-bb0106de33e4": {
      "model_module": "@jupyter-widgets/controls",
      "model_module_version": "2.0.0",
      "model_name": "IntSliderModel",
      "state": {
       "layout": null,
       "value": 89
      }
     },
     "f9d0507a-a0fe-4148-992f-e284a1729bb4": {
      "model_module": "@jupyter-widgets/controls",
      "model_module_version": "2.0.0",
      "model_name": "LabelModel",
      "state": {
       "layout": null,
       "style": null,
       "value": "World"
      }
     }
    },
    "version_major": 2,
    "version_minor": 0
   }
  }
 },
 "nbformat": 4,
 "nbformat_minor": 4
}
