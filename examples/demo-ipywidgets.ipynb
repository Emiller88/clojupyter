{
 "cells": [
  {
   "cell_type": "markdown",
   "metadata": {},
   "source": [
    "# Demo: Interactive Widgets\n",
    "A notebook to explore the ipywidgets interactive widgets with clojupyter kernel.\n",
    "The notebook explores widget creation. For examples of widget composition and interaction see interactive-widgets.ipynb\n",
    "\n",
    "Requires clojupyter-0.3.3.-snapshot."
   ]
  },
  {
   "cell_type": "code",
   "execution_count": null,
   "metadata": {},
   "outputs": [],
   "source": [
    "(require '[clojupyter.widgets.alpha :as alpha])\n",
    "(require '[clojupyter.widgets.ipywidgets :as ipy])\n",
    "(require '[clojure.string :as s]);"
   ]
  },
  {
   "cell_type": "markdown",
   "metadata": {},
   "source": [
    "## Simple Widgets\n",
    "### Text Widgets"
   ]
  },
  {
   "cell_type": "code",
   "execution_count": null,
   "metadata": {},
   "outputs": [],
   "source": [
    "(ipy/label {:value \"My text widget\"})"
   ]
  },
  {
   "cell_type": "code",
   "execution_count": null,
   "metadata": {},
   "outputs": [],
   "source": [
    "(ipy/text {:placeholder \"Hello World\"})"
   ]
  },
  {
   "cell_type": "code",
   "execution_count": null,
   "metadata": {},
   "outputs": [],
   "source": [
    "(ipy/password {:value \"top secret pwd\" :description \"Password\"})"
   ]
  },
  {
   "cell_type": "code",
   "execution_count": null,
   "metadata": {},
   "outputs": [],
   "source": [
    "(ipy/textarea {:placeholder \"Some lengthy description\" :description \"Your Text Here:\" :rows 4})"
   ]
  },
  {
   "cell_type": "code",
   "execution_count": null,
   "metadata": {},
   "outputs": [],
   "source": [
    "(ipy/combobox {:options [\"blue\" \"black\" \"green\" \"yellow\"] :description \"Pick a color\"})"
   ]
  },
  {
   "cell_type": "markdown",
   "metadata": {},
   "source": [
    "Passing the fn directly to the widget does not work, because the fn passed to interactive needs to take a hash-map argument."
   ]
  },
  {
   "cell_type": "code",
   "execution_count": null,
   "metadata": {},
   "outputs": [],
   "source": [
    "(ipy/html {:value \"<p>Hello <b>World</b></p>\" :placeholder \"Some HTML\" :description \"Some HTML\"})"
   ]
  },
  {
   "cell_type": "markdown",
   "metadata": {},
   "source": [
    "Example taken from: https://ipywidgets.readthedocs.io/en/latest/examples/Widget%20List.html#HTML-Math"
   ]
  },
  {
   "cell_type": "code",
   "execution_count": null,
   "metadata": {},
   "outputs": [],
   "source": [
    "(ipy/html-math {:value \"Some math and <i>HTML</i>: \\\\(x^2\\\\) and $$\\\\frac{x+1}{x-1}$$\"})"
   ]
  },
  {
   "cell_type": "markdown",
   "metadata": {},
   "source": [
    "Note: *We need to escape the backslash in order for the above example to work.*"
   ]
  },
  {
   "cell_type": "markdown",
   "metadata": {},
   "source": [
    "____\n",
    "### Boolean Widgets\n"
   ]
  },
  {
   "cell_type": "code",
   "execution_count": null,
   "metadata": {},
   "outputs": [],
   "source": [
    "(ipy/checkbox {:description \"Click Me\" :value true})"
   ]
  },
  {
   "cell_type": "code",
   "execution_count": null,
   "metadata": {},
   "outputs": [],
   "source": [
    "(ipy/toggle-button {:value false :description \"Click to Activate\" :icon \"hand-pointer\"})"
   ]
  },
  {
   "cell_type": "code",
   "execution_count": null,
   "metadata": {},
   "outputs": [],
   "source": [
    "(ipy/valid {:value true :description \"Valid!\"})"
   ]
  },
  {
   "cell_type": "markdown",
   "metadata": {},
   "source": [
    "___\n",
    "### Numeric Widgets"
   ]
  },
  {
   "cell_type": "code",
   "execution_count": null,
   "metadata": {},
   "outputs": [],
   "source": [
    "(ipy/int-slider {:description \"Vertical Slider\" :value 20 :min -10 :max 20\n",
    "                         :orientation \"vertical\"})"
   ]
  },
  {
   "cell_type": "code",
   "execution_count": null,
   "metadata": {},
   "outputs": [],
   "source": [
    "(ipy/float-slider {:description \"Horizontal Slider\" :value (rand) :min 0.0 :max 1.0\n",
    "                           :step 0.01 :readout_format \".2f\"})"
   ]
  },
  {
   "cell_type": "code",
   "execution_count": null,
   "metadata": {},
   "outputs": [],
   "source": [
    "(ipy/float-log-slider {:value 2e5 :base 10.0 :min 4.0 :max 8.0 :step 0.2})"
   ]
  },
  {
   "cell_type": "code",
   "execution_count": null,
   "metadata": {},
   "outputs": [],
   "source": [
    "(ipy/int-range-slider {:value [200 1800] :max 3000 :step 5})"
   ]
  },
  {
   "cell_type": "markdown",
   "metadata": {},
   "source": [
    "Note: *Passing the type fn to most (all?) widgets kills the kernel.*"
   ]
  },
  {
   "cell_type": "code",
   "execution_count": null,
   "metadata": {},
   "outputs": [],
   "source": [
    "(ipy/float-range-slider)"
   ]
  },
  {
   "cell_type": "code",
   "execution_count": null,
   "metadata": {},
   "outputs": [],
   "source": [
    "(ipy/int-progress {:min 10 :max 100 :value 95})"
   ]
  },
  {
   "cell_type": "code",
   "execution_count": null,
   "metadata": {},
   "outputs": [],
   "source": [
    "(ipy/float-progress {:min 0.0 :max 10.0 :step 0.1 :value 4.8})"
   ]
  },
  {
   "cell_type": "code",
   "execution_count": null,
   "metadata": {},
   "outputs": [],
   "source": [
    "(ipy/bounded-int-text {:min 0 :max 100 :step 5})"
   ]
  },
  {
   "cell_type": "code",
   "execution_count": null,
   "metadata": {},
   "outputs": [],
   "source": [
    "(ipy/bounded-float-text {:min 0.0 :max 10.0 :step 0.2})"
   ]
  },
  {
   "cell_type": "code",
   "execution_count": null,
   "metadata": {},
   "outputs": [],
   "source": [
    "(ipy/int-text {:value 233})"
   ]
  },
  {
   "cell_type": "code",
   "execution_count": null,
   "metadata": {},
   "outputs": [],
   "source": [
    "(ipy/float-text {:value 9.33 :min 0.01 :step 0.02})"
   ]
  },
  {
   "cell_type": "markdown",
   "metadata": {},
   "source": [
    "____\n",
    "### Selection Widgets"
   ]
  },
  {
   "cell_type": "code",
   "execution_count": null,
   "metadata": {},
   "outputs": [],
   "source": [
    "(def A (ipy/dropdown {:options [\"one\" \"two\" \"three\"] :value \"three\"}))\n",
    "A"
   ]
  },
  {
   "cell_type": "code",
   "execution_count": null,
   "metadata": {},
   "outputs": [],
   "source": [
    "(ipy/dropdown {:options {:one 1 :two 2 :three 3} :index 2})"
   ]
  },
  {
   "cell_type": "code",
   "execution_count": null,
   "metadata": {},
   "outputs": [],
   "source": [
    "(ipy/dropdown {:options [[\"one\" 1] [\"two\" 2] [\"three\" 3]] :index 2 :description \"Pick a number\"})"
   ]
  },
  {
   "cell_type": "code",
   "execution_count": null,
   "metadata": {},
   "outputs": [],
   "source": [
    "(ipy/box {:children [(ipy/radio-buttons {:options [\"dark\" \"light\"] :description \"A long description here\" :value \"dark\"})]})"
   ]
  },
  {
   "cell_type": "code",
   "execution_count": null,
   "metadata": {},
   "outputs": [],
   "source": [
    "(ipy/select {:options [\"english\" \"french\" \"german\"] :value \"german\" :description \"Select Language\"})"
   ]
  },
  {
   "cell_type": "code",
   "execution_count": null,
   "metadata": {},
   "outputs": [],
   "source": [
    "(ipy/toggle-buttons {:options [\"english\" \"french\" \"german\"] :value \"french\" :description \"A very looooooooooooooooooooooooooong description\" :button_style \"primary\" :disabled true\n",
    "                     :style (ipy/toggle-buttons-style {:button_width \"100px\"})})"
   ]
  },
  {
   "cell_type": "code",
   "execution_count": null,
   "metadata": {},
   "outputs": [],
   "source": [
    "(ipy/select-multiple {:options [\"Guitar\" \"Mandolin\" \"Violin\" \"Bass\"] :value [\"Bass\"] :description \"String Instruments\"})"
   ]
  },
  {
   "cell_type": "code",
   "execution_count": null,
   "metadata": {},
   "outputs": [],
   "source": [
    "(ipy/selection-slider {:options [\"slower\" \"slow\" \"normal\" \"fast\" \"fastest\"] :value \"normal\" :description \"Speed\"})"
   ]
  },
  {
   "cell_type": "code",
   "execution_count": null,
   "metadata": {},
   "outputs": [],
   "source": [
    "(ipy/selection-range-slider {:options (map list [\"slower\" \"slow\" \"normal\" \"fast\" \"fastest\"] (range)) :value [2 2] :description \"Speed\"})"
   ]
  },
  {
   "cell_type": "markdown",
   "metadata": {},
   "source": [
    "____\n",
    "### Container Widgets"
   ]
  },
  {
   "cell_type": "code",
   "execution_count": null,
   "metadata": {},
   "outputs": [],
   "source": [
    "(let [w (ipy/int-slider)\n",
    "      p (ipy/int-slider {:max (* 2 (:max @w))})\n",
    "      _ (ipy/directional-link {:source [w :value] :target [p :value]})]\n",
    "  (ipy/box {:children [w p]}))"
   ]
  },
  {
   "cell_type": "code",
   "execution_count": null,
   "metadata": {},
   "outputs": [],
   "source": [
    "(let [w (ipy/int-slider {:orientation \"vertical\" :value (rand-int 101)})\n",
    "      p (ipy/int-progress {:orientation \"vertical\" :value (:value @w)})]\n",
    "  (.watch w :key0 (fn [_ _ _ new-state] (swap! p assoc :value (:value new-state))))\n",
    "  (ipy/h-box {:children [w p]}))"
   ]
  },
  {
   "cell_type": "markdown",
   "metadata": {},
   "source": [
    "H-box looks and feels identical with a regular box widget."
   ]
  },
  {
   "cell_type": "code",
   "execution_count": null,
   "metadata": {},
   "outputs": [],
   "source": [
    "(let [w (ipy/int-slider)\n",
    "      p (ipy/int-progress)]\n",
    "  (.watch w :key0 (fn [_ _ _ new-state] (swap! p assoc :value (:value new-state))))\n",
    "  (ipy/v-box {:children [w p]}))"
   ]
  },
  {
   "cell_type": "code",
   "execution_count": null,
   "metadata": {},
   "outputs": [],
   "source": [
    "(let [w (ipy/label {:value \"Hello\"})\n",
    "      p (ipy/label {:value \"World\"})]\n",
    "  (ipy/accordion {:children [w p]}))"
   ]
  },
  {
   "cell_type": "code",
   "execution_count": null,
   "metadata": {},
   "outputs": [],
   "source": [
    "(let [w (ipy/label {:value \"Hello\"})\n",
    "      p (ipy/label {:value \"World\"})]\n",
    "  (ipy/tab {:children [w p] :selected_index 0}))"
   ]
  },
  {
   "cell_type": "code",
   "execution_count": null,
   "metadata": {},
   "outputs": [],
   "source": [
    "(let [l0 (ipy/label {:value \"Hello\"})\n",
    "      l1 (ipy/label {:value \"World\"})\n",
    "      s (ipy/stacked {:children [l0 l1] :selected_index 0})\n",
    "      w0 (ipy/radio-buttons {:options [\"Stack 0\" \"Stack 1\"] :description \"Select stack\" :index 0})]\n",
    "  (.watch w0 :key0 (fn [_ _ _ new-state] (swap! s assoc :selected_index (:index new-state))))\n",
    "  (ipy/box {:children [w0 s]}))"
   ]
  },
  {
   "cell_type": "markdown",
   "metadata": {},
   "source": [
    "____\n",
    "### Other Widgets"
   ]
  },
  {
   "cell_type": "code",
   "execution_count": null,
   "metadata": {},
   "outputs": [],
   "source": [
    "(require '[clojure.java.io :as io])\n",
    "(defn slurp-bytes\n",
    "  [^String filename & opt]\n",
    "  (let [file (io/file filename)\n",
    "        buf (byte-array (.length file))]\n",
    "    (with-open [fis (io/make-input-stream file (when opt (apply hash-map opt)))]\n",
    "      (.read fis buf))\n",
    "    buf))"
   ]
  },
  {
   "cell_type": "code",
   "execution_count": null,
   "metadata": {},
   "outputs": [],
   "source": [
    "(let [img (slurp-bytes \"../resources/clojupyter/assets/logo-64x64.png\")]\n",
    "  (ipy/image {:value img :format \"png\" :height \"200\" :width \"120\"}))"
   ]
  },
  {
   "cell_type": "markdown",
   "metadata": {},
   "source": [
    " "
   ]
  },
  {
   "cell_type": "code",
   "execution_count": null,
   "metadata": {},
   "outputs": [],
   "source": [
    "(ipy/button {:description \"Click me\" :on-click (constantly nil)}) "
   ]
  },
  {
   "cell_type": "code",
   "execution_count": null,
   "metadata": {},
   "outputs": [],
   "source": [
    "(let [min 0\n",
    "      max 100\n",
    "      value 30\n",
    "      step 1\n",
    "      w (ipy/play {:value value :min min :max max :step step :interval 500})\n",
    "      prg (ipy/int-progress {:min min :max max :value value})]\n",
    "  (.watch w :key0 (fn [_ _ _ new-state] (swap! prg assoc :value (:value new-state))))\n",
    "  (ipy/h-box {:children [w prg]}))"
   ]
  },
  {
   "cell_type": "code",
   "execution_count": null,
   "metadata": {},
   "outputs": [],
   "source": [
    "(ipy/date-picker {:description \"Pick a date\" :disabled false})"
   ]
  },
  {
   "cell_type": "code",
   "execution_count": null,
   "metadata": {},
   "outputs": [],
   "source": [
    "(ipy/color-picker {:description \"Pick a color\" :value \"blue\" :concise false})"
   ]
  },
  {
   "cell_type": "code",
   "execution_count": null,
   "metadata": {},
   "outputs": [],
   "source": [
    "(def fu (ipy/file-upload))\n",
    "fu"
   ]
  },
  {
   "cell_type": "code",
   "execution_count": null,
   "metadata": {},
   "outputs": [],
   "source": [
    "(let [X (ipy/controller-axis)\n",
    "      B (ipy/controller-button)]\n",
    "  (ipy/controller {:axes [X] :buttons [B]}))"
   ]
  }
 ],
 "metadata": {
  "kernelspec": {
   "display_name": "Clojure (clojupyter-0.3.3-snapshot)",
   "language": "clojure",
   "name": "clojupyter-0.3.3-snapshot"
  },
  "language_info": {
   "file_extension": ".clj",
   "mimetype": "text/x-clojure",
   "name": "clojure",
   "version": "1.10.1"
  },
  "widgets": {
   "application/vnd.jupyter.widget-state+json": {
    "state": {},
    "version_major": 2,
    "version_minor": 0
   }
  }
 },
 "nbformat": 4,
 "nbformat_minor": 4
}
