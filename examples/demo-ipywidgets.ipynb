{
 "cells": [
  {
   "cell_type": "markdown",
   "metadata": {},
   "source": [
    "# Demo: Interactive Widgets\n",
    "A notebook to explore the ipywidgets interactive widgets with clojupyter kernel.\n",
    "\n",
    "Requires clojupyter-0.3.3.-snapshot."
   ]
  },
  {
   "cell_type": "code",
   "execution_count": null,
   "metadata": {},
   "outputs": [],
   "source": [
    "(require '[clojupyter.widgets.alpha :as alpha])\n",
    "(require '[clojupyter.widgets.ipywidgets :as ipy])\n",
    "(require '[clojure.string :as s]);"
   ]
  },
  {
   "cell_type": "markdown",
   "metadata": {},
   "source": [
    "The original example, as posted on [github](https://github.com/clojupyter/clojupyter/issues/74)."
   ]
  },
  {
   "cell_type": "code",
   "execution_count": null,
   "metadata": {},
   "outputs": [],
   "source": [
    "(def IA\n",
    "    (let [myfun (fn [{:keys [a b]}]\n",
    "                  (str a \" + \" b \" = \" (+ a b)))\n",
    "          label (ipy/label)\n",
    "          slider-1 (ipy/int-slider {:value (rand-int 100)})\n",
    "          slider-2 (ipy/int-slider {:value (rand-int 100)})]\n",
    "      (alpha/interactive label myfun {:a slider-1, :b slider-2})))\n",
    "IA"
   ]
  },
  {
   "cell_type": "markdown",
   "metadata": {},
   "source": [
    "## Simple Widgets\n",
    "### Text Widgets\n",
    "Let's build a text widget that returns the reverse upper case of the input string.\n",
    "The function bellow achieves that:"
   ]
  },
  {
   "cell_type": "code",
   "execution_count": null,
   "metadata": {},
   "outputs": [],
   "source": [
    "(def rev-upper (comp s/upper-case (partial reduce str) reverse))"
   ]
  },
  {
   "cell_type": "code",
   "execution_count": null,
   "metadata": {},
   "outputs": [],
   "source": [
    "(rev-upper \"My text\")"
   ]
  },
  {
   "cell_type": "markdown",
   "metadata": {},
   "source": [
    "Passing the fn directly to the widget does not work, because the fn passed to interactive needs to take a hash-map argument."
   ]
  },
  {
   "cell_type": "code",
   "execution_count": null,
   "metadata": {},
   "outputs": [],
   "source": [
    "(let [t (ipy/text {:value \"Hello world\"})\n",
    "      label (ipy/label {:value \"My text widget\"})]\n",
    "  (alpha/interactive label rev-upper {:value t}))"
   ]
  },
  {
   "cell_type": "markdown",
   "metadata": {},
   "source": [
    "We can define a wrapper fn that has the required signature"
   ]
  },
  {
   "cell_type": "code",
   "execution_count": null,
   "metadata": {},
   "outputs": [],
   "source": [
    "(defn mapper\n",
    "  [f]\n",
    "  (fn [{arg :arg}] (f arg)))"
   ]
  },
  {
   "cell_type": "markdown",
   "metadata": {},
   "source": [
    "and pass it to interactive instead of the original fn."
   ]
  },
  {
   "cell_type": "code",
   "execution_count": null,
   "metadata": {},
   "outputs": [],
   "source": [
    "(let [t (ipy/text {:value \"aroma\"})\n",
    "      label (ipy/label)]\n",
    "  (alpha/interactive label (mapper rev-upper) {:arg t}))"
   ]
  },
  {
   "cell_type": "markdown",
   "metadata": {},
   "source": [
    "Password widget is basically the same as text widget, except that the input is not echoed to the user."
   ]
  },
  {
   "cell_type": "code",
   "execution_count": null,
   "metadata": {},
   "outputs": [],
   "source": [
    "(let [t (ipy/password {:value \"top secret pwd\" :description \"Password\"})\n",
    "      label (ipy/label)]\n",
    "  (alpha/interactive label (mapper identity) {:arg t}))"
   ]
  },
  {
   "cell_type": "code",
   "execution_count": null,
   "metadata": {},
   "outputs": [],
   "source": [
    "(let [t (ipy/textarea {:value \"Some lengthy description\" :description \"Your Text Here:\"})\n",
    "      label (ipy/label)]\n",
    "  (alpha/interactive label (mapper #(s/replace % \" \" \"_\")) {:arg t}))"
   ]
  },
  {
   "cell_type": "markdown",
   "metadata": {},
   "source": [
    "Note: *The widget above doesn't allow to resize its width.\n",
    "The same is true when using a python kernel, so it's not an issue with clojupyter.\n",
    "The html element does, however, change its style attributes width & height when resizing it.\n",
    "Tested in Firefox 74.0 (64-bit)*"
   ]
  },
  {
   "cell_type": "code",
   "execution_count": null,
   "metadata": {},
   "outputs": [],
   "source": [
    "(let [t (ipy/combobox {:options [\"blue\" \"black\" \"green\" \"yellow\"]:description \"Pick a color\"})\n",
    "      label (ipy/label)]\n",
    "  (alpha/interactive label (mapper identity) {:arg t}))"
   ]
  },
  {
   "cell_type": "code",
   "execution_count": null,
   "metadata": {},
   "outputs": [],
   "source": [
    "(ipy/html {:value \"<p>Hello <b>World</b></p>\" :placeholder \"Some HTML\" :description \"Some HTML\"})"
   ]
  },
  {
   "cell_type": "markdown",
   "metadata": {},
   "source": [
    "Example taken from: https://ipywidgets.readthedocs.io/en/latest/examples/Widget%20List.html#HTML-Math"
   ]
  },
  {
   "cell_type": "code",
   "execution_count": null,
   "metadata": {},
   "outputs": [],
   "source": [
    "(ipy/html-math {:value \"Some math and <i>HTML</i>: \\\\(x^2\\\\) and $$\\\\frac{x+1}{x-1}$$\"})"
   ]
  },
  {
   "cell_type": "markdown",
   "metadata": {},
   "source": [
    "Note: *We need to escape the backslash in order for the above example to work.*"
   ]
  },
  {
   "cell_type": "markdown",
   "metadata": {},
   "source": [
    "____\n",
    "### Boolean Widgets\n"
   ]
  },
  {
   "cell_type": "code",
   "execution_count": null,
   "metadata": {},
   "outputs": [],
   "source": [
    "(let [w (ipy/checkbox {:description \"Click Me\" :value true})\n",
    "      label (ipy/label)]\n",
    "  (alpha/interactive label (mapper (partial str \"My state: \")) {:arg w}))"
   ]
  },
  {
   "cell_type": "code",
   "execution_count": null,
   "metadata": {},
   "outputs": [],
   "source": [
    "(let [w (ipy/toggle-button {:value false :description \"Click to Activate\" :icon \"hand-pointer\"})]\n",
    "  (alpha/interactive (ipy/label) (mapper {true \"Active\" false \"Inactive\"}) {:arg w}))"
   ]
  },
  {
   "cell_type": "code",
   "execution_count": null,
   "metadata": {},
   "outputs": [],
   "source": [
    "(ipy/valid {:value true :description \"Valid!\"})"
   ]
  },
  {
   "cell_type": "markdown",
   "metadata": {},
   "source": [
    "___\n",
    "### Numeric Widgets"
   ]
  },
  {
   "cell_type": "code",
   "execution_count": null,
   "metadata": {},
   "outputs": [],
   "source": [
    "(let [w (ipy/int-slider {:description \"Double this:\" :value 20 :min -10 :max 20\n",
    "                         :orientation \"vertical\"})\n",
    "      label (ipy/label)]\n",
    "  (alpha/interactive label (mapper (comp str (partial * 2))) {:arg w}))"
   ]
  },
  {
   "cell_type": "markdown",
   "metadata": {},
   "source": [
    "After enforcing the specs, the label widget only works with a string value."
   ]
  },
  {
   "cell_type": "code",
   "execution_count": null,
   "metadata": {},
   "outputs": [],
   "source": [
    "(clojure.spec.alpha/valid?\n",
    " :clojupyter.widgets.ipywidgets/label\n",
    " {:description \"\",\n",
    "  :_view_module \"@jupyter-widgets/controls\",\n",
    "  :placeholder \"​\",\n",
    "  :layout nil,\n",
    "  :value 40,\n",
    "  :_view_module_version \"2.0.0\",\n",
    "  :style nil,\n",
    "  :tabbable nil,\n",
    "  :_view_name \"LabelView\",\n",
    "  :_model_module \"@jupyter-widgets/controls\",\n",
    "  :_model_name \"LabelModel\",\n",
    "  :_dom_classes [],\n",
    "  :tooltip nil,\n",
    "  :_model_module_version \"2.0.0\"})"
   ]
  },
  {
   "cell_type": "code",
   "execution_count": null,
   "metadata": {},
   "outputs": [],
   "source": [
    "(let [w (ipy/float-slider {:description \"Square this:\" :value (rand) :min 0.0 :max 1.0\n",
    "                           :step 0.01 :readout_format \".2f\"})\n",
    "      label (ipy/label)]\n",
    "  (alpha/interactive label (mapper (comp (partial format \"%.3f\") #(* % %))) {:arg w}))"
   ]
  },
  {
   "cell_type": "code",
   "execution_count": null,
   "metadata": {},
   "outputs": [],
   "source": [
    "(let [w (ipy/float-log-slider {:value 2e5 :base 10.0 :min 4.0 :max 8.0 :step 0.2})]\n",
    "  (alpha/interactive (ipy/label) (mapper (comp (partial format \"%.2e\") float (partial / 1))) {:arg w}))"
   ]
  },
  {
   "cell_type": "markdown",
   "metadata": {},
   "source": [
    "**Notes:**\n",
    "\n",
    "*The slider above kills the kernel when dragged.*\n",
    "\n",
    "*The slider does not show up correctly. It is initialized w/ the value 2e5, but it shows up as 2.51e5.*"
   ]
  },
  {
   "cell_type": "code",
   "execution_count": null,
   "metadata": {},
   "outputs": [],
   "source": [
    "(let [w (ipy/int-range-slider {:value [200 1800] :max 3000 :step 5})]\n",
    "  (alpha/interactive (ipy/label) (mapper (comp str #(/ (+ (first %) (last %)) 2))) {:arg w}))"
   ]
  },
  {
   "cell_type": "markdown",
   "metadata": {},
   "source": [
    "Note: *Passing the type fn to most (all?) widgets kills the kernel.*"
   ]
  },
  {
   "cell_type": "code",
   "execution_count": null,
   "metadata": {},
   "outputs": [],
   "source": [
    "(ipy/float-range-slider)"
   ]
  },
  {
   "cell_type": "code",
   "execution_count": null,
   "metadata": {},
   "outputs": [],
   "source": [
    "(ipy/int-progress {:min 10 :max 100 :value 95})"
   ]
  },
  {
   "cell_type": "code",
   "execution_count": null,
   "metadata": {},
   "outputs": [],
   "source": [
    "(ipy/float-progress {:min 0.0 :max 10.0 :step 0.1 :value 4.8})"
   ]
  },
  {
   "cell_type": "markdown",
   "metadata": {},
   "source": [
    "Note: *How does one animate the above progress bars?*"
   ]
  },
  {
   "cell_type": "code",
   "execution_count": null,
   "metadata": {},
   "outputs": [],
   "source": [
    "(ipy/bounded-int-text {:min 0 :max 100 :step 5})"
   ]
  },
  {
   "cell_type": "markdown",
   "metadata": {},
   "source": [
    "Note: *The above widget acts like a bounded-float-text if we pass a float step.*\n",
    "No longer true, now that the widgets get validated."
   ]
  },
  {
   "cell_type": "code",
   "execution_count": null,
   "metadata": {},
   "outputs": [],
   "source": [
    "(ipy/bounded-float-text {:min 0.0 :max 10.0 :step 0.2})"
   ]
  },
  {
   "cell_type": "code",
   "execution_count": null,
   "metadata": {},
   "outputs": [],
   "source": [
    "(ipy/int-text {:value 233})"
   ]
  },
  {
   "cell_type": "code",
   "execution_count": null,
   "metadata": {},
   "outputs": [],
   "source": [
    "(ipy/float-text {:value 9.33 :step 0.02})"
   ]
  },
  {
   "cell_type": "markdown",
   "metadata": {},
   "source": [
    "____\n",
    "### Selection Widgets"
   ]
  },
  {
   "cell_type": "code",
   "execution_count": null,
   "metadata": {},
   "outputs": [],
   "source": [
    "(ipy/dropdown {:options [\"one\" \"two\" \"three\"] :value \"one\" :index 0})"
   ]
  },
  {
   "cell_type": "markdown",
   "metadata": {},
   "source": [
    "Note: *The above example fails. To fix it, one must pass the values to :_options_labels key.\n",
    "The default value does not get passed to the widget.*"
   ]
  },
  {
   "cell_type": "code",
   "execution_count": null,
   "metadata": {},
   "outputs": [],
   "source": [
    "(ipy/dropdown {:_options_labels [\"one\" \"two\" \"three\"] :value \"one\" :description \"Pick a number\"})"
   ]
  },
  {
   "cell_type": "code",
   "execution_count": null,
   "metadata": {},
   "outputs": [],
   "source": []
  },
  {
   "cell_type": "code",
   "execution_count": null,
   "metadata": {},
   "outputs": [],
   "source": [
    "(ipy/dropdown {:_options_labels ['(\"one\" 1) '(\"two\" 2) '(\"three\" 3)] :value \"one\" :description \"Pick a number\"})"
   ]
  },
  {
   "cell_type": "markdown",
   "metadata": {},
   "source": [
    "Note: *The above example does not work. Error: __Error displaying widget__*"
   ]
  },
  {
   "cell_type": "code",
   "execution_count": null,
   "metadata": {},
   "outputs": [],
   "source": [
    "(ipy/radio-buttons {:options [\"dark\" \"light\"] :value \"light\"})"
   ]
  },
  {
   "cell_type": "markdown",
   "metadata": {},
   "source": [
    "Note: *Just as dropdown, the widget fails when passing the values to :options and :values does not work as default values.*"
   ]
  },
  {
   "cell_type": "code",
   "execution_count": null,
   "metadata": {},
   "outputs": [],
   "source": [
    "(ipy/radio-buttons {:_options_labels [\"dark\" \"light\"] :description \"Theme\"})"
   ]
  },
  {
   "cell_type": "code",
   "execution_count": null,
   "metadata": {},
   "outputs": [],
   "source": [
    "(ipy/select {:options [\"english\" \"french\" \"german\"] :value \"french\"})"
   ]
  },
  {
   "cell_type": "code",
   "execution_count": null,
   "metadata": {},
   "outputs": [],
   "source": [
    "(ipy/select {:_options_labels [\"english\" \"french\" \"german\"] :value \"french\" :description \"Language\"})"
   ]
  },
  {
   "cell_type": "markdown",
   "metadata": {},
   "source": [
    "Note: *Just as dropdown, the widget fails when passing the values to :options and :values does not work as default values.*"
   ]
  },
  {
   "cell_type": "code",
   "execution_count": null,
   "metadata": {},
   "outputs": [],
   "source": [
    "(ipy/selection-slider {:options [\"slower\" \"slow\" \"normal\" \"fast\" \"fastest\"] :value \"french\" :description \"Speed\"})"
   ]
  },
  {
   "cell_type": "code",
   "execution_count": null,
   "metadata": {},
   "outputs": [],
   "source": [
    "(ipy/selection-slider {:_options_labels [\"slower\" \"slow\" \"normal\" \"fast\" \"fastest\"] :value \"normal\" :description \"Speed\"})"
   ]
  },
  {
   "cell_type": "markdown",
   "metadata": {},
   "source": [
    "Note: *Just as dropdown, the widget fails when passing the values to :options and :values does not work as default values.*"
   ]
  },
  {
   "cell_type": "code",
   "execution_count": null,
   "metadata": {},
   "outputs": [],
   "source": [
    "(ipy/selection-range-slider {:options (map list [\"slower\" \"slow\" \"normal\" \"fast\" \"fastest\"] (range)):value \"french\" :description \"Speed\"})"
   ]
  },
  {
   "cell_type": "code",
   "execution_count": null,
   "metadata": {},
   "outputs": [],
   "source": [
    "(ipy/selection-range-slider {:_options_labels (map list [\"slower\" \"slow\" \"normal\" \"fast\" \"fastest\"] (range)):value \"french\" :description \"Speed\"})"
   ]
  },
  {
   "cell_type": "markdown",
   "metadata": {},
   "source": [
    "Note: *Just as dropdown, the widget fails when passing the values to :options and :values does not work as default values.*"
   ]
  },
  {
   "cell_type": "code",
   "execution_count": null,
   "metadata": {},
   "outputs": [],
   "source": [
    "(ipy/toggle-buttons {:options [\"english\" \"french\" \"german\"] :value \"french\" :description \"Language\"})"
   ]
  },
  {
   "cell_type": "code",
   "execution_count": null,
   "metadata": {},
   "outputs": [],
   "source": [
    "(let [w (ipy/toggle-buttons {:_options_labels [\"english\" \"french\" \"german\"] :value \"none\" :description \"Language\"})]\n",
    "  (alpha/interactive (ipy/label) (mapper identity) {:arg w}))"
   ]
  },
  {
   "cell_type": "markdown",
   "metadata": {},
   "source": [
    "Note: *Just as dropdown, the widget fails when passing the values to :options and :values does not work as default values.*\n",
    "Note: *Clicking on any of the above buttons kills the kernel.*"
   ]
  },
  {
   "cell_type": "code",
   "execution_count": null,
   "metadata": {},
   "outputs": [],
   "source": [
    "(ipy/select-multiple {:options [\"Guitar\" \"Mandolin\" \"Violin\" \"Bass\"] :value \"Mandolin\" :description \"String Instruments\"})"
   ]
  },
  {
   "cell_type": "code",
   "execution_count": null,
   "metadata": {},
   "outputs": [],
   "source": [
    "(let [w (ipy/select-multiple {:_options_labels [\"Guitar\" \"Mandolin\" \"Violin\" \"Bass\"] :value \"Mandolin\" :description \"String Instruments\"})]\n",
    "  (alpha/interactive (ipy/label) (mapper identity) {:arg w}))"
   ]
  },
  {
   "cell_type": "markdown",
   "metadata": {},
   "source": [
    "Note: *Just as dropdown, the widget fails when passing the values to :options and :values does not work as default values.*\n",
    "Note: *The above widget has has no output.*"
   ]
  },
  {
   "cell_type": "markdown",
   "metadata": {},
   "source": [
    "____\n",
    "### Container Widgets"
   ]
  },
  {
   "cell_type": "code",
   "execution_count": null,
   "metadata": {},
   "outputs": [],
   "source": [
    "(let [w (ipy/int-slider)\n",
    "      p (ipy/int-progress)]\n",
    "  (.watch w :key0 (fn [_ _ _ new-state] (swap! p assoc :value (:value new-state))))\n",
    "  (ipy/box {:children [w p]}))"
   ]
  },
  {
   "cell_type": "code",
   "execution_count": null,
   "metadata": {},
   "outputs": [],
   "source": [
    "(let [w (ipy/int-slider {:orientation \"vertical\" :value (rand-int 101)})\n",
    "      p (ipy/int-progress {:orientation \"vertical\"})]\n",
    "  (.watch w :key0 (fn [_ _ _ new-state] (swap! p assoc :value (:value new-state))))\n",
    "  (ipy/h-box {:children [w p]}))"
   ]
  },
  {
   "cell_type": "markdown",
   "metadata": {},
   "source": [
    "H-box looks and feels identical with a regular box widget."
   ]
  },
  {
   "cell_type": "code",
   "execution_count": null,
   "metadata": {},
   "outputs": [],
   "source": [
    "(let [w (ipy/int-slider)\n",
    "      p (ipy/int-progress)]\n",
    "  (.watch w :key0 (fn [_ _ _ new-state] (swap! p assoc :value (:value new-state))))\n",
    "  (ipy/v-box {:children [w p]}))"
   ]
  },
  {
   "cell_type": "code",
   "execution_count": null,
   "metadata": {},
   "outputs": [],
   "source": [
    "(let [w (ipy/label {:value \"Hello\"})\n",
    "      p (ipy/label {:value \"World\"})]\n",
    "  (ipy/accordion {:children [w p]}))"
   ]
  },
  {
   "cell_type": "code",
   "execution_count": null,
   "metadata": {},
   "outputs": [],
   "source": [
    "(let [w (ipy/label {:value \"Hello\"})\n",
    "      p (ipy/label {:value \"World\"})]\n",
    "  (ipy/tab {:children [w p]}))"
   ]
  },
  {
   "cell_type": "code",
   "execution_count": null,
   "metadata": {},
   "outputs": [],
   "source": [
    "(let [l0 (ipy/label {:value \"Hello\"})\n",
    "      l1 (ipy/label {:value \"World\"})\n",
    "      s (ipy/stacked {:children [l0 l1] :selected_index 0})\n",
    "      w0 (ipy/radio-buttons {:_options_labels [\"Stack 0\" \"Stack 1\"] :description \"Select stack\"})]\n",
    "  (.watch w0 :key0 (fn [_ _ _ new-state] (swap! s assoc :selected_index (:index new-state))))\n",
    "  (ipy/box {:children [w0 s]}))"
   ]
  },
  {
   "cell_type": "code",
   "execution_count": null,
   "metadata": {},
   "outputs": [],
   "source": []
  },
  {
   "cell_type": "code",
   "execution_count": null,
   "metadata": {},
   "outputs": [],
   "source": []
  },
  {
   "cell_type": "markdown",
   "metadata": {},
   "source": [
    "____\n",
    "### Other Widgets"
   ]
  },
  {
   "cell_type": "code",
   "execution_count": null,
   "metadata": {},
   "outputs": [],
   "source": [
    "(require '[clojure.java.io :as io])\n",
    "(defn slurp-bytes\n",
    "  [^String filename & opt]\n",
    "  (let [file (io/file filename)\n",
    "        buf (byte-array (.length file))]\n",
    "    (with-open [fis (io/make-input-stream file (when opt (apply hash-map opt)))]\n",
    "      (.read fis buf))\n",
    "    buf))"
   ]
  },
  {
   "cell_type": "code",
   "execution_count": null,
   "metadata": {},
   "outputs": [],
   "source": [
    "(let [img (slurp-bytes \"../resources/clojupyter/assets/logo-64x64.png\")]\n",
    "  (ipy/image {:value img :format \"png\" :height \"200\" :width \"120\"}))"
   ]
  },
  {
   "cell_type": "markdown",
   "metadata": {},
   "source": [
    " "
   ]
  },
  {
   "cell_type": "code",
   "execution_count": null,
   "metadata": {},
   "outputs": [],
   "source": [
    "(let [w (ipy/button {:description \"Click Here\"})]\n",
    "  (alpha/interactive (ipy/label) (mapper identity) {:arg w}))  "
   ]
  },
  {
   "cell_type": "markdown",
   "metadata": {},
   "source": [
    "Note: *Clicking on the above button kills the kernel.*\n",
    "\n",
    "The widget sends a custom method on click that is not handled correctly."
   ]
  },
  {
   "cell_type": "code",
   "execution_count": null,
   "metadata": {},
   "outputs": [],
   "source": [
    "(let [min 0\n",
    "      max 100\n",
    "      value 30\n",
    "      step 1\n",
    "      w (ipy/play {:value value :min min :max max :step step :interval 500})\n",
    "      prg (ipy/int-progress {:min min :max max :value value})]\n",
    "  (.watch w :key0 (fn [_ _ _ new-state] (swap! prg assoc :value (:value new-state))))\n",
    "  (ipy/h-box {:children [w prg]}))"
   ]
  },
  {
   "cell_type": "markdown",
   "metadata": {},
   "source": [
    "Note: *As per [example](https://ipywidgets.readthedocs.io/en/latest/examples/Widget%20List.html#Play-(Animation)-widget).\n",
    "Currently, we are missing the jslink function to link two widgets.*"
   ]
  },
  {
   "cell_type": "code",
   "execution_count": null,
   "metadata": {},
   "outputs": [],
   "source": [
    "(let [w (ipy/date-picker {:description \"Pick a date\" :disabled false})]\n",
    "  (alpha/interactive (ipy/label) (mapper identity) {:arg w}))"
   ]
  },
  {
   "cell_type": "code",
   "execution_count": null,
   "metadata": {},
   "outputs": [],
   "source": [
    "(let [w (ipy/color-picker {:description \"Pick a color\" :value \"blue\" :concise false})]\n",
    "  (alpha/interactive (ipy/label) (mapper identity) {:arg w}))"
   ]
  },
  {
   "cell_type": "code",
   "execution_count": null,
   "metadata": {},
   "outputs": [],
   "source": [
    "(def fu (ipy/file-upload))\n",
    "fu"
   ]
  },
  {
   "cell_type": "markdown",
   "metadata": {},
   "source": [
    "Looking at the contents of fu atom we don't see any obvious way to access the contents of the uploaded file, only the metadata."
   ]
  },
  {
   "cell_type": "code",
   "execution_count": null,
   "metadata": {},
   "outputs": [],
   "source": [
    "@fu"
   ]
  },
  {
   "cell_type": "code",
   "execution_count": null,
   "metadata": {},
   "outputs": [],
   "source": [
    "(ipy/controller)"
   ]
  },
  {
   "cell_type": "markdown",
   "metadata": {},
   "source": [
    "Not tested: dom-widget, directional-link,  grid-box, layout, link, progress-style, slider-style, widget-display-data"
   ]
  },
  {
   "cell_type": "code",
   "execution_count": null,
   "metadata": {},
   "outputs": [],
   "source": []
  },
  {
   "cell_type": "code",
   "execution_count": null,
   "metadata": {},
   "outputs": [],
   "source": []
  },
  {
   "cell_type": "code",
   "execution_count": null,
   "metadata": {},
   "outputs": [],
   "source": []
  }
 ],
 "metadata": {
  "kernelspec": {
   "display_name": "Clojure (clojupyter-0.3.3-snapshot)",
   "language": "clojure",
   "name": "clojupyter-0.3.3-snapshot"
  },
  "language_info": {
   "file_extension": ".clj",
   "mimetype": "text/x-clojure",
   "name": "clojure",
   "version": "1.10.1"
  }
 },
 "nbformat": 4,
 "nbformat_minor": 4
}
