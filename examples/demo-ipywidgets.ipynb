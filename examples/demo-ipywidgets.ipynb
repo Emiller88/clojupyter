{
 "cells": [
  {
   "cell_type": "markdown",
   "metadata": {},
   "source": [
    "# Demo: Interactive Widgets\n",
    "A notebook to explore the ipywidgets interactive widgets with clojupyter kernel.\n",
    "\n",
    "Requires clojupyter-0.3.3.-snapshot."
   ]
  },
  {
   "cell_type": "code",
   "execution_count": 1,
   "metadata": {},
   "outputs": [
    {
     "data": {
      "text/plain": [
       "nil"
      ]
     },
     "execution_count": 1,
     "metadata": {},
     "output_type": "execute_result"
    }
   ],
   "source": [
    "(require '[clojupyter.widgets.alpha :as alpha])\n",
    "(require '[clojupyter.widgets.ipywidgets :as ipy])\n",
    "(require '[clojure.string :as s])"
   ]
  },
  {
   "cell_type": "markdown",
   "metadata": {},
   "source": [
    "The original example, as posted on [github](https://github.com/clojupyter/clojupyter/issues/74)."
   ]
  },
  {
   "cell_type": "code",
   "execution_count": 2,
   "metadata": {},
   "outputs": [
    {
     "data": {
      "application/vnd.jupyter.widget-view+json": {
       "model_id": "60eff948-9c4f-440c-85bc-ac1b5cde68e6",
       "version_major": 2,
       "version_minor": 0
      },
      "text/plain": [
       "[60eff948-9c4f-440c-85bc-ac1b5cde68e6]={:_view_module \"@jupyter-widgets/controls\", :children [#<CommAtom@fce43234:\n",
       "  {:description \"\",\n",
       "   :_view_module \"@jupyter-widgets/controls\",\n",
       "   :min 0,\n",
       "   :disabled false,\n",
       "   :layout nil,\n",
       "   :value 74,\n",
       "   :orientation \"horizontal\",\n",
       "   :_view_module_version \"1.5.0\",\n",
       "   :continuous_update true,\n",
       "   :style nil,\n",
       "   :max 100,\n",
       "   :readout_format \"d\",\n",
       "   :_view_name \"IntSliderView\",\n",
       "   :_model_module \"@jupyter-widgets/controls\",\n",
       "   :readout true,\n",
       "   :description_tooltip nil,\n",
       "   :_model_name \"IntSliderModel\",\n",
       "   :_dom_classes [],\n",
       "   :step 1,\n",
       "   :_model_module_version \"1.5.0\"} #<CommAtom@e51d52ff:\n",
       "  {:description \"\",\n",
       "   :_view_module \"@jupyter-widgets/controls\",\n",
       "   :min 0,\n",
       "   :disabled false,\n",
       "   :layout nil,\n",
       "   :value 24,\n",
       "   :orientation \"horizontal\",\n",
       "   :_view_module_version \"1.5.0\",\n",
       "   :continuous_update true,\n",
       "   :style nil,\n",
       "   :max 100,\n",
       "   :readout_format \"d\",\n",
       "   :_view_name \"IntSliderView\",\n",
       "   :_model_module \"@jupyter-widgets/controls\",\n",
       "   :readout true,\n",
       "   :description_tooltip nil,\n",
       "   :_model_name \"IntSliderModel\",\n",
       "   :_dom_classes [],\n",
       "   :step 1,\n",
       "   :_model_module_version \"1.5.0\"} #<CommAtom@70c8091e:\n",
       "  {:description \"\",\n",
       "   :_view_module \"@jupyter-widgets/controls\",\n",
       "   :placeholder \"​\",\n",
       "   :layout nil,\n",
       "   :value \"74 + 24 = 98\",\n",
       "   :_view_module_version \"1.5.0\",\n",
       "   :style nil,\n",
       "   :_view_name \"LabelView\",\n",
       "   :_model_module \"@jupyter-widgets/controls\",\n",
       "   :description_tooltip nil,\n",
       "   :_model_name \"LabelModel\",\n",
       "   :_dom_classes [],\n",
       "   :_model_module_version \"1.5.0\"}], :layout nil, :box_style \"\", :_view_module_version \"1.5.0\", :_view_name \"VBoxView\", :_model_module \"@jupyter-widgets/controls\", :_model_name \"VBoxModel\", :_dom_classes [], :_model_module_version \"1.5.0\"}"
      ]
     },
     "execution_count": 2,
     "metadata": {},
     "output_type": "execute_result"
    }
   ],
   "source": [
    "(def IA\n",
    "    (let [myfun (fn [{:keys [a b]}]\n",
    "                  (str a \" + \" b \" = \" (+ a b)))\n",
    "          label (ipy/label)\n",
    "          slider-1 (ipy/int-slider {:value (rand-int 100)})\n",
    "          slider-2 (ipy/int-slider {:value (rand-int 100)})]\n",
    "        (alpha/interactive label myfun {:a slider-1, :b slider-2})))\n",
    "IA"
   ]
  },
  {
   "cell_type": "markdown",
   "metadata": {},
   "source": [
    "## Simple Widgets\n",
    "### Text Widgets\n",
    "Let's build a text widget that returns the reverse upper case of the input string.\n",
    "The function bellow achieves that:"
   ]
  },
  {
   "cell_type": "code",
   "execution_count": 3,
   "metadata": {},
   "outputs": [
    {
     "data": {
      "text/plain": [
       "#'user/rev-upper"
      ]
     },
     "execution_count": 3,
     "metadata": {},
     "output_type": "execute_result"
    }
   ],
   "source": [
    "(def rev-upper (comp s/upper-case (partial reduce str) reverse))"
   ]
  },
  {
   "cell_type": "code",
   "execution_count": 4,
   "metadata": {},
   "outputs": [
    {
     "data": {
      "text/plain": [
       "\"TXET YM\""
      ]
     },
     "execution_count": 4,
     "metadata": {},
     "output_type": "execute_result"
    }
   ],
   "source": [
    "(rev-upper \"My text\")"
   ]
  },
  {
   "cell_type": "markdown",
   "metadata": {},
   "source": [
    "Passing the fn directly to the widget does not work, because the fn passed to interactive needs to take a hash-map argument."
   ]
  },
  {
   "cell_type": "code",
   "execution_count": 5,
   "metadata": {},
   "outputs": [
    {
     "data": {
      "application/vnd.jupyter.widget-view+json": {
       "model_id": "0e5a657f-38c2-4a84-9183-1682b04f30ac",
       "version_major": 2,
       "version_minor": 0
      },
      "text/plain": [
       "[0e5a657f-38c2-4a84-9183-1682b04f30ac]={:_view_module \"@jupyter-widgets/controls\", :children [#<CommAtom@2298b6d4:\n",
       "  {:description \"\",\n",
       "   :_view_module \"@jupyter-widgets/controls\",\n",
       "   :placeholder \"​\",\n",
       "   :disabled false,\n",
       "   :layout nil,\n",
       "   :value \"Hello world\",\n",
       "   :_view_module_version \"1.5.0\",\n",
       "   :continuous_update true,\n",
       "   :style nil,\n",
       "   :_view_name \"TextView\",\n",
       "   :_model_module \"@jupyter-widgets/controls\",\n",
       "   :description_tooltip nil,\n",
       "   :_model_name \"TextModel\",\n",
       "   :_dom_classes [],\n",
       "   :_model_module_version \"1.5.0\"} #<CommAtom@3077f490:\n",
       "  {:description \"\",\n",
       "   :_view_module \"@jupyter-widgets/controls\",\n",
       "   :placeholder \"​\",\n",
       "   :layout nil,\n",
       "   :value \"[:VALUE \\\"HELLO WORLD\\\"]\",\n",
       "   :_view_module_version \"1.5.0\",\n",
       "   :style nil,\n",
       "   :_view_name \"LabelView\",\n",
       "   :_model_module \"@jupyter-widgets/controls\",\n",
       "   :description_tooltip nil,\n",
       "   :_model_name \"LabelModel\",\n",
       "   :_dom_classes [],\n",
       "   :_model_module_version \"1.5.0\"}], :layout nil, :box_style \"\", :_view_module_version \"1.5.0\", :_view_name \"VBoxView\", :_model_module \"@jupyter-widgets/controls\", :_model_name \"VBoxModel\", :_dom_classes [], :_model_module_version \"1.5.0\"}"
      ]
     },
     "execution_count": 5,
     "metadata": {},
     "output_type": "execute_result"
    }
   ],
   "source": [
    "(let [t (ipy/text {:value \"Hello world\"})\n",
    "      label (ipy/label {:value \"My text widget\"})]\n",
    "  (alpha/interactive label rev-upper {:value t}))"
   ]
  },
  {
   "cell_type": "markdown",
   "metadata": {},
   "source": [
    "We can define a wrapper fn that has the required signature"
   ]
  },
  {
   "cell_type": "code",
   "execution_count": 6,
   "metadata": {},
   "outputs": [
    {
     "data": {
      "text/plain": [
       "#'user/mapper"
      ]
     },
     "execution_count": 6,
     "metadata": {},
     "output_type": "execute_result"
    }
   ],
   "source": [
    "(defn mapper\n",
    "  [f]\n",
    "  (fn [{arg :arg}] (f arg)))"
   ]
  },
  {
   "cell_type": "markdown",
   "metadata": {},
   "source": [
    "and pass it to interactive instead of the original fn."
   ]
  },
  {
   "cell_type": "code",
   "execution_count": 7,
   "metadata": {},
   "outputs": [
    {
     "data": {
      "application/vnd.jupyter.widget-view+json": {
       "model_id": "148c17d0-611c-476e-9a3f-dcc6812a88dd",
       "version_major": 2,
       "version_minor": 0
      },
      "text/plain": [
       "[148c17d0-611c-476e-9a3f-dcc6812a88dd]={:_view_module \"@jupyter-widgets/controls\", :children [#<CommAtom@5bf770d0:\n",
       "  {:description \"\",\n",
       "   :_view_module \"@jupyter-widgets/controls\",\n",
       "   :placeholder \"​\",\n",
       "   :disabled false,\n",
       "   :layout nil,\n",
       "   :value \"aroma\",\n",
       "   :_view_module_version \"1.5.0\",\n",
       "   :continuous_update true,\n",
       "   :style nil,\n",
       "   :_view_name \"TextView\",\n",
       "   :_model_module \"@jupyter-widgets/controls\",\n",
       "   :description_tooltip nil,\n",
       "   :_model_name \"TextModel\",\n",
       "   :_dom_classes [],\n",
       "   :_model_module_version \"1.5.0\"} #<CommAtom@0cd4cc6f:\n",
       "  {:description \"\",\n",
       "   :_view_module \"@jupyter-widgets/controls\",\n",
       "   :placeholder \"​\",\n",
       "   :layout nil,\n",
       "   :value \"AMORA\",\n",
       "   :_view_module_version \"1.5.0\",\n",
       "   :style nil,\n",
       "   :_view_name \"LabelView\",\n",
       "   :_model_module \"@jupyter-widgets/controls\",\n",
       "   :description_tooltip nil,\n",
       "   :_model_name \"LabelModel\",\n",
       "   :_dom_classes [],\n",
       "   :_model_module_version \"1.5.0\"}], :layout nil, :box_style \"\", :_view_module_version \"1.5.0\", :_view_name \"VBoxView\", :_model_module \"@jupyter-widgets/controls\", :_model_name \"VBoxModel\", :_dom_classes [], :_model_module_version \"1.5.0\"}"
      ]
     },
     "execution_count": 7,
     "metadata": {},
     "output_type": "execute_result"
    }
   ],
   "source": [
    "(let [t (ipy/text {:value \"aroma\"})\n",
    "      label (ipy/label)]\n",
    "  (alpha/interactive label (mapper rev-upper) {:arg t}))"
   ]
  },
  {
   "cell_type": "markdown",
   "metadata": {},
   "source": [
    "Password widget is basically the same as text widget, except that the input is not echoed to the user."
   ]
  },
  {
   "cell_type": "code",
   "execution_count": 8,
   "metadata": {},
   "outputs": [
    {
     "data": {
      "application/vnd.jupyter.widget-view+json": {
       "model_id": "a0f3f3a6-e250-420d-a8c0-569a7aa1eed6",
       "version_major": 2,
       "version_minor": 0
      },
      "text/plain": [
       "[a0f3f3a6-e250-420d-a8c0-569a7aa1eed6]={:_view_module \"@jupyter-widgets/controls\", :children [#<CommAtom@f41d69ad:\n",
       "  {:description \"Password\",\n",
       "   :_view_module \"@jupyter-widgets/controls\",\n",
       "   :placeholder \"​\",\n",
       "   :disabled false,\n",
       "   :layout nil,\n",
       "   :value \"top secret pwd\",\n",
       "   :_view_module_version \"1.5.0\",\n",
       "   :continuous_update true,\n",
       "   :style nil,\n",
       "   :_view_name \"PasswordView\",\n",
       "   :_model_module \"@jupyter-widgets/controls\",\n",
       "   :description_tooltip nil,\n",
       "   :_model_name \"PasswordModel\",\n",
       "   :_dom_classes [],\n",
       "   :_model_module_version \"1.5.0\"} #<CommAtom@29af470d:\n",
       "  {:description \"\",\n",
       "   :_view_module \"@jupyter-widgets/controls\",\n",
       "   :placeholder \"​\",\n",
       "   :layout nil,\n",
       "   :value \"top secret pwd\",\n",
       "   :_view_module_version \"1.5.0\",\n",
       "   :style nil,\n",
       "   :_view_name \"LabelView\",\n",
       "   :_model_module \"@jupyter-widgets/controls\",\n",
       "   :description_tooltip nil,\n",
       "   :_model_name \"LabelModel\",\n",
       "   :_dom_classes [],\n",
       "   :_model_module_version \"1.5.0\"}], :layout nil, :box_style \"\", :_view_module_version \"1.5.0\", :_view_name \"VBoxView\", :_model_module \"@jupyter-widgets/controls\", :_model_name \"VBoxModel\", :_dom_classes [], :_model_module_version \"1.5.0\"}"
      ]
     },
     "execution_count": 8,
     "metadata": {},
     "output_type": "execute_result"
    }
   ],
   "source": [
    "(let [t (ipy/password {:value \"top secret pwd\" :description \"Password\"})\n",
    "      label (ipy/label)]\n",
    "  (alpha/interactive label (mapper identity) {:arg t}))"
   ]
  },
  {
   "cell_type": "code",
   "execution_count": 9,
   "metadata": {},
   "outputs": [
    {
     "data": {
      "application/vnd.jupyter.widget-view+json": {
       "model_id": "eecda42a-95fb-4cf5-9a28-5bf373743e53",
       "version_major": 2,
       "version_minor": 0
      },
      "text/plain": [
       "[eecda42a-95fb-4cf5-9a28-5bf373743e53]={:_view_module \"@jupyter-widgets/controls\", :children [#<CommAtom@f1b4bb56:\n",
       "  {:description \"Your Text Here:\",\n",
       "   :_view_module \"@jupyter-widgets/controls\",\n",
       "   :placeholder \"​\",\n",
       "   :disabled false,\n",
       "   :layout nil,\n",
       "   :value \"Some lengthy description\",\n",
       "   :_view_module_version \"1.5.0\",\n",
       "   :continuous_update true,\n",
       "   :style nil,\n",
       "   :rows nil,\n",
       "   :_view_name \"TextareaView\",\n",
       "   :_model_module \"@jupyter-widgets/controls\",\n",
       "   :description_tooltip nil,\n",
       "   :_model_name \"TextareaModel\",\n",
       "   :_dom_classes [],\n",
       "   :_model_module_version \"1.5.0\"} #<CommAtom@cd24d48f:\n",
       "  {:description \"\",\n",
       "   :_view_module \"@jupyter-widgets/controls\",\n",
       "   :placeholder \"​\",\n",
       "   :layout nil,\n",
       "   :value \"Some_lengthy_description\",\n",
       "   :_view_module_version \"1.5.0\",\n",
       "   :style nil,\n",
       "   :_view_name \"LabelView\",\n",
       "   :_model_module \"@jupyter-widgets/controls\",\n",
       "   :description_tooltip nil,\n",
       "   :_model_name \"LabelModel\",\n",
       "   :_dom_classes [],\n",
       "   :_model_module_version \"1.5.0\"}], :layout nil, :box_style \"\", :_view_module_version \"1.5.0\", :_view_name \"VBoxView\", :_model_module \"@jupyter-widgets/controls\", :_model_name \"VBoxModel\", :_dom_classes [], :_model_module_version \"1.5.0\"}"
      ]
     },
     "execution_count": 9,
     "metadata": {},
     "output_type": "execute_result"
    }
   ],
   "source": [
    "(let [t (ipy/textarea {:value \"Some lengthy description\" :description \"Your Text Here:\"})\n",
    "      label (ipy/label)]\n",
    "  (alpha/interactive label (mapper #(s/replace % \" \" \"_\")) {:arg t}))"
   ]
  },
  {
   "cell_type": "markdown",
   "metadata": {},
   "source": [
    "Note: *The widget above doesn't allow to resize its width.\n",
    "The same is true when using a python kernel, so it's not an issue with clojupyter.\n",
    "The html element does, however, change its style attributes width & height when resizing it.\n",
    "Tested in Firefox 74.0 (64-bit)*"
   ]
  },
  {
   "cell_type": "code",
   "execution_count": 10,
   "metadata": {},
   "outputs": [
    {
     "data": {
      "application/vnd.jupyter.widget-view+json": {
       "model_id": "17dbe65f-7f6b-48c7-9508-adafeadaf969",
       "version_major": 2,
       "version_minor": 0
      },
      "text/plain": [
       "[17dbe65f-7f6b-48c7-9508-adafeadaf969]={:_view_module \"@jupyter-widgets/controls\", :children [#<CommAtom@82534847:\n",
       "  {:description \"Pick a color\",\n",
       "   :_view_module \"@jupyter-widgets/controls\",\n",
       "   :placeholder \"​\",\n",
       "   :disabled false,\n",
       "   :layout nil,\n",
       "   :value \"\",\n",
       "   :_view_module_version \"1.5.0\",\n",
       "   :continuous_update true,\n",
       "   :style nil,\n",
       "   :options [\"blue\" \"black\" \"green\" \"yellow\"],\n",
       "   :_view_name \"ComboboxView\",\n",
       "   :_model_module \"@jupyter-widgets/controls\",\n",
       "   :description_tooltip nil,\n",
       "   :ensure_option false,\n",
       "   :_model_name \"ComboboxModel\",\n",
       "   :_dom_classes [],\n",
       "   :_model_module_version \"1.5.0\"} #<CommAtom@1093d8a9:\n",
       "  {:description \"\",\n",
       "   :_view_module \"@jupyter-widgets/controls\",\n",
       "   :placeholder \"​\",\n",
       "   :layout nil,\n",
       "   :value \"\",\n",
       "   :_view_module_version \"1.5.0\",\n",
       "   :style nil,\n",
       "   :_view_name \"LabelView\",\n",
       "   :_model_module \"@jupyter-widgets/controls\",\n",
       "   :description_tooltip nil,\n",
       "   :_model_name \"LabelModel\",\n",
       "   :_dom_classes [],\n",
       "   :_model_module_version \"1.5.0\"}], :layout nil, :box_style \"\", :_view_module_version \"1.5.0\", :_view_name \"VBoxView\", :_model_module \"@jupyter-widgets/controls\", :_model_name \"VBoxModel\", :_dom_classes [], :_model_module_version \"1.5.0\"}"
      ]
     },
     "execution_count": 10,
     "metadata": {},
     "output_type": "execute_result"
    }
   ],
   "source": [
    "(let [t (ipy/combobox {:options [\"blue\" \"black\" \"green\" \"yellow\"]:description \"Pick a color\"})\n",
    "      label (ipy/label)]\n",
    "  (alpha/interactive label (mapper identity) {:arg t}))"
   ]
  },
  {
   "cell_type": "code",
   "execution_count": 11,
   "metadata": {},
   "outputs": [
    {
     "data": {
      "application/vnd.jupyter.widget-view+json": {
       "model_id": "4ac87017-c6c1-4fc2-b510-b90f19875a31",
       "version_major": 2,
       "version_minor": 0
      },
      "text/plain": [
       "[4ac87017-c6c1-4fc2-b510-b90f19875a31]={:description \"Some HTML\", :_view_module \"@jupyter-widgets/controls\", :placeholder \"Some HTML\", :layout nil, :value \"<p>Hello <b>World</b></p>\", :_view_module_version \"1.5.0\", :style nil, :_view_name \"HTMLView\", :_model_module \"@jupyter-widgets/controls\", :description_tooltip nil, :_model_name \"HTMLModel\", :_dom_classes [], :_model_module_version \"1.5.0\"}"
      ]
     },
     "execution_count": 11,
     "metadata": {},
     "output_type": "execute_result"
    }
   ],
   "source": [
    "(ipy/html {:value \"<p>Hello <b>World</b></p>\" :placeholder \"Some HTML\" :description \"Some HTML\"})"
   ]
  },
  {
   "cell_type": "markdown",
   "metadata": {},
   "source": [
    "Example taken from: https://ipywidgets.readthedocs.io/en/latest/examples/Widget%20List.html#HTML-Math"
   ]
  },
  {
   "cell_type": "code",
   "execution_count": 12,
   "metadata": {},
   "outputs": [
    {
     "name": "stderr",
     "output_type": "stream",
     "text": [
      "Syntax error reading source at (REPL:1:54).\n",
      "Unsupported escape character: \\(\n"
     ]
    },
    {
     "ename": "class clojure.lang.ExceptionInfo",
     "evalue": "",
     "execution_count": 12,
     "output_type": "error",
     "status": "error",
     "traceback": [
      "      Util.java:   221 clojure.lang.Util/runtimeException",
      "LispReader.java:   607 clojure.lang.LispReader$StringReader/invoke",
      "LispReader.java:   285 clojure.lang.LispReader/read",
      "LispReader.java:  1398 clojure.lang.LispReader/readDelimitedList",
      "LispReader.java:  1355 clojure.lang.LispReader$MapReader/invoke",
      "LispReader.java:   285 clojure.lang.LispReader/read",
      "LispReader.java:  1398 clojure.lang.LispReader/readDelimitedList",
      "LispReader.java:  1243 clojure.lang.LispReader$ListReader/invoke",
      "LispReader.java:   285 clojure.lang.LispReader/read",
      "       core.clj:  3768 clojure.core$read/invokeStatic",
      "       core.clj:  3741 clojure.core$read/invoke",
      "       main.clj:   433 clojure.main$repl$read_eval_print__9086$fn__9087/invoke",
      "       main.clj:   432 clojure.main$repl$read_eval_print__9086/invoke",
      "       main.clj:   458 clojure.main$repl$fn__9095/invoke",
      "       main.clj:   368 clojure.main$repl/doInvoke",
      "    RestFn.java:  1523 clojure.lang.RestFn/invoke",
      "       AFn.java:    22 clojure.lang.AFn/run",
      "       AFn.java:    22 clojure.lang.AFn/run",
      "    Thread.java:   748 java.lang.Thread/run"
     ]
    }
   ],
   "source": [
    "(ipy/html-math {:value \"Some math and <i>HTML</i>: \\(x^2\\) and $$\\frac{x+1}{x-1}$$\"})"
   ]
  },
  {
   "cell_type": "markdown",
   "metadata": {},
   "source": [
    "Note: *Example above fails with error: __Unsupported escape character: \\\\(__*"
   ]
  },
  {
   "cell_type": "markdown",
   "metadata": {},
   "source": [
    "____\n",
    "### Boolean Widgets\n"
   ]
  },
  {
   "cell_type": "code",
   "execution_count": 13,
   "metadata": {},
   "outputs": [
    {
     "data": {
      "application/vnd.jupyter.widget-view+json": {
       "model_id": "95fa08c3-8946-4f5c-a9de-d853b39c91d2",
       "version_major": 2,
       "version_minor": 0
      },
      "text/plain": [
       "[95fa08c3-8946-4f5c-a9de-d853b39c91d2]={:_view_module \"@jupyter-widgets/controls\", :children [#<CommAtom@648461a6:\n",
       "  {:description \"Click Me\",\n",
       "   :_view_module \"@jupyter-widgets/controls\",\n",
       "   :indent true,\n",
       "   :disabled false,\n",
       "   :layout nil,\n",
       "   :value true,\n",
       "   :_view_module_version \"1.5.0\",\n",
       "   :style nil,\n",
       "   :_view_name \"CheckboxView\",\n",
       "   :_model_module \"@jupyter-widgets/controls\",\n",
       "   :description_tooltip nil,\n",
       "   :_model_name \"CheckboxModel\",\n",
       "   :_dom_classes [],\n",
       "   :_model_module_version \"1.5.0\"} #<CommAtom@a0260b70:\n",
       "  {:description \"\",\n",
       "   :_view_module \"@jupyter-widgets/controls\",\n",
       "   :placeholder \"​\",\n",
       "   :layout nil,\n",
       "   :value \"My state: true\",\n",
       "   :_view_module_version \"1.5.0\",\n",
       "   :style nil,\n",
       "   :_view_name \"LabelView\",\n",
       "   :_model_module \"@jupyter-widgets/controls\",\n",
       "   :description_tooltip nil,\n",
       "   :_model_name \"LabelModel\",\n",
       "   :_dom_classes [],\n",
       "   :_model_module_version \"1.5.0\"}], :layout nil, :box_style \"\", :_view_module_version \"1.5.0\", :_view_name \"VBoxView\", :_model_module \"@jupyter-widgets/controls\", :_model_name \"VBoxModel\", :_dom_classes [], :_model_module_version \"1.5.0\"}"
      ]
     },
     "execution_count": 13,
     "metadata": {},
     "output_type": "execute_result"
    }
   ],
   "source": [
    "(let [w (ipy/checkbox {:description \"Click Me\" :value true})\n",
    "      label (ipy/label)]\n",
    "  (alpha/interactive label (mapper (partial str \"My state: \")) {:arg w}))"
   ]
  },
  {
   "cell_type": "code",
   "execution_count": 14,
   "metadata": {},
   "outputs": [
    {
     "data": {
      "application/vnd.jupyter.widget-view+json": {
       "model_id": "245b438f-a66b-4f44-8be4-a0efe50c0e4c",
       "version_major": 2,
       "version_minor": 0
      },
      "text/plain": [
       "[245b438f-a66b-4f44-8be4-a0efe50c0e4c]={:_view_module \"@jupyter-widgets/controls\", :children [#<CommAtom@e58acf4f:\n",
       "  {:description \"Click to Activate\",\n",
       "   :_view_module \"@jupyter-widgets/controls\",\n",
       "   :disabled false,\n",
       "   :button_style \"\",\n",
       "   :layout nil,\n",
       "   :value false,\n",
       "   :_view_module_version \"1.5.0\",\n",
       "   :icon \"hand-pointer\",\n",
       "   :style nil,\n",
       "   :_view_name \"ToggleButtonView\",\n",
       "   :_model_module \"@jupyter-widgets/controls\",\n",
       "   :description_tooltip nil,\n",
       "   :_model_name \"ToggleButtonModel\",\n",
       "   :_dom_classes [],\n",
       "   :tooltip \"\",\n",
       "   :_model_module_version \"1.5.0\"} #<CommAtom@a13506d4:\n",
       "  {:description \"\",\n",
       "   :_view_module \"@jupyter-widgets/controls\",\n",
       "   :placeholder \"​\",\n",
       "   :layout nil,\n",
       "   :value \"Inactive\",\n",
       "   :_view_module_version \"1.5.0\",\n",
       "   :style nil,\n",
       "   :_view_name \"LabelView\",\n",
       "   :_model_module \"@jupyter-widgets/controls\",\n",
       "   :description_tooltip nil,\n",
       "   :_model_name \"LabelModel\",\n",
       "   :_dom_classes [],\n",
       "   :_model_module_version \"1.5.0\"}], :layout nil, :box_style \"\", :_view_module_version \"1.5.0\", :_view_name \"VBoxView\", :_model_module \"@jupyter-widgets/controls\", :_model_name \"VBoxModel\", :_dom_classes [], :_model_module_version \"1.5.0\"}"
      ]
     },
     "execution_count": 14,
     "metadata": {},
     "output_type": "execute_result"
    }
   ],
   "source": [
    "(let [w (ipy/toggle-button {:value false :description \"Click to Activate\" :icon \"hand-pointer\"})]\n",
    "  (alpha/interactive (ipy/label) (mapper {true \"Active\" false \"Inactive\"}) {:arg w}))"
   ]
  },
  {
   "cell_type": "code",
   "execution_count": 15,
   "metadata": {},
   "outputs": [
    {
     "data": {
      "application/vnd.jupyter.widget-view+json": {
       "model_id": "1d31e19e-8e63-4b92-9444-a7147e0f3d87",
       "version_major": 2,
       "version_minor": 0
      },
      "text/plain": [
       "[1d31e19e-8e63-4b92-9444-a7147e0f3d87]={:description \"Valid!\", :_view_module \"@jupyter-widgets/controls\", :disabled false, :layout nil, :value true, :_view_module_version \"1.5.0\", :style nil, :_view_name \"ValidView\", :_model_module \"@jupyter-widgets/controls\", :readout \"Invalid\", :description_tooltip nil, :_model_name \"ValidModel\", :_dom_classes [], :_model_module_version \"1.5.0\"}"
      ]
     },
     "execution_count": 15,
     "metadata": {},
     "output_type": "execute_result"
    }
   ],
   "source": [
    "(ipy/valid {:value true :description \"Valid!\"})"
   ]
  },
  {
   "cell_type": "markdown",
   "metadata": {},
   "source": [
    "___\n",
    "### Numeric Widgets"
   ]
  },
  {
   "cell_type": "code",
   "execution_count": 16,
   "metadata": {},
   "outputs": [
    {
     "data": {
      "application/vnd.jupyter.widget-view+json": {
       "model_id": "439fbf15-f587-47de-afdc-75fda18e22c9",
       "version_major": 2,
       "version_minor": 0
      },
      "text/plain": [
       "[439fbf15-f587-47de-afdc-75fda18e22c9]={:_view_module \"@jupyter-widgets/controls\", :children [#<CommAtom@55458ae9:\n",
       "  {:description \"Double this:\",\n",
       "   :_view_module \"@jupyter-widgets/controls\",\n",
       "   :min -10,\n",
       "   :disabled false,\n",
       "   :layout nil,\n",
       "   :value 20,\n",
       "   :orientation :vertical,\n",
       "   :_view_module_version \"1.5.0\",\n",
       "   :continuous_update true,\n",
       "   :style nil,\n",
       "   :max 20,\n",
       "   :readout_format \"d\",\n",
       "   :_view_name \"IntSliderView\",\n",
       "   :_model_module \"@jupyter-widgets/controls\",\n",
       "   :readout true,\n",
       "   :description_tooltip nil,\n",
       "   :_model_name \"IntSliderModel\",\n",
       "   :_dom_classes [],\n",
       "   :step 1,\n",
       "   :_model_module_version \"1.5.0\"} #<CommAtom@6d3f4608:\n",
       "  {:description \"\",\n",
       "   :_view_module \"@jupyter-widgets/controls\",\n",
       "   :placeholder \"​\",\n",
       "   :layout nil,\n",
       "   :value 40,\n",
       "   :_view_module_version \"1.5.0\",\n",
       "   :style nil,\n",
       "   :_view_name \"LabelView\",\n",
       "   :_model_module \"@jupyter-widgets/controls\",\n",
       "   :description_tooltip nil,\n",
       "   :_model_name \"LabelModel\",\n",
       "   :_dom_classes [],\n",
       "   :_model_module_version \"1.5.0\"}], :layout nil, :box_style \"\", :_view_module_version \"1.5.0\", :_view_name \"VBoxView\", :_model_module \"@jupyter-widgets/controls\", :_model_name \"VBoxModel\", :_dom_classes [], :_model_module_version \"1.5.0\"}"
      ]
     },
     "execution_count": 16,
     "metadata": {},
     "output_type": "execute_result"
    }
   ],
   "source": [
    "(let [w (ipy/int-slider {:description \"Double this:\" :value 20 :min -10 :max 20\n",
    "                         :orientation :vertical}) ;; Slider accepts keys as options\n",
    "      label (ipy/label)]\n",
    "  (alpha/interactive label (mapper (partial * 2)) {:arg w}))"
   ]
  },
  {
   "cell_type": "code",
   "execution_count": 17,
   "metadata": {},
   "outputs": [
    {
     "data": {
      "application/vnd.jupyter.widget-view+json": {
       "model_id": "6ff6a799-0951-49e7-9fc1-4260d09c5923",
       "version_major": 2,
       "version_minor": 0
      },
      "text/plain": [
       "[6ff6a799-0951-49e7-9fc1-4260d09c5923]={:_view_module \"@jupyter-widgets/controls\", :children [#<CommAtom@5dfd774a:\n",
       "  {:description \"Square this:\",\n",
       "   :_view_module \"@jupyter-widgets/controls\",\n",
       "   :min 0,\n",
       "   :disabled false,\n",
       "   :layout nil,\n",
       "   :value 0.939668822908644,\n",
       "   :orientation \"horizontal\",\n",
       "   :_view_module_version \"1.5.0\",\n",
       "   :continuous_update true,\n",
       "   :style nil,\n",
       "   :max 1,\n",
       "   :readout_format \".2f\",\n",
       "   :_view_name \"FloatSliderView\",\n",
       "   :_model_module \"@jupyter-widgets/controls\",\n",
       "   :readout true,\n",
       "   :description_tooltip nil,\n",
       "   :_model_name \"FloatSliderModel\",\n",
       "   :_dom_classes [],\n",
       "   :step 0.01,\n",
       "   :_model_module_version \"1.5.0\"} #<CommAtom@30c09715:\n",
       "  {:description \"\",\n",
       "   :_view_module \"@jupyter-widgets/controls\",\n",
       "   :placeholder \"​\",\n",
       "   :layout nil,\n",
       "   :value \"0.883\",\n",
       "   :_view_module_version \"1.5.0\",\n",
       "   :style nil,\n",
       "   :_view_name \"LabelView\",\n",
       "   :_model_module \"@jupyter-widgets/controls\",\n",
       "   :description_tooltip nil,\n",
       "   :_model_name \"LabelModel\",\n",
       "   :_dom_classes [],\n",
       "   :_model_module_version \"1.5.0\"}], :layout nil, :box_style \"\", :_view_module_version \"1.5.0\", :_view_name \"VBoxView\", :_model_module \"@jupyter-widgets/controls\", :_model_name \"VBoxModel\", :_dom_classes [], :_model_module_version \"1.5.0\"}"
      ]
     },
     "execution_count": 17,
     "metadata": {},
     "output_type": "execute_result"
    }
   ],
   "source": [
    "(let [w (ipy/float-slider {:description \"Square this:\" :value (rand) :min 0 :max 1\n",
    "                           :step 0.01 :readout_format \".2f\"})\n",
    "      label (ipy/label)]\n",
    "  (alpha/interactive label (mapper (comp (partial format \"%.3f\") #(* % %))) {:arg w}))"
   ]
  },
  {
   "cell_type": "code",
   "execution_count": 18,
   "metadata": {},
   "outputs": [
    {
     "data": {
      "application/vnd.jupyter.widget-view+json": {
       "model_id": "fe3c0079-7644-4aed-9ecd-84bc01ff80cf",
       "version_major": 2,
       "version_minor": 0
      },
      "text/plain": [
       "[fe3c0079-7644-4aed-9ecd-84bc01ff80cf]={:_view_module \"@jupyter-widgets/controls\", :children [#<CommAtom@0730ab53:\n",
       "  {:description \"\",\n",
       "   :_view_module \"@jupyter-widgets/controls\",\n",
       "   :min 4,\n",
       "   :disabled false,\n",
       "   :layout nil,\n",
       "   :value 200000.0,\n",
       "   :orientation \"horizontal\",\n",
       "   :_view_module_version \"1.5.0\",\n",
       "   :continuous_update true,\n",
       "   :style nil,\n",
       "   :max 8,\n",
       "   :readout_format \".3g\",\n",
       "   :_view_name \"FloatLogSliderView\",\n",
       "   :_model_module \"@jupyter-widgets/controls\",\n",
       "   :readout true,\n",
       "   :base 10,\n",
       "   :description_tooltip nil,\n",
       "   :_model_name \"FloatLogSliderModel\",\n",
       "   :_dom_classes [],\n",
       "   :step 0.2,\n",
       "   :_model_module_version \"1.5.0\"} #<CommAtom@ca445911:\n",
       "  {:description \"\",\n",
       "   :_view_module \"@jupyter-widgets/controls\",\n",
       "   :placeholder \"​\",\n",
       "   :layout nil,\n",
       "   :value \"5.00e-06\",\n",
       "   :_view_module_version \"1.5.0\",\n",
       "   :style nil,\n",
       "   :_view_name \"LabelView\",\n",
       "   :_model_module \"@jupyter-widgets/controls\",\n",
       "   :description_tooltip nil,\n",
       "   :_model_name \"LabelModel\",\n",
       "   :_dom_classes [],\n",
       "   :_model_module_version \"1.5.0\"}], :layout nil, :box_style \"\", :_view_module_version \"1.5.0\", :_view_name \"VBoxView\", :_model_module \"@jupyter-widgets/controls\", :_model_name \"VBoxModel\", :_dom_classes [], :_model_module_version \"1.5.0\"}"
      ]
     },
     "execution_count": 18,
     "metadata": {},
     "output_type": "execute_result"
    }
   ],
   "source": [
    "(let [w (ipy/float-log-slider {:value 2e5 :base 10 :min 4 :max 8 :step 0.2})]\n",
    "  (alpha/interactive (ipy/label) (mapper (comp (partial format \"%.2e\") float (partial / 1))) {:arg w}))"
   ]
  },
  {
   "cell_type": "markdown",
   "metadata": {},
   "source": [
    "Note: *The slider above kills the kernel for values > 1e7.*"
   ]
  },
  {
   "cell_type": "code",
   "execution_count": 19,
   "metadata": {},
   "outputs": [
    {
     "data": {
      "application/vnd.jupyter.widget-view+json": {
       "model_id": "245aa0e9-e6fc-47f1-b3e9-7cb6975f1d73",
       "version_major": 2,
       "version_minor": 0
      },
      "text/plain": [
       "[245aa0e9-e6fc-47f1-b3e9-7cb6975f1d73]={:_view_module \"@jupyter-widgets/controls\", :children [#<CommAtom@0015a2ba:\n",
       "  {:description \"\",\n",
       "   :_view_module \"@jupyter-widgets/controls\",\n",
       "   :min 0,\n",
       "   :disabled false,\n",
       "   :layout nil,\n",
       "   :value [200 1800],\n",
       "   :orientation \"horizontal\",\n",
       "   :_view_module_version \"1.5.0\",\n",
       "   :continuous_update true,\n",
       "   :style nil,\n",
       "   :max 3000,\n",
       "   :readout_format \"d\",\n",
       "   :_view_name \"IntRangeSliderView\",\n",
       "   :_model_module \"@jupyter-widgets/controls\",\n",
       "   :readout true,\n",
       "   :description_tooltip nil,\n",
       "   :_model_name \"IntRangeSliderModel\",\n",
       "   :_dom_classes [],\n",
       "   :step 5,\n",
       "   :_model_module_version \"1.5.0\"} #<CommAtom@929f9814:\n",
       "  {:description \"\",\n",
       "   :_view_module \"@jupyter-widgets/controls\",\n",
       "   :placeholder \"​\",\n",
       "   :layout nil,\n",
       "   :value 1000,\n",
       "   :_view_module_version \"1.5.0\",\n",
       "   :style nil,\n",
       "   :_view_name \"LabelView\",\n",
       "   :_model_module \"@jupyter-widgets/controls\",\n",
       "   :description_tooltip nil,\n",
       "   :_model_name \"LabelModel\",\n",
       "   :_dom_classes [],\n",
       "   :_model_module_version \"1.5.0\"}], :layout nil, :box_style \"\", :_view_module_version \"1.5.0\", :_view_name \"VBoxView\", :_model_module \"@jupyter-widgets/controls\", :_model_name \"VBoxModel\", :_dom_classes [], :_model_module_version \"1.5.0\"}"
      ]
     },
     "execution_count": 19,
     "metadata": {},
     "output_type": "execute_result"
    }
   ],
   "source": [
    "(let [w (ipy/int-range-slider {:value [200 1800] :max 3000 :step 5})]\n",
    "  (alpha/interactive (ipy/label) (mapper #(/ (+ (first %) (last %)) 2)) {:arg w}))  "
   ]
  },
  {
   "cell_type": "markdown",
   "metadata": {},
   "source": [
    "Note: *Passing the type fn to most (all?) widgets kills the kernel.*"
   ]
  },
  {
   "cell_type": "code",
   "execution_count": 20,
   "metadata": {},
   "outputs": [
    {
     "data": {
      "application/vnd.jupyter.widget-view+json": {
       "model_id": "a61c0026-9dcf-4c6d-8d9a-1c3414f28cdc",
       "version_major": 2,
       "version_minor": 0
      },
      "text/plain": [
       "[a61c0026-9dcf-4c6d-8d9a-1c3414f28cdc]={:description \"\", :_view_module \"@jupyter-widgets/controls\", :min 0.0, :disabled false, :layout nil, :value [0.0 1.0], :orientation \"horizontal\", :_view_module_version \"1.5.0\", :continuous_update true, :style nil, :max 100.0, :readout_format \".2f\", :_view_name \"FloatRangeSliderView\", :_model_module \"@jupyter-widgets/controls\", :readout true, :description_tooltip nil, :_model_name \"FloatRangeSliderModel\", :_dom_classes [], :step 0.1, :_model_module_version \"1.5.0\"}"
      ]
     },
     "execution_count": 20,
     "metadata": {},
     "output_type": "execute_result"
    }
   ],
   "source": [
    "(ipy/float-range-slider)"
   ]
  },
  {
   "cell_type": "code",
   "execution_count": 21,
   "metadata": {},
   "outputs": [
    {
     "data": {
      "application/vnd.jupyter.widget-view+json": {
       "model_id": "2c956d63-c980-421f-b9e1-243c48641016",
       "version_major": 2,
       "version_minor": 0
      },
      "text/plain": [
       "[2c956d63-c980-421f-b9e1-243c48641016]={:description \"\", :_view_module \"@jupyter-widgets/controls\", :min 10, :layout nil, :value 95, :orientation \"horizontal\", :_view_module_version \"1.5.0\", :style nil, :max 100, :bar_style \"\", :_view_name \"ProgressView\", :_model_module \"@jupyter-widgets/controls\", :description_tooltip nil, :_model_name \"IntProgressModel\", :_dom_classes [], :_model_module_version \"1.5.0\"}"
      ]
     },
     "execution_count": 21,
     "metadata": {},
     "output_type": "execute_result"
    }
   ],
   "source": [
    "(ipy/int-progress {:min 10 :max 100 :value 95})"
   ]
  },
  {
   "cell_type": "code",
   "execution_count": 22,
   "metadata": {},
   "outputs": [
    {
     "data": {
      "application/vnd.jupyter.widget-view+json": {
       "model_id": "e4ae50f7-1c8a-46f4-98df-6bb0a95c8499",
       "version_major": 2,
       "version_minor": 0
      },
      "text/plain": [
       "[e4ae50f7-1c8a-46f4-98df-6bb0a95c8499]={:description \"\", :_view_module \"@jupyter-widgets/controls\", :min 0, :layout nil, :value 4.8, :orientation \"horizontal\", :_view_module_version \"1.5.0\", :style nil, :max 10, :bar_style \"\", :_view_name \"ProgressView\", :_model_module \"@jupyter-widgets/controls\", :description_tooltip nil, :_model_name \"FloatProgressModel\", :_dom_classes [], :_model_module_version \"1.5.0\"}"
      ]
     },
     "execution_count": 22,
     "metadata": {},
     "output_type": "execute_result"
    }
   ],
   "source": [
    "(ipy/float-progress {:min 0 :max 10 :step 0.1 :value 4.8})"
   ]
  },
  {
   "cell_type": "markdown",
   "metadata": {},
   "source": [
    "Note: *How does one animate the above progress bars?*"
   ]
  },
  {
   "cell_type": "code",
   "execution_count": 23,
   "metadata": {},
   "outputs": [
    {
     "data": {
      "application/vnd.jupyter.widget-view+json": {
       "model_id": "51c518cb-82ec-4c2a-b325-2ebe296e60c5",
       "version_major": 2,
       "version_minor": 0
      },
      "text/plain": [
       "[51c518cb-82ec-4c2a-b325-2ebe296e60c5]={:description \"\", :_view_module \"@jupyter-widgets/controls\", :min 0, :disabled false, :layout nil, :value 0, :_view_module_version \"1.5.0\", :continuous_update false, :style nil, :max 100, :_view_name \"IntTextView\", :_model_module \"@jupyter-widgets/controls\", :description_tooltip nil, :_model_name \"BoundedIntTextModel\", :_dom_classes [], :step 5, :_model_module_version \"1.5.0\"}"
      ]
     },
     "execution_count": 23,
     "metadata": {},
     "output_type": "execute_result"
    }
   ],
   "source": [
    "(ipy/bounded-int-text {:min 0 :max 100 :step 5})"
   ]
  },
  {
   "cell_type": "markdown",
   "metadata": {},
   "source": [
    "Note: *The above widget acts like a bounded-float-text if we pass a float step.*"
   ]
  },
  {
   "cell_type": "code",
   "execution_count": 24,
   "metadata": {},
   "outputs": [
    {
     "data": {
      "application/vnd.jupyter.widget-view+json": {
       "model_id": "103ec99a-ffd3-4e64-8e89-90d5f20fac1a",
       "version_major": 2,
       "version_minor": 0
      },
      "text/plain": [
       "[103ec99a-ffd3-4e64-8e89-90d5f20fac1a]={:description \"\", :_view_module \"@jupyter-widgets/controls\", :min 0, :disabled false, :layout nil, :value 0.0, :_view_module_version \"1.5.0\", :continuous_update false, :style nil, :max 10, :_view_name \"FloatTextView\", :_model_module \"@jupyter-widgets/controls\", :description_tooltip nil, :_model_name \"BoundedFloatTextModel\", :_dom_classes [], :step 0.2, :_model_module_version \"1.5.0\"}"
      ]
     },
     "execution_count": 24,
     "metadata": {},
     "output_type": "execute_result"
    }
   ],
   "source": [
    "(ipy/bounded-float-text {:min 0 :max 10 :step 0.2})"
   ]
  },
  {
   "cell_type": "code",
   "execution_count": 25,
   "metadata": {},
   "outputs": [
    {
     "data": {
      "application/vnd.jupyter.widget-view+json": {
       "model_id": "06e953af-33d4-4d86-af57-2791185fc20d",
       "version_major": 2,
       "version_minor": 0
      },
      "text/plain": [
       "[06e953af-33d4-4d86-af57-2791185fc20d]={:description \"\", :_view_module \"@jupyter-widgets/controls\", :disabled false, :layout nil, :value 233, :_view_module_version \"1.5.0\", :continuous_update false, :style nil, :_view_name \"IntTextView\", :_model_module \"@jupyter-widgets/controls\", :description_tooltip nil, :_model_name \"IntTextModel\", :_dom_classes [], :step 1, :_model_module_version \"1.5.0\"}"
      ]
     },
     "execution_count": 25,
     "metadata": {},
     "output_type": "execute_result"
    }
   ],
   "source": [
    "(ipy/int-text {:value 233})"
   ]
  },
  {
   "cell_type": "code",
   "execution_count": 26,
   "metadata": {},
   "outputs": [
    {
     "data": {
      "application/vnd.jupyter.widget-view+json": {
       "model_id": "7bd696a1-e7d3-4270-b848-b0b0b8e6a0c7",
       "version_major": 2,
       "version_minor": 0
      },
      "text/plain": [
       "[7bd696a1-e7d3-4270-b848-b0b0b8e6a0c7]={:description \"\", :_view_module \"@jupyter-widgets/controls\", :disabled false, :layout nil, :value 9.33, :_view_module_version \"1.5.0\", :continuous_update false, :style nil, :_view_name \"FloatTextView\", :_model_module \"@jupyter-widgets/controls\", :description_tooltip nil, :_model_name \"FloatTextModel\", :_dom_classes [], :step 0.02, :_model_module_version \"1.5.0\"}"
      ]
     },
     "execution_count": 26,
     "metadata": {},
     "output_type": "execute_result"
    }
   ],
   "source": [
    "(ipy/float-text {:value 9.33 :step 0.02})"
   ]
  },
  {
   "cell_type": "markdown",
   "metadata": {},
   "source": [
    "____\n",
    "### Selection Widgets"
   ]
  },
  {
   "cell_type": "code",
   "execution_count": 27,
   "metadata": {},
   "outputs": [
    {
     "data": {
      "application/vnd.jupyter.widget-view+json": {
       "model_id": "cec10e0a-49fc-4b8a-a675-ee770d3aa683",
       "version_major": 2,
       "version_minor": 0
      },
      "text/plain": [
       "[cec10e0a-49fc-4b8a-a675-ee770d3aa683]={:description \"\", :_view_module \"@jupyter-widgets/controls\", :index nil, :disabled false, :layout nil, :_options_labels [], :_view_module_version \"1.5.0\", :style nil, :_view_name \"DropdownView\", :_model_module \"@jupyter-widgets/controls\", :description_tooltip nil, :_model_name \"DropdownModel\", :_dom_classes [], :_model_module_version \"1.5.0\"}"
      ]
     },
     "execution_count": 27,
     "metadata": {},
     "output_type": "execute_result"
    }
   ],
   "source": [
    "(ipy/dropdown {:options [\"one\" \"two\" \"three\"] :value \"one\"}) "
   ]
  },
  {
   "cell_type": "markdown",
   "metadata": {},
   "source": [
    "Note: *The above example fails. To fix it, one must pass the values to :_options_labels key.\n",
    "The default value does not get passed to the widget.*"
   ]
  },
  {
   "cell_type": "code",
   "execution_count": 28,
   "metadata": {},
   "outputs": [
    {
     "data": {
      "application/vnd.jupyter.widget-view+json": {
       "model_id": "c12070ff-d196-431c-ae23-c52d1d7d0f98",
       "version_major": 2,
       "version_minor": 0
      },
      "text/plain": [
       "[c12070ff-d196-431c-ae23-c52d1d7d0f98]={:description \"Pick a number\", :_view_module \"@jupyter-widgets/controls\", :index nil, :disabled false, :layout nil, :_options_labels [\"one\" \"two\" \"three\"], :_view_module_version \"1.5.0\", :style nil, :_view_name \"DropdownView\", :_model_module \"@jupyter-widgets/controls\", :description_tooltip nil, :_model_name \"DropdownModel\", :_dom_classes [], :_model_module_version \"1.5.0\"}"
      ]
     },
     "execution_count": 28,
     "metadata": {},
     "output_type": "execute_result"
    }
   ],
   "source": [
    "(ipy/dropdown {:_options_labels [\"one\" \"two\" \"three\"] :value \"one\" :description \"Pick a number\"}) "
   ]
  },
  {
   "cell_type": "code",
   "execution_count": 29,
   "metadata": {},
   "outputs": [
    {
     "data": {
      "application/vnd.jupyter.widget-view+json": {
       "model_id": "118203e1-df10-4ed7-9793-f84f9586c2a1",
       "version_major": 2,
       "version_minor": 0
      },
      "text/plain": [
       "[118203e1-df10-4ed7-9793-f84f9586c2a1]={:description \"Pick a number\", :_view_module \"@jupyter-widgets/controls\", :index nil, :disabled false, :layout nil, :_options_labels [(\"one\" 1) (\"two\" 2) (\"three\" 3)], :_view_module_version \"1.5.0\", :style nil, :_view_name \"DropdownView\", :_model_module \"@jupyter-widgets/controls\", :description_tooltip nil, :_model_name \"DropdownModel\", :_dom_classes [], :_model_module_version \"1.5.0\"}"
      ]
     },
     "execution_count": 29,
     "metadata": {},
     "output_type": "execute_result"
    }
   ],
   "source": [
    "(ipy/dropdown {:_options_labels ['(\"one\" 1) '(\"two\" 2) '(\"three\" 3)] :value \"one\" :description \"Pick a number\"}) "
   ]
  },
  {
   "cell_type": "markdown",
   "metadata": {},
   "source": [
    "Note: *The above example does not work. Error: __Error displaying widget__*"
   ]
  },
  {
   "cell_type": "code",
   "execution_count": 30,
   "metadata": {},
   "outputs": [
    {
     "data": {
      "application/vnd.jupyter.widget-view+json": {
       "model_id": "23515797-45cc-4ac0-85d7-b0d2418bad0e",
       "version_major": 2,
       "version_minor": 0
      },
      "text/plain": [
       "[23515797-45cc-4ac0-85d7-b0d2418bad0e]={:description \"\", :_view_module \"@jupyter-widgets/controls\", :index nil, :disabled false, :layout nil, :_options_labels [], :_view_module_version \"1.5.0\", :style nil, :_view_name \"RadioButtonsView\", :_model_module \"@jupyter-widgets/controls\", :description_tooltip nil, :_model_name \"RadioButtonsModel\", :_dom_classes [], :_model_module_version \"1.5.0\"}"
      ]
     },
     "execution_count": 30,
     "metadata": {},
     "output_type": "execute_result"
    }
   ],
   "source": [
    "(ipy/radio-buttons {:options [\"dark\" \"light\"] :value \"light\"})"
   ]
  },
  {
   "cell_type": "markdown",
   "metadata": {},
   "source": [
    "Note: *Just as dropdown, the widget fails when passing the values to :options and :values does not work as default values.*"
   ]
  },
  {
   "cell_type": "code",
   "execution_count": 31,
   "metadata": {},
   "outputs": [
    {
     "data": {
      "application/vnd.jupyter.widget-view+json": {
       "model_id": "ab4c13ab-3b30-4d4f-a496-83123b82b550",
       "version_major": 2,
       "version_minor": 0
      },
      "text/plain": [
       "[ab4c13ab-3b30-4d4f-a496-83123b82b550]={:description \"Theme\", :_view_module \"@jupyter-widgets/controls\", :index nil, :disabled false, :layout nil, :_options_labels [\"dark\" \"light\"], :_view_module_version \"1.5.0\", :style nil, :_view_name \"RadioButtonsView\", :_model_module \"@jupyter-widgets/controls\", :description_tooltip nil, :_model_name \"RadioButtonsModel\", :_dom_classes [], :_model_module_version \"1.5.0\"}"
      ]
     },
     "execution_count": 31,
     "metadata": {},
     "output_type": "execute_result"
    }
   ],
   "source": [
    "(ipy/radio-buttons {:_options_labels [\"dark\" \"light\"] :description \"Theme\"})"
   ]
  },
  {
   "cell_type": "code",
   "execution_count": 32,
   "metadata": {},
   "outputs": [
    {
     "data": {
      "application/vnd.jupyter.widget-view+json": {
       "model_id": "682c9c03-af0c-4a4c-9f3c-8a3ae85f09a5",
       "version_major": 2,
       "version_minor": 0
      },
      "text/plain": [
       "[682c9c03-af0c-4a4c-9f3c-8a3ae85f09a5]={:description \"\", :_view_module \"@jupyter-widgets/controls\", :index nil, :disabled false, :layout nil, :_options_labels [], :_view_module_version \"1.5.0\", :style nil, :rows 5, :_view_name \"SelectView\", :_model_module \"@jupyter-widgets/controls\", :description_tooltip nil, :_model_name \"SelectModel\", :_dom_classes [], :_model_module_version \"1.5.0\"}"
      ]
     },
     "execution_count": 32,
     "metadata": {},
     "output_type": "execute_result"
    }
   ],
   "source": [
    "(ipy/select {:options [\"english\" \"french\" \"german\"] :value \"french\"})"
   ]
  },
  {
   "cell_type": "code",
   "execution_count": 33,
   "metadata": {},
   "outputs": [
    {
     "data": {
      "application/vnd.jupyter.widget-view+json": {
       "model_id": "083a6438-d760-4644-a4ef-694487be6f83",
       "version_major": 2,
       "version_minor": 0
      },
      "text/plain": [
       "[083a6438-d760-4644-a4ef-694487be6f83]={:description \"Language\", :_view_module \"@jupyter-widgets/controls\", :index nil, :disabled false, :layout nil, :_options_labels [\"english\" \"french\" \"german\"], :_view_module_version \"1.5.0\", :style nil, :rows 5, :_view_name \"SelectView\", :_model_module \"@jupyter-widgets/controls\", :description_tooltip nil, :_model_name \"SelectModel\", :_dom_classes [], :_model_module_version \"1.5.0\"}"
      ]
     },
     "execution_count": 33,
     "metadata": {},
     "output_type": "execute_result"
    }
   ],
   "source": [
    "(ipy/select {:_options_labels [\"english\" \"french\" \"german\"] :value \"french\" :description \"Language\"})"
   ]
  },
  {
   "cell_type": "markdown",
   "metadata": {},
   "source": [
    "Note: *Just as dropdown, the widget fails when passing the values to :options and :values does not work as default values.*"
   ]
  },
  {
   "cell_type": "code",
   "execution_count": 34,
   "metadata": {},
   "outputs": [
    {
     "data": {
      "application/vnd.jupyter.widget-view+json": {
       "model_id": "7ebec739-fa3a-4609-a440-c0bda9c85432",
       "version_major": 2,
       "version_minor": 0
      },
      "text/plain": [
       "[7ebec739-fa3a-4609-a440-c0bda9c85432]={:description \"Speed\", :_view_module \"@jupyter-widgets/controls\", :index 0, :disabled false, :layout nil, :_options_labels [], :orientation \"horizontal\", :_view_module_version \"1.5.0\", :continuous_update true, :style nil, :_view_name \"SelectionSliderView\", :_model_module \"@jupyter-widgets/controls\", :readout true, :description_tooltip nil, :_model_name \"SelectionSliderModel\", :_dom_classes [], :_model_module_version \"1.5.0\"}"
      ]
     },
     "execution_count": 34,
     "metadata": {},
     "output_type": "execute_result"
    }
   ],
   "source": [
    "(ipy/selection-slider {:options [\"slower\" \"slow\" \"normal\" \"fast\" \"fastest\"] :value \"french\" :description \"Speed\"})"
   ]
  },
  {
   "cell_type": "code",
   "execution_count": 35,
   "metadata": {},
   "outputs": [
    {
     "data": {
      "application/vnd.jupyter.widget-view+json": {
       "model_id": "df7a6d2a-77e7-4136-b7c7-5883feb224d3",
       "version_major": 2,
       "version_minor": 0
      },
      "text/plain": [
       "[df7a6d2a-77e7-4136-b7c7-5883feb224d3]={:description \"Speed\", :_view_module \"@jupyter-widgets/controls\", :index 0, :disabled false, :layout nil, :_options_labels [\"slower\" \"slow\" \"normal\" \"fast\" \"fastest\"], :orientation \"horizontal\", :_view_module_version \"1.5.0\", :continuous_update true, :style nil, :_view_name \"SelectionSliderView\", :_model_module \"@jupyter-widgets/controls\", :readout true, :description_tooltip nil, :_model_name \"SelectionSliderModel\", :_dom_classes [], :_model_module_version \"1.5.0\"}"
      ]
     },
     "execution_count": 35,
     "metadata": {},
     "output_type": "execute_result"
    }
   ],
   "source": [
    "(ipy/selection-slider {:_options_labels [\"slower\" \"slow\" \"normal\" \"fast\" \"fastest\"] :value \"normal\" :description \"Speed\"})"
   ]
  },
  {
   "cell_type": "markdown",
   "metadata": {},
   "source": [
    "Note: *Just as dropdown, the widget fails when passing the values to :options and :values does not work as default values.*"
   ]
  },
  {
   "cell_type": "code",
   "execution_count": 36,
   "metadata": {},
   "outputs": [
    {
     "data": {
      "application/vnd.jupyter.widget-view+json": {
       "model_id": "0d517135-5ae6-453f-b12f-3e332fb3de0a",
       "version_major": 2,
       "version_minor": 0
      },
      "text/plain": [
       "[0d517135-5ae6-453f-b12f-3e332fb3de0a]={:description \"Speed\", :_view_module \"@jupyter-widgets/controls\", :index [0 0], :disabled false, :layout nil, :_options_labels [], :orientation \"horizontal\", :_view_module_version \"1.5.0\", :continuous_update true, :style nil, :_view_name \"SelectionRangeSliderView\", :_model_module \"@jupyter-widgets/controls\", :readout true, :description_tooltip nil, :_model_name \"SelectionRangeSliderModel\", :_dom_classes [], :_model_module_version \"1.5.0\"}"
      ]
     },
     "execution_count": 36,
     "metadata": {},
     "output_type": "execute_result"
    }
   ],
   "source": [
    "(ipy/selection-range-slider {:options (map list [\"slower\" \"slow\" \"normal\" \"fast\" \"fastest\"] (range)):value \"french\" :description \"Speed\"})"
   ]
  },
  {
   "cell_type": "code",
   "execution_count": 37,
   "metadata": {},
   "outputs": [
    {
     "data": {
      "application/vnd.jupyter.widget-view+json": {
       "model_id": "1799d0b5-ea3b-4ea8-999c-71040622e6ec",
       "version_major": 2,
       "version_minor": 0
      },
      "text/plain": [
       "[1799d0b5-ea3b-4ea8-999c-71040622e6ec]={:description \"Speed\", :_view_module \"@jupyter-widgets/controls\", :index [0 0], :disabled false, :layout nil, :_options_labels ((\"slower\" 0) (\"slow\" 1) (\"normal\" 2) (\"fast\" 3) (\"fastest\" 4)), :orientation \"horizontal\", :_view_module_version \"1.5.0\", :continuous_update true, :style nil, :_view_name \"SelectionRangeSliderView\", :_model_module \"@jupyter-widgets/controls\", :readout true, :description_tooltip nil, :_model_name \"SelectionRangeSliderModel\", :_dom_classes [], :_model_module_version \"1.5.0\"}"
      ]
     },
     "execution_count": 37,
     "metadata": {},
     "output_type": "execute_result"
    }
   ],
   "source": [
    "(ipy/selection-range-slider {:_options_labels (map list [\"slower\" \"slow\" \"normal\" \"fast\" \"fastest\"] (range)):value \"french\" :description \"Speed\"})"
   ]
  },
  {
   "cell_type": "markdown",
   "metadata": {},
   "source": [
    "Note: *Just as dropdown, the widget fails when passing the values to :options and :values does not work as default values.*"
   ]
  },
  {
   "cell_type": "code",
   "execution_count": 38,
   "metadata": {},
   "outputs": [
    {
     "data": {
      "application/vnd.jupyter.widget-view+json": {
       "model_id": "04005652-e0e3-49d9-9d88-d69688a66768",
       "version_major": 2,
       "version_minor": 0
      },
      "text/plain": [
       "[04005652-e0e3-49d9-9d88-d69688a66768]={:description \"Language\", :_view_module \"@jupyter-widgets/controls\", :index nil, :tooltips [], :disabled false, :button_style \"\", :layout nil, :_options_labels [], :_view_module_version \"1.5.0\", :icons [], :style nil, :_view_name \"ToggleButtonsView\", :_model_module \"@jupyter-widgets/controls\", :description_tooltip nil, :_model_name \"ToggleButtonsModel\", :_dom_classes [], :_model_module_version \"1.5.0\"}"
      ]
     },
     "execution_count": 38,
     "metadata": {},
     "output_type": "execute_result"
    }
   ],
   "source": [
    "(ipy/toggle-buttons {:options [\"english\" \"french\" \"german\"] :value \"french\" :description \"Language\"})"
   ]
  },
  {
   "cell_type": "code",
   "execution_count": 39,
   "metadata": {},
   "outputs": [
    {
     "data": {
      "application/vnd.jupyter.widget-view+json": {
       "model_id": "9404b917-31b7-4510-876c-be58c19975b9",
       "version_major": 2,
       "version_minor": 0
      },
      "text/plain": [
       "[9404b917-31b7-4510-876c-be58c19975b9]={:_view_module \"@jupyter-widgets/controls\", :children [#<CommAtom@bebd837b:\n",
       "  {:description \"Language\",\n",
       "   :_view_module \"@jupyter-widgets/controls\",\n",
       "   :index nil,\n",
       "   :tooltips [],\n",
       "   :disabled false,\n",
       "   :button_style \"\",\n",
       "   :layout nil,\n",
       "   :_options_labels [\"english\" \"french\" \"german\"],\n",
       "   :_view_module_version \"1.5.0\",\n",
       "   :icons [],\n",
       "   :style nil,\n",
       "   :_view_name \"ToggleButtonsView\",\n",
       "   :_model_module \"@jupyter-widgets/controls\",\n",
       "   :description_tooltip nil,\n",
       "   :_model_name \"ToggleButtonsModel\",\n",
       "   :_dom_classes [],\n",
       "   :_model_module_version \"1.5.0\"} #<CommAtom@d5e82ffe:\n",
       "  {:description \"\",\n",
       "   :_view_module \"@jupyter-widgets/controls\",\n",
       "   :placeholder \"​\",\n",
       "   :layout nil,\n",
       "   :value nil,\n",
       "   :_view_module_version \"1.5.0\",\n",
       "   :style nil,\n",
       "   :_view_name \"LabelView\",\n",
       "   :_model_module \"@jupyter-widgets/controls\",\n",
       "   :description_tooltip nil,\n",
       "   :_model_name \"LabelModel\",\n",
       "   :_dom_classes [],\n",
       "   :_model_module_version \"1.5.0\"}], :layout nil, :box_style \"\", :_view_module_version \"1.5.0\", :_view_name \"VBoxView\", :_model_module \"@jupyter-widgets/controls\", :_model_name \"VBoxModel\", :_dom_classes [], :_model_module_version \"1.5.0\"}"
      ]
     },
     "execution_count": 39,
     "metadata": {},
     "output_type": "execute_result"
    }
   ],
   "source": [
    "(let [w (ipy/toggle-buttons {:_options_labels [\"english\" \"french\" \"german\"] :value \"french\" :description \"Language\"})]\n",
    "  (alpha/interactive (ipy/label) (mapper identity) {:arg w}))  "
   ]
  },
  {
   "cell_type": "markdown",
   "metadata": {},
   "source": [
    "Note: *Just as dropdown, the widget fails when passing the values to :options and :values does not work as default values.*\n",
    "Note: *Clicking on any of the above buttons kills the kernel.*"
   ]
  },
  {
   "cell_type": "code",
   "execution_count": 40,
   "metadata": {},
   "outputs": [
    {
     "data": {
      "application/vnd.jupyter.widget-view+json": {
       "model_id": "3c90aa38-2153-48e1-b7db-514b426f022e",
       "version_major": 2,
       "version_minor": 0
      },
      "text/plain": [
       "[3c90aa38-2153-48e1-b7db-514b426f022e]={:description \"String Instruments\", :_view_module \"@jupyter-widgets/controls\", :index [], :disabled false, :layout nil, :_options_labels [], :_view_module_version \"1.5.0\", :style nil, :rows 5, :_view_name \"SelectMultipleView\", :_model_module \"@jupyter-widgets/controls\", :description_tooltip nil, :_model_name \"SelectMultipleModel\", :_dom_classes [], :_model_module_version \"1.5.0\"}"
      ]
     },
     "execution_count": 40,
     "metadata": {},
     "output_type": "execute_result"
    }
   ],
   "source": [
    "(ipy/select-multiple {:options [\"Guitar\" \"Mandolin\" \"Violin\" \"Bass\"] :value \"Mandolin\" :description \"String Instruments\"})"
   ]
  },
  {
   "cell_type": "code",
   "execution_count": 41,
   "metadata": {},
   "outputs": [
    {
     "data": {
      "application/vnd.jupyter.widget-view+json": {
       "model_id": "d2f4d2ad-0d3e-43a4-9457-44e5cb69e796",
       "version_major": 2,
       "version_minor": 0
      },
      "text/plain": [
       "[d2f4d2ad-0d3e-43a4-9457-44e5cb69e796]={:_view_module \"@jupyter-widgets/controls\", :children [#<CommAtom@d3eb3a5a:\n",
       "  {:description \"String Instruments\",\n",
       "   :_view_module \"@jupyter-widgets/controls\",\n",
       "   :index [],\n",
       "   :disabled false,\n",
       "   :layout nil,\n",
       "   :_options_labels [\"Guitar\" \"Mandolin\" \"Violin\" \"Bass\"],\n",
       "   :_view_module_version \"1.5.0\",\n",
       "   :style nil,\n",
       "   :rows 5,\n",
       "   :_view_name \"SelectMultipleView\",\n",
       "   :_model_module \"@jupyter-widgets/controls\",\n",
       "   :description_tooltip nil,\n",
       "   :_model_name \"SelectMultipleModel\",\n",
       "   :_dom_classes [],\n",
       "   :_model_module_version \"1.5.0\"} #<CommAtom@296229c9:\n",
       "  {:description \"\",\n",
       "   :_view_module \"@jupyter-widgets/controls\",\n",
       "   :placeholder \"​\",\n",
       "   :layout nil,\n",
       "   :value nil,\n",
       "   :_view_module_version \"1.5.0\",\n",
       "   :style nil,\n",
       "   :_view_name \"LabelView\",\n",
       "   :_model_module \"@jupyter-widgets/controls\",\n",
       "   :description_tooltip nil,\n",
       "   :_model_name \"LabelModel\",\n",
       "   :_dom_classes [],\n",
       "   :_model_module_version \"1.5.0\"}], :layout nil, :box_style \"\", :_view_module_version \"1.5.0\", :_view_name \"VBoxView\", :_model_module \"@jupyter-widgets/controls\", :_model_name \"VBoxModel\", :_dom_classes [], :_model_module_version \"1.5.0\"}"
      ]
     },
     "execution_count": 41,
     "metadata": {},
     "output_type": "execute_result"
    }
   ],
   "source": [
    "(let [w (ipy/select-multiple {:_options_labels [\"Guitar\" \"Mandolin\" \"Violin\" \"Bass\"] :value \"Mandolin\" :description \"String Instruments\"})]\n",
    "  (alpha/interactive (ipy/label) (mapper identity) {:arg w}))"
   ]
  },
  {
   "cell_type": "markdown",
   "metadata": {},
   "source": [
    "Note: *Just as dropdown, the widget fails when passing the values to :options and :values does not work as default values.*\n",
    "Note: *The above widget has has no output.*"
   ]
  },
  {
   "cell_type": "markdown",
   "metadata": {},
   "source": [
    "____\n",
    "### Container Widgets"
   ]
  },
  {
   "cell_type": "code",
   "execution_count": 42,
   "metadata": {},
   "outputs": [
    {
     "data": {
      "application/vnd.jupyter.widget-view+json": {
       "model_id": "7808851e-dbf6-4a41-bc8d-827cb76bb7c3",
       "version_major": 2,
       "version_minor": 0
      },
      "text/plain": [
       "[7808851e-dbf6-4a41-bc8d-827cb76bb7c3]={:_view_module \"@jupyter-widgets/controls\", :children [], :layout nil, :box_style \"\", :_view_module_version \"1.5.0\", :_view_name \"BoxView\", :_model_module \"@jupyter-widgets/controls\", :_model_name \"BoxModel\", :_dom_classes [], :_model_module_version \"1.5.0\"}"
      ]
     },
     "execution_count": 42,
     "metadata": {},
     "output_type": "execute_result"
    }
   ],
   "source": [
    "(let [items (map (comp ipy/label str) (range 4))]\n",
    "  (ipy/box items))"
   ]
  },
  {
   "cell_type": "markdown",
   "metadata": {},
   "source": [
    "Note: *The above example has no output.*"
   ]
  },
  {
   "cell_type": "code",
   "execution_count": 43,
   "metadata": {},
   "outputs": [
    {
     "data": {
      "application/vnd.jupyter.widget-view+json": {
       "model_id": "597f8cd0-0a79-4b24-a2c6-1e2720430233",
       "version_major": 2,
       "version_minor": 0
      },
      "text/plain": [
       "[597f8cd0-0a79-4b24-a2c6-1e2720430233]={:_view_module \"@jupyter-widgets/controls\", :children [], :layout nil, :box_style \"\", :_view_module_version \"1.5.0\", :_view_name \"HBoxView\", :_model_module \"@jupyter-widgets/controls\", :_model_name \"HBoxModel\", :_dom_classes [], :_model_module_version \"1.5.0\"}"
      ]
     },
     "execution_count": 43,
     "metadata": {},
     "output_type": "execute_result"
    }
   ],
   "source": [
    "(let [items (map (comp ipy/label str) (range 4))]\n",
    "  (ipy/h-box items))"
   ]
  },
  {
   "cell_type": "markdown",
   "metadata": {},
   "source": [
    "Note: *Same as box, the above example has no output.*"
   ]
  },
  {
   "cell_type": "code",
   "execution_count": 44,
   "metadata": {},
   "outputs": [
    {
     "data": {
      "application/vnd.jupyter.widget-view+json": {
       "model_id": "82e211cf-a380-4297-82cf-6950c95f7e15",
       "version_major": 2,
       "version_minor": 0
      },
      "text/plain": [
       "[82e211cf-a380-4297-82cf-6950c95f7e15]={:_view_module \"@jupyter-widgets/controls\", :children [], :layout nil, :box_style \"\", :_view_module_version \"1.5.0\", :_view_name \"HBoxView\", :_model_module \"@jupyter-widgets/controls\", :_model_name \"HBoxModel\", :_dom_classes [], :_model_module_version \"1.5.0\"}"
      ]
     },
     "execution_count": 44,
     "metadata": {},
     "output_type": "execute_result"
    }
   ],
   "source": [
    "(let [items (map (comp ipy/label str) (range 4))\n",
    "      left-box (ipy/v-box [(first items) (second items)])\n",
    "      right-box (ipy/v-box [(nth items 2) (last items)])]\n",
    "  (ipy/h-box [left-box right-box]))"
   ]
  },
  {
   "cell_type": "markdown",
   "metadata": {},
   "source": [
    "Note: *Same as box, the above example has no output.*"
   ]
  },
  {
   "cell_type": "code",
   "execution_count": 45,
   "metadata": {},
   "outputs": [
    {
     "data": {},
     "execution_count": 45,
     "metadata": {},
     "output_type": "execute_result"
    }
   ],
   "source": [
    "#_(ipy/accordion {:children [ipy/int-slider ipy/text] :titles [\"Slider\" \"Text\"]})"
   ]
  },
  {
   "cell_type": "markdown",
   "metadata": {},
   "source": [
    "Note: *The above example kills the kernel.*"
   ]
  },
  {
   "cell_type": "code",
   "execution_count": 46,
   "metadata": {},
   "outputs": [
    {
     "data": {},
     "execution_count": 46,
     "metadata": {},
     "output_type": "execute_result"
    }
   ],
   "source": [
    "#_(ipy/tab {:children [ipy/int-slider ipy/text] :titles [\"Slider\" \"Text\"]})"
   ]
  },
  {
   "cell_type": "markdown",
   "metadata": {},
   "source": [
    "Note: *Same as accordion, the above example kills the kernel.*"
   ]
  },
  {
   "cell_type": "code",
   "execution_count": 47,
   "metadata": {},
   "outputs": [
    {
     "data": {},
     "execution_count": 47,
     "metadata": {},
     "output_type": "execute_result"
    }
   ],
   "source": [
    "#_(ipy/stacked [(ipy/button {:description \"Click Me\"}) (ipy/int-slider)])"
   ]
  },
  {
   "cell_type": "markdown",
   "metadata": {},
   "source": [
    "Note: *Stacked is not implemented.*"
   ]
  },
  {
   "cell_type": "code",
   "execution_count": null,
   "metadata": {},
   "outputs": [],
   "source": []
  },
  {
   "cell_type": "markdown",
   "metadata": {},
   "source": [
    "____\n",
    "### Other Widgets"
   ]
  },
  {
   "cell_type": "code",
   "execution_count": 48,
   "metadata": {},
   "outputs": [
    {
     "data": {
      "text/plain": [
       "#'user/slurp-bytes"
      ]
     },
     "execution_count": 48,
     "metadata": {},
     "output_type": "execute_result"
    }
   ],
   "source": [
    "(require '[clojure.java.io :as io])\n",
    "(defn slurp-bytes\n",
    "  [^String filename & opt]\n",
    "  (let [file (io/file filename)\n",
    "        buf (byte-array (.length file))]\n",
    "    (with-open [fis (io/make-input-stream file (when opt (apply hash-map opt)))]\n",
    "      (.read fis buf))\n",
    "    buf))"
   ]
  },
  {
   "cell_type": "code",
   "execution_count": 49,
   "metadata": {},
   "outputs": [
    {
     "data": {
      "application/vnd.jupyter.widget-view+json": {
       "model_id": "8c36ae93-518c-4438-a6bd-9ac33a99720d",
       "version_major": 2,
       "version_minor": 0
      },
      "text/plain": [
       "[8c36ae93-518c-4438-a6bd-9ac33a99720d]={:_view_module \"@jupyter-widgets/controls\", :format :png, :layout nil, :value #object[\"[B\" 0x6cc4428d \"[B@6cc4428d\"], :width 10, :_view_module_version \"1.5.0\", :_view_name \"ImageView\", :_model_module \"@jupyter-widgets/controls\", :_model_name \"ImageModel\", :_dom_classes [], :height 10, :_model_module_version \"1.5.0\"}"
      ]
     },
     "execution_count": 49,
     "metadata": {},
     "output_type": "execute_result"
    }
   ],
   "source": [
    "(let [img (slurp-bytes \"../resources/clojupyter/assets/logo-64x64.png\")]\n",
    "  (ipy/image {:value img :format :png :height 10 :width 10}))   "
   ]
  },
  {
   "cell_type": "markdown",
   "metadata": {},
   "source": [
    "Note: *It looks like :width and :height don't change the output.*"
   ]
  },
  {
   "cell_type": "code",
   "execution_count": 50,
   "metadata": {},
   "outputs": [
    {
     "data": {
      "application/vnd.jupyter.widget-view+json": {
       "model_id": "1cb389d1-2049-4ff4-a94a-8b58662cd5bb",
       "version_major": 2,
       "version_minor": 0
      },
      "text/plain": [
       "[1cb389d1-2049-4ff4-a94a-8b58662cd5bb]={:_view_module \"@jupyter-widgets/controls\", :children [#<CommAtom@90d0dd5b:\n",
       "  {:description \"Click Here\",\n",
       "   :_view_module \"@jupyter-widgets/controls\",\n",
       "   :disabled false,\n",
       "   :button_style \"\",\n",
       "   :layout nil,\n",
       "   :_view_module_version \"1.5.0\",\n",
       "   :icon \"\",\n",
       "   :style nil,\n",
       "   :_view_name \"ButtonView\",\n",
       "   :_model_module \"@jupyter-widgets/controls\",\n",
       "   :_model_name \"ButtonModel\",\n",
       "   :_dom_classes [],\n",
       "   :tooltip \"\",\n",
       "   :_model_module_version \"1.5.0\"} #<CommAtom@f75e458d:\n",
       "  {:description \"\",\n",
       "   :_view_module \"@jupyter-widgets/controls\",\n",
       "   :placeholder \"​\",\n",
       "   :layout nil,\n",
       "   :value nil,\n",
       "   :_view_module_version \"1.5.0\",\n",
       "   :style nil,\n",
       "   :_view_name \"LabelView\",\n",
       "   :_model_module \"@jupyter-widgets/controls\",\n",
       "   :description_tooltip nil,\n",
       "   :_model_name \"LabelModel\",\n",
       "   :_dom_classes [],\n",
       "   :_model_module_version \"1.5.0\"}], :layout nil, :box_style \"\", :_view_module_version \"1.5.0\", :_view_name \"VBoxView\", :_model_module \"@jupyter-widgets/controls\", :_model_name \"VBoxModel\", :_dom_classes [], :_model_module_version \"1.5.0\"}"
      ]
     },
     "execution_count": 50,
     "metadata": {},
     "output_type": "execute_result"
    }
   ],
   "source": [
    "(let [w (ipy/button {:description \"Click Here\"})]\n",
    "  (alpha/interactive (ipy/label) (mapper identity) {:arg w}))  "
   ]
  },
  {
   "cell_type": "markdown",
   "metadata": {},
   "source": [
    "Note: *Clicking on the above button kills the kernel.*"
   ]
  },
  {
   "cell_type": "code",
   "execution_count": 51,
   "metadata": {},
   "outputs": [
    {
     "data": {
      "application/vnd.jupyter.widget-view+json": {
       "model_id": "4d001a20-b84d-430b-9c95-838b733abf3b",
       "version_major": 2,
       "version_minor": 0
      },
      "text/plain": [
       "[4d001a20-b84d-430b-9c95-838b733abf3b]={:_view_module \"@jupyter-widgets/controls\", :children [#<CommAtom@5c517019:\n",
       "  {:description \"\",\n",
       "   :_view_module \"@jupyter-widgets/controls\",\n",
       "   :min 0,\n",
       "   :disabled false,\n",
       "   :show_repeat true,\n",
       "   :layout nil,\n",
       "   :value 30,\n",
       "   :_view_module_version \"1.5.0\",\n",
       "   :_repeat false,\n",
       "   :style nil,\n",
       "   :_playing false,\n",
       "   :max 100,\n",
       "   :interval 500,\n",
       "   :_view_name \"PlayView\",\n",
       "   :_model_module \"@jupyter-widgets/controls\",\n",
       "   :description_tooltip nil,\n",
       "   :_model_name \"PlayModel\",\n",
       "   :_dom_classes [],\n",
       "   :step 1,\n",
       "   :_model_module_version \"1.5.0\"} #<CommAtom@6dd1c841:\n",
       "  {:_view_module \"@jupyter-widgets/controls\",\n",
       "   :children [],\n",
       "   :layout nil,\n",
       "   :value {:arg 30},\n",
       "   :box_style \"\",\n",
       "   :_view_module_version \"1.5.0\",\n",
       "   :_view_name \"HBoxView\",\n",
       "   :_model_module \"@jupyter-widgets/controls\",\n",
       "   :_model_name \"HBoxModel\",\n",
       "   :_dom_classes [],\n",
       "   :_model_module_version \"1.5.0\"}], :layout nil, :box_style \"\", :_view_module_version \"1.5.0\", :_view_name \"VBoxView\", :_model_module \"@jupyter-widgets/controls\", :_model_name \"VBoxModel\", :_dom_classes [], :_model_module_version \"1.5.0\"}"
      ]
     },
     "execution_count": 51,
     "metadata": {},
     "output_type": "execute_result"
    }
   ],
   "source": [
    "(let [min 0\n",
    "      max 100\n",
    "      value 30\n",
    "      step 1\n",
    "      w (ipy/play {:value value :min min :max max :step step :interval 500})\n",
    "      prg (ipy/int-progress {:min min :max max :value value})]\n",
    "  (alpha/interactive (ipy/h-box [w prg]) identity {:arg w}))    "
   ]
  },
  {
   "cell_type": "markdown",
   "metadata": {},
   "source": [
    "Note: *As per [example](https://ipywidgets.readthedocs.io/en/latest/examples/Widget%20List.html#Play-(Animation)-widget).\n",
    "Currently, we are missing the jslink function to link two widgets.*"
   ]
  },
  {
   "cell_type": "code",
   "execution_count": 52,
   "metadata": {},
   "outputs": [
    {
     "data": {
      "application/vnd.jupyter.widget-view+json": {
       "model_id": "995ab5eb-78c5-40d7-9882-8f8bf46b44e8",
       "version_major": 2,
       "version_minor": 0
      },
      "text/plain": [
       "[995ab5eb-78c5-40d7-9882-8f8bf46b44e8]={:_view_module \"@jupyter-widgets/controls\", :children [#<CommAtom@54e26c76:\n",
       "  {:description \"Pick a date\",\n",
       "   :_view_module \"@jupyter-widgets/controls\",\n",
       "   :disabled false,\n",
       "   :layout nil,\n",
       "   :value nil,\n",
       "   :_view_module_version \"1.5.0\",\n",
       "   :style nil,\n",
       "   :_view_name \"DatePickerView\",\n",
       "   :_model_module \"@jupyter-widgets/controls\",\n",
       "   :description_tooltip nil,\n",
       "   :_model_name \"DatePickerModel\",\n",
       "   :_dom_classes [],\n",
       "   :_model_module_version \"1.5.0\"} #<CommAtom@71e64fa9:\n",
       "  {:description \"\",\n",
       "   :_view_module \"@jupyter-widgets/controls\",\n",
       "   :placeholder \"​\",\n",
       "   :layout nil,\n",
       "   :value nil,\n",
       "   :_view_module_version \"1.5.0\",\n",
       "   :style nil,\n",
       "   :_view_name \"LabelView\",\n",
       "   :_model_module \"@jupyter-widgets/controls\",\n",
       "   :description_tooltip nil,\n",
       "   :_model_name \"LabelModel\",\n",
       "   :_dom_classes [],\n",
       "   :_model_module_version \"1.5.0\"}], :layout nil, :box_style \"\", :_view_module_version \"1.5.0\", :_view_name \"VBoxView\", :_model_module \"@jupyter-widgets/controls\", :_model_name \"VBoxModel\", :_dom_classes [], :_model_module_version \"1.5.0\"}"
      ]
     },
     "execution_count": 52,
     "metadata": {},
     "output_type": "execute_result"
    }
   ],
   "source": [
    "(let [w (ipy/date-picker {:description \"Pick a date\" :disabled false})]\n",
    "  (alpha/interactive (ipy/label) (mapper :year) {:arg w}))  "
   ]
  },
  {
   "cell_type": "code",
   "execution_count": 53,
   "metadata": {},
   "outputs": [
    {
     "data": {
      "application/vnd.jupyter.widget-view+json": {
       "model_id": "7218b38c-df22-4403-9e72-2e2f92789dd0",
       "version_major": 2,
       "version_minor": 0
      },
      "text/plain": [
       "[7218b38c-df22-4403-9e72-2e2f92789dd0]={:_view_module \"@jupyter-widgets/controls\", :children [#<CommAtom@38f93c96:\n",
       "  {:description \"Pick a color\",\n",
       "   :_view_module \"@jupyter-widgets/controls\",\n",
       "   :disabled false,\n",
       "   :layout nil,\n",
       "   :value \"blue\",\n",
       "   :_view_module_version \"1.5.0\",\n",
       "   :style nil,\n",
       "   :_view_name \"ColorPickerView\",\n",
       "   :_model_module \"@jupyter-widgets/controls\",\n",
       "   :description_tooltip nil,\n",
       "   :_model_name \"ColorPickerModel\",\n",
       "   :concise true,\n",
       "   :_dom_classes [],\n",
       "   :_model_module_version \"1.5.0\"} #<CommAtom@efe0364a:\n",
       "  {:description \"\",\n",
       "   :_view_module \"@jupyter-widgets/controls\",\n",
       "   :placeholder \"​\",\n",
       "   :layout nil,\n",
       "   :value \"blue\",\n",
       "   :_view_module_version \"1.5.0\",\n",
       "   :style nil,\n",
       "   :_view_name \"LabelView\",\n",
       "   :_model_module \"@jupyter-widgets/controls\",\n",
       "   :description_tooltip nil,\n",
       "   :_model_name \"LabelModel\",\n",
       "   :_dom_classes [],\n",
       "   :_model_module_version \"1.5.0\"}], :layout nil, :box_style \"\", :_view_module_version \"1.5.0\", :_view_name \"VBoxView\", :_model_module \"@jupyter-widgets/controls\", :_model_name \"VBoxModel\", :_dom_classes [], :_model_module_version \"1.5.0\"}"
      ]
     },
     "execution_count": 53,
     "metadata": {},
     "output_type": "execute_result"
    }
   ],
   "source": [
    "(let [w (ipy/color-picker {:description \"Pick a color\" :value \"blue\" :concise true})]\n",
    "  (alpha/interactive (ipy/label) (mapper identity) {:arg w}))"
   ]
  },
  {
   "cell_type": "code",
   "execution_count": 54,
   "metadata": {},
   "outputs": [
    {
     "data": {
      "application/vnd.jupyter.widget-view+json": {
       "model_id": "686c76cc-e58c-4d7e-bda0-9783b4ef2731",
       "version_major": 2,
       "version_minor": 0
      },
      "text/plain": [
       "[686c76cc-e58c-4d7e-bda0-9783b4ef2731]={:description \"\", :_view_module \"@jupyter-widgets/controls\", :_counter 0, :disabled false, :button_style \"\", :layout nil, :_view_module_version \"1.5.0\", :icon \"upload\", :multiple false, :style nil, :error \"\", :_view_name \"FileUploadView\", :_model_module \"@jupyter-widgets/controls\", :description_tooltip nil, :_model_name \"FileUploadModel\", :_dom_classes [], :metadata [], :accept \"\", :_model_module_version \"1.5.0\", :data []}"
      ]
     },
     "execution_count": 54,
     "metadata": {},
     "output_type": "execute_result"
    }
   ],
   "source": [
    "(def fu (ipy/file-upload))\n",
    "fu"
   ]
  },
  {
   "cell_type": "markdown",
   "metadata": {},
   "source": [
    "Looking at the contents of fu atom we don't see any obvious way to access the contents of the uploaded file, only the metadata."
   ]
  },
  {
   "cell_type": "code",
   "execution_count": 55,
   "metadata": {},
   "outputs": [
    {
     "data": {
      "text/plain": [
       "{:description \"\", :_view_module \"@jupyter-widgets/controls\", :_counter 0, :disabled false, :button_style \"\", :layout nil, :_view_module_version \"1.5.0\", :icon \"upload\", :multiple false, :style nil, :error \"\", :_view_name \"FileUploadView\", :_model_module \"@jupyter-widgets/controls\", :description_tooltip nil, :_model_name \"FileUploadModel\", :_dom_classes [], :metadata [], :accept \"\", :_model_module_version \"1.5.0\", :data []}"
      ]
     },
     "execution_count": 55,
     "metadata": {},
     "output_type": "execute_result"
    }
   ],
   "source": [
    "@fu"
   ]
  },
  {
   "cell_type": "code",
   "execution_count": 56,
   "metadata": {},
   "outputs": [
    {
     "data": {
      "application/vnd.jupyter.widget-view+json": {
       "model_id": "443e9677-42b1-4608-90d1-d0dd8886f3c8",
       "version_major": 2,
       "version_minor": 0
      },
      "text/plain": [
       "[443e9677-42b1-4608-90d1-d0dd8886f3c8]={:_view_module \"@jupyter-widgets/controls\", :buttons [], :index 0, :layout nil, :axes [], :name \"\", :mapping \"\", :connected false, :_view_module_version \"1.5.0\", :_view_name \"ControllerView\", :_model_module \"@jupyter-widgets/controls\", :timestamp 0.0, :_model_name \"ControllerModel\", :_dom_classes [], :_model_module_version \"1.5.0\"}"
      ]
     },
     "execution_count": 56,
     "metadata": {},
     "output_type": "execute_result"
    }
   ],
   "source": [
    "(ipy/controller)"
   ]
  },
  {
   "cell_type": "markdown",
   "metadata": {},
   "source": [
    "Not tested: dom-widget, directional-link,  grid-box, layout, link, progress-style, slider-style, widget-display-data"
   ]
  }
 ],
 "metadata": {
  "kernelspec": {
   "display_name": "Clojure (clojupyter-0.3.3-snapshot)",
   "language": "clojure",
   "name": "clojupyter-0.3.3-snapshot"
  },
  "language_info": {
   "file_extension": ".clj",
   "mimetype": "text/x-clojure",
   "name": "clojure",
   "version": "1.10.1"
  }
 },
 "nbformat": 4,
 "nbformat_minor": 4
}
