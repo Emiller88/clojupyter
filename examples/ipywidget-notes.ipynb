{
 "cells": [
  {
   "cell_type": "code",
   "execution_count": null,
   "metadata": {},
   "outputs": [],
   "source": [
    "(require '[clojupyter.widgets.ipywidgets :as ipy])\n",
    "(require '[clojure.pprint :refer [pprint]]);"
   ]
  },
  {
   "cell_type": "markdown",
   "metadata": {},
   "source": [
    "## Coercions\n",
    "The widget below is actually valid, with the maximum value being limited to 200."
   ]
  },
  {
   "cell_type": "code",
   "execution_count": null,
   "metadata": {},
   "outputs": [],
   "source": [
    "(def widg0 (ipy/bounded-int-text {:min 10 :value 30 :max \"200\"}))\n",
    "widg0"
   ]
  },
  {
   "cell_type": "markdown",
   "metadata": {},
   "source": [
    "The expression bellow returns true for python kernel. Where numbers are expected they are automatically parsed if strings are passed to arguments.\n",
    "\n",
    "The same is not true for disabled argument, i.e. ipy.BoundedIntText(disabled=\"True\") fails, so it looks like the statement above is an implementation detail."
   ]
  },
  {
   "cell_type": "code",
   "execution_count": null,
   "metadata": {},
   "outputs": [],
   "source": [
    "(= (:max @(ipy/bounded-int-text {:max 300}))\n",
    "   (:max @(ipy/bounded-int-text {:max \"300\"})))"
   ]
  },
  {
   "cell_type": "markdown",
   "metadata": {},
   "source": [
    "The expression bellow throws an exception in python. ~~In clojupyter, it returns an invalid widget model. It looks like a widget, but it's unusable (it's value cannot be set)~~\n",
    "\n",
    "FIXED: :min, :max and :value cannot be set to strings in clojupyter."
   ]
  },
  {
   "cell_type": "code",
   "execution_count": null,
   "metadata": {},
   "outputs": [],
   "source": [
    "(ipy/bounded-int-text {:max \"some big number\"})"
   ]
  },
  {
   "cell_type": "code",
   "execution_count": null,
   "metadata": {},
   "outputs": [],
   "source": [
    "(ipy/int-slider {:style (ipy/slider-style {:handle_color :green})})"
   ]
  },
  {
   "cell_type": "markdown",
   "metadata": {},
   "source": [
    "## Style and Layout\n",
    "In python, when a widget model is created, a new instance of Layout and Style are created and referenced in the model.\n",
    "Currently, in clojupyter those are set to nil."
   ]
  },
  {
   "cell_type": "code",
   "execution_count": null,
   "metadata": {},
   "outputs": [],
   "source": [
    "(select-keys @(ipy/textarea) [:layout :style])"
   ]
  },
  {
   "cell_type": "markdown",
   "metadata": {},
   "source": [
    "We can instantiate those values manually"
   ]
  },
  {
   "cell_type": "code",
   "execution_count": null,
   "metadata": {},
   "outputs": [],
   "source": [
    "(select-keys @(ipy/textarea {:layout (ipy/layout) :style (ipy/description-style)}) [:layout :style])"
   ]
  },
  {
   "cell_type": "code",
   "execution_count": null,
   "metadata": {},
   "outputs": [],
   "source": [
    "(ipy/textarea {:rows 5 :description \"Multiline Text Description\" :placeholder \"Here be dragons\" :layout (ipy/layout {:width \"800px\" :border \"green solid\"}) :style (ipy/description-style {:description_width \"initial\"})})"
   ]
  },
  {
   "cell_type": "markdown",
   "metadata": {},
   "source": [
    "*:layout* attribute expects only a layout widget.\n",
    "*:style* attribute expects one of several style widgets.\n",
    "\n",
    "These two references can be passed directly under the hood, to allow users to define the widget directly as:"
   ]
  },
  {
   "cell_type": "code",
   "execution_count": null,
   "metadata": {},
   "outputs": [],
   "source": [
    "(ipy/textarea {:rows 5 :description \"Multiline Text Description\" :placeholder \"Here be dragons\" :layout {:width \"800px\" :border \"green solid\"} :style {:description_width \"initial\"}})"
   ]
  },
  {
   "cell_type": "markdown",
   "metadata": {},
   "source": [
    "## Private Attributes\n",
    "Attributes that start with **_** look like private.\n",
    "Does it serve any porpuse to allow the end user to change them?"
   ]
  },
  {
   "cell_type": "code",
   "execution_count": null,
   "metadata": {},
   "outputs": [],
   "source": [
    "(def mutant-widget (ipy/bounded-int-text {:_model_name \"FloatSliderModel\" :_view_name \"FloatSliderView\"}))\n",
    "mutant-widget"
   ]
  },
  {
   "cell_type": "markdown",
   "metadata": {},
   "source": [
    "## Complex widgets\n",
    "The example bellow contains a horizontal box widget with two other widgets, an int slider and an int progress bar. The two widgets are linked by a directional link, that updates the progress's bar :value automatically, when the int slider :value changes."
   ]
  },
  {
   "cell_type": "code",
   "execution_count": null,
   "metadata": {},
   "outputs": [],
   "source": [
    "(def SSP\n",
    "    (let [slider-style (ipy/slider-style {:handle_color \"tomato\"})\n",
    "      w (ipy/int-slider {:orientation \"vertical\" :value (rand-int 101) :style slider-style :description \"x\"})\n",
    "      ww (ipy/int-slider {:orientation \"vertical\" :value (* 2 (:value @w)) :max (* 2 (:max @w)) :style slider-style :description \"2*x\" :disabled true})\n",
    "      _ (.watch w :double (fn [_ _ _ {value :value}] (swap! ww assoc :value (* 2 value))))\n",
    "      p (ipy/int-progress {:orientation \"vertical\" :value (:value @w) :bar_style \"danger\"})\n",
    "      pv (ipy/label {:value (str (:value @p)) :_dom_classes [\"output\"]})\n",
    "      _ (.watch p :print (fn [_ _ _ {value :value}] (swap! pv assoc :value (str value))))\n",
    "      _ (ipy/directional-link {:source [w :value] :target [p :value]})\n",
    "      ppv (ipy/v-box {:children [p pv] :layout (ipy/layout {:align_items \"center\"})})]\n",
    "  (ipy/h-box {:children [w ww ppv]})))\n",
    "SSP"
   ]
  },
  {
   "cell_type": "code",
   "execution_count": null,
   "metadata": {},
   "outputs": [],
   "source": [
    "(->> SSP deref :children last deref :children first deref :value)"
   ]
  },
  {
   "cell_type": "markdown",
   "metadata": {},
   "source": [
    "## Issues\n",
    "### The Problem with Big Numbers\n",
    "Neither python, nor clojure have a problem handling big integers. The widget runs in a JavaScript context and JavaScript truncates automatically integers with more than 16 digits.\n",
    "\n",
    "E.g: The widget below shows a default value (5.555555555555555e+29) that's different than the underlying model value (555555555555555555555555555555).\n",
    "\n",
    "Practically, that means our integer widgets have a (undocumented) maximum/minimum value."
   ]
  },
  {
   "cell_type": "code",
   "execution_count": null,
   "metadata": {},
   "outputs": [],
   "source": [
    "(def widg1 (ipy/bounded-int-text {:value 555555555555555555555555555555 :max 9999999999999999999999999999999999999999999999999999999999999999999999}))\n",
    "widg1"
   ]
  },
  {
   "cell_type": "code",
   "execution_count": null,
   "metadata": {},
   "outputs": [],
   "source": [
    "(= (:max @widg1) 9999999999999999999999999999999999999999999999999999999999999999999999)"
   ]
  },
  {
   "cell_type": "code",
   "execution_count": null,
   "metadata": {},
   "outputs": [],
   "source": [
    "(= (:value @widg1) 555555555555555555555555555555)"
   ]
  },
  {
   "cell_type": "markdown",
   "metadata": {},
   "source": [
    "### Float Widgets\n",
    "Float widgets send an integer value when it hits one (7 instead of 7.0)"
   ]
  },
  {
   "cell_type": "code",
   "execution_count": null,
   "metadata": {},
   "outputs": [],
   "source": [
    "(ipy/float-log-slider {:value 2e5 :base 10.0 :min 4.0 :max 8.0 :step 0.2 :continuous_update false})"
   ]
  },
  {
   "cell_type": "code",
   "execution_count": null,
   "metadata": {},
   "outputs": [],
   "source": [
    "(ipy/float-slider)"
   ]
  },
  {
   "cell_type": "code",
   "execution_count": null,
   "metadata": {},
   "outputs": [],
   "source": [
    "(ipy/float-progress)"
   ]
  },
  {
   "cell_type": "code",
   "execution_count": null,
   "metadata": {},
   "outputs": [],
   "source": [
    "(ipy/float-text)"
   ]
  },
  {
   "cell_type": "code",
   "execution_count": null,
   "metadata": {},
   "outputs": [],
   "source": []
  },
  {
   "cell_type": "code",
   "execution_count": null,
   "metadata": {},
   "outputs": [],
   "source": []
  },
  {
   "cell_type": "markdown",
   "metadata": {},
   "source": [
    "### File Uploader\n",
    "File upload widget does not return the file contents, only its metadata."
   ]
  },
  {
   "cell_type": "code",
   "execution_count": null,
   "metadata": {},
   "outputs": [],
   "source": [
    "(def WU (ipy/file-upload))\n",
    "WU"
   ]
  },
  {
   "cell_type": "code",
   "execution_count": null,
   "metadata": {},
   "outputs": [],
   "source": [
    "@WU"
   ]
  },
  {
   "cell_type": "code",
   "execution_count": null,
   "metadata": {},
   "outputs": [],
   "source": []
  },
  {
   "cell_type": "markdown",
   "metadata": {},
   "source": [
    "### Date Picker\n",
    "Date-picker widget returns a hash-map.Should it return a java.util.Date or java.time.LocalDate ?"
   ]
  },
  {
   "cell_type": "code",
   "execution_count": null,
   "metadata": {},
   "outputs": [],
   "source": [
    "(def date-widget (ipy/date-picker))\n",
    "date-widget"
   ]
  },
  {
   "cell_type": "code",
   "execution_count": null,
   "metadata": {},
   "outputs": [],
   "source": [
    "@date-widget"
   ]
  },
  {
   "cell_type": "code",
   "execution_count": null,
   "metadata": {},
   "outputs": [],
   "source": []
  }
 ],
 "metadata": {
  "kernelspec": {
   "display_name": "Clojure (clojupyter-0.3.3-snapshot)",
   "language": "clojure",
   "name": "clojupyter-0.3.3-snapshot"
  },
  "language_info": {
   "file_extension": ".clj",
   "mimetype": "text/x-clojure",
   "name": "clojure",
   "version": "1.10.1"
  },
  "widgets": {
   "application/vnd.jupyter.widget-state+json": {
    "state": {},
    "version_major": 2,
    "version_minor": 0
   }
  }
 },
 "nbformat": 4,
 "nbformat_minor": 4
}
