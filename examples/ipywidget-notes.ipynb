{
 "cells": [
  {
   "cell_type": "code",
   "execution_count": null,
   "metadata": {},
   "outputs": [],
   "source": [
    "(require '[clojupyter.widgets.ipywidgets :as ipy])\n",
    "(require '[clojure.pprint :refer [pprint]]);"
   ]
  },
  {
   "cell_type": "code",
   "execution_count": null,
   "metadata": {},
   "outputs": [],
   "source": [
    "(defn mapper\n",
    "  [f]\n",
    "  (fn [{arg :arg}] (f arg)))"
   ]
  },
  {
   "cell_type": "markdown",
   "metadata": {},
   "source": [
    "The widget below is actually valid, with the maximum value being limited to 200."
   ]
  },
  {
   "cell_type": "code",
   "execution_count": null,
   "metadata": {},
   "outputs": [],
   "source": [
    "(def widg0 (ipy/bounded-int-text {:min 10 :value 30 :max \"200\"}))\n",
    "widg0"
   ]
  },
  {
   "cell_type": "markdown",
   "metadata": {},
   "source": [
    "The expression bellow returns true for python kernel. Where numbers are expected they are automatically parsed if strings are passed to arguments.\n",
    "\n",
    "The same is not true for disabled argument, i.e. ipy.BoundedIntText(disabled=\"True\") fails, so it looks like the statement above is an implementation detail."
   ]
  },
  {
   "cell_type": "code",
   "execution_count": null,
   "metadata": {},
   "outputs": [],
   "source": [
    "(= (:max @(ipy/bounded-int-text {:max 300}))\n",
    "   (:max @(ipy/bounded-int-text {:max \"300\"})))"
   ]
  },
  {
   "cell_type": "markdown",
   "metadata": {},
   "source": [
    "The expression bellow throws an exception in python. In clojupyter, it returns an invalid widget model. It looks like a widget, but it's unusable (it's value cannot be set)."
   ]
  },
  {
   "cell_type": "code",
   "execution_count": null,
   "metadata": {},
   "outputs": [],
   "source": [
    "(ipy/bounded-int-text {:max \"some big number\"})"
   ]
  },
  {
   "cell_type": "markdown",
   "metadata": {},
   "source": [
    "### The Problem with Big Numbers\n",
    "Neither python, nor clojure have a problem handling big integers. The widget runs in a JavaScript context and JavaScript truncates automatically integers with more than 16 digits.\n",
    "\n",
    "E.g: The widget below shows a default value (5.555555555555555e+29) that's different than the underlying model value (555555555555555555555555555555).\n",
    "\n",
    "Practically, that means our integer widgets have a (undocumented) maximum/minimum value."
   ]
  },
  {
   "cell_type": "code",
   "execution_count": null,
   "metadata": {},
   "outputs": [],
   "source": [
    "(def widg1 (ipy/bounded-int-text {:value 555555555555555555555555555555 :max 9999999999999999999999999999999999999999999999999999999999999999999999}))\n",
    "widg1"
   ]
  },
  {
   "cell_type": "code",
   "execution_count": null,
   "metadata": {},
   "outputs": [],
   "source": [
    "(= (:max @widg1) 9999999999999999999999999999999999999999999999999999999999999999999999)"
   ]
  },
  {
   "cell_type": "code",
   "execution_count": null,
   "metadata": {},
   "outputs": [],
   "source": [
    "(= (:value @widg1) 555555555555555555555555555555)"
   ]
  },
  {
   "cell_type": "markdown",
   "metadata": {},
   "source": [
    "### Style and Layout\n",
    "In python, when a widget model is created, a new instance of Layout and Style are created and referenced in the model.\n",
    "Currently, in clojupyter those are set to nil."
   ]
  },
  {
   "cell_type": "markdown",
   "metadata": {},
   "source": [
    "### Private Attributes\n",
    "Attributes that start with **_** look like private.\n",
    "Does it serve any porpuse to allow the end user to change them?"
   ]
  },
  {
   "cell_type": "code",
   "execution_count": null,
   "metadata": {},
   "outputs": [],
   "source": [
    "(def mutant-widget (ipy/bounded-int-text {:_model_name \"FloatSliderModel\" :_view_name \"FloatSliderView\"}))\n",
    "mutant-widget"
   ]
  },
  {
   "cell_type": "markdown",
   "metadata": {},
   "source": [
    "Date-picker widget returns a hash-map.Should it return a java.util.Date or java.time.LocalDate ?"
   ]
  },
  {
   "cell_type": "code",
   "execution_count": null,
   "metadata": {},
   "outputs": [],
   "source": [
    "(def date-widget (ipy/date-picker))\n",
    "date-widget"
   ]
  },
  {
   "cell_type": "code",
   "execution_count": null,
   "metadata": {},
   "outputs": [],
   "source": [
    "(:value @date-widget)"
   ]
  },
  {
   "cell_type": "code",
   "execution_count": null,
   "metadata": {},
   "outputs": [],
   "source": []
  }
 ],
 "metadata": {
  "kernelspec": {
   "display_name": "Clojure (clojupyter-0.3.3-snapshot)",
   "language": "clojure",
   "name": "clojupyter-0.3.3-snapshot"
  },
  "language_info": {
   "file_extension": ".clj",
   "mimetype": "text/x-clojure",
   "name": "clojure",
   "version": "1.10.1"
  }
 },
 "nbformat": 4,
 "nbformat_minor": 4
}
