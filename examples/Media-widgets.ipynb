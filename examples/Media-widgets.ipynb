{
 "cells": [
  {
   "cell_type": "markdown",
   "metadata": {},
   "source": [
    "# Performance of Multimedia Widgets"
   ]
  },
  {
   "cell_type": "code",
   "execution_count": 1,
   "metadata": {},
   "outputs": [
    {
     "data": {
      "text/plain": [
       "nil"
      ]
     },
     "execution_count": 1,
     "metadata": {},
     "output_type": "execute_result"
    }
   ],
   "source": [
    "(ns multimedia-widgets\n",
    "  (:require [clojupyter.widgets.ipywidgets :as ipy]\n",
    "            [clojure.java.io :as io]))"
   ]
  },
  {
   "cell_type": "markdown",
   "metadata": {},
   "source": [
    "We'll define a helper function to read a binary file into a byte array."
   ]
  },
  {
   "cell_type": "code",
   "execution_count": 2,
   "metadata": {},
   "outputs": [
    {
     "data": {
      "text/plain": [
       "#'multimedia-widgets/slurp-bytes"
      ]
     },
     "execution_count": 2,
     "metadata": {},
     "output_type": "execute_result"
    }
   ],
   "source": [
    "(defn slurp-bytes\n",
    "  [^String filename & opt]\n",
    "  (let [file (io/file filename)\n",
    "        buf (byte-array (.length file))]\n",
    "    (with-open [fis (io/make-input-stream file (when opt (apply hash-map opt)))]\n",
    "      (.read fis buf))\n",
    "    buf))"
   ]
  },
  {
   "cell_type": "markdown",
   "metadata": {},
   "source": [
    "We'll also define some units transformation functions."
   ]
  },
  {
   "cell_type": "code",
   "execution_count": 3,
   "metadata": {},
   "outputs": [
    {
     "data": {
      "text/plain": [
       "#'multimedia-widgets/B->KiB"
      ]
     },
     "execution_count": 3,
     "metadata": {},
     "output_type": "execute_result"
    }
   ],
   "source": [
    "(defn ms->s [t] (/ t 1000.0))\n",
    "(defn B->MiB [x] (/ x (Math/pow 2 20)))\n",
    "(defn s->min [t] (/ t 60.0))\n",
    "(defn B->KiB [x] (/ x (Math/pow 2 10)))"
   ]
  },
  {
   "cell_type": "markdown",
   "metadata": {},
   "source": [
    "Let's load a jpeg image-file, a mp3 audio file and a mp4 video file."
   ]
  },
  {
   "cell_type": "code",
   "execution_count": 4,
   "metadata": {},
   "outputs": [
    {
     "data": {
      "text/plain": [
       "#'multimedia-widgets/video-file"
      ]
     },
     "execution_count": 4,
     "metadata": {},
     "output_type": "execute_result"
    }
   ],
   "source": [
    "(def image-file (slurp-bytes \"/home/ciumbi/Downloads/HPIM3949.JPG\"))\n",
    "(def audio-file (slurp-bytes \"/home/ciumbi/Downloads/Comfort_Fit_-_03_-_Sorry.mp3\"))\n",
    "(def video-file (slurp-bytes \"/home/ciumbi/Downloads/SampleVideo_360x240_2mb.mp4\"))"
   ]
  },
  {
   "cell_type": "markdown",
   "metadata": {},
   "source": [
    "Let's examine the size in MiB of these three files."
   ]
  },
  {
   "cell_type": "code",
   "execution_count": 5,
   "metadata": {},
   "outputs": [
    {
     "data": {
      "text/plain": [
       "(1.2164287567138672 5.732420921325684 2.003093719482422)"
      ]
     },
     "execution_count": 5,
     "metadata": {},
     "output_type": "execute_result"
    }
   ],
   "source": [
    "(map (comp B->MiB count) [image-file audio-file video-file])"
   ]
  },
  {
   "cell_type": "markdown",
   "metadata": {},
   "source": [
    "Let's measure the times to construct in show the widgets of each file."
   ]
  },
  {
   "cell_type": "code",
   "execution_count": 6,
   "metadata": {},
   "outputs": [
    {
     "data": {
      "application/vnd.jupyter.widget-view+json": {
       "model_id": "8b5d0286-66c5-4f48-a7ce-4de4c6072797",
       "version_major": 2,
       "version_minor": 0
      },
      "text/plain": [
       "[8b5d0286-66c5-4f48-a7ce-4de4c6072797]={:_view_module \"@jupyter-widgets/controls\", :format \"png\", :layout nil, :value #object[\"[B\" 0x246880e6 \"[B@246880e6\"], :width \"\", :_view_module_version \"2.0.0\", :tabbable nil, :_view_name \"ImageView\", :_model_module \"@jupyter-widgets/controls\", :_model_name \"ImageModel\", :_dom_classes [], :tooltip nil, :height \"\", :_model_module_version \"2.0.0\"}"
      ]
     },
     "execution_count": 6,
     "metadata": {},
     "output_type": "execute_result"
    }
   ],
   "source": [
    "(def ti0 (System/currentTimeMillis))\n",
    "(ipy/image {:value image-file})"
   ]
  },
  {
   "cell_type": "code",
   "execution_count": 7,
   "metadata": {},
   "outputs": [
    {
     "data": {
      "text/plain": [
       "#'multimedia-widgets/ti1"
      ]
     },
     "execution_count": 7,
     "metadata": {},
     "output_type": "execute_result"
    }
   ],
   "source": [
    "(def ti1 (System/currentTimeMillis))"
   ]
  },
  {
   "cell_type": "code",
   "execution_count": 8,
   "metadata": {},
   "outputs": [
    {
     "data": {
      "text/plain": [
       "2.1617666666666664"
      ]
     },
     "execution_count": 8,
     "metadata": {},
     "output_type": "execute_result"
    }
   ],
   "source": [
    "(s->min (ms->s (- ti1 ti0)))"
   ]
  },
  {
   "cell_type": "code",
   "execution_count": 9,
   "metadata": {},
   "outputs": [
    {
     "data": {
      "application/vnd.jupyter.widget-view+json": {
       "model_id": "ddde7c94-8148-459e-8cd0-401e97f56b4f",
       "version_major": 2,
       "version_minor": 0
      },
      "text/plain": [
       "[ddde7c94-8148-459e-8cd0-401e97f56b4f]={:_view_module \"@jupyter-widgets/controls\", :format \"mp3\", :layout nil, :value #object[\"[B\" 0x592fb681 \"[B@592fb681\"], :_view_module_version \"2.0.0\", :controls true, :loop true, :tabbable nil, :autoplay true, :_view_name \"AudioView\", :_model_module \"@jupyter-widgets/controls\", :_model_name \"AudioModel\", :_dom_classes [], :tooltip nil, :_model_module_version \"2.0.0\"}"
      ]
     },
     "execution_count": 9,
     "metadata": {},
     "output_type": "execute_result"
    }
   ],
   "source": [
    "(def ta0 (System/currentTimeMillis))\n",
    "(ipy/audio {:value audio-file})"
   ]
  },
  {
   "cell_type": "code",
   "execution_count": 10,
   "metadata": {},
   "outputs": [
    {
     "data": {
      "text/plain": [
       "#'multimedia-widgets/ta1"
      ]
     },
     "execution_count": 10,
     "metadata": {},
     "output_type": "execute_result"
    }
   ],
   "source": [
    "(def ta1 (System/currentTimeMillis))"
   ]
  },
  {
   "cell_type": "code",
   "execution_count": 11,
   "metadata": {},
   "outputs": [
    {
     "data": {
      "text/plain": [
       "10.290733333333332"
      ]
     },
     "execution_count": 11,
     "metadata": {},
     "output_type": "execute_result"
    }
   ],
   "source": [
    "(s->min (ms->s (- ta1 ta0)))"
   ]
  },
  {
   "cell_type": "code",
   "execution_count": 12,
   "metadata": {},
   "outputs": [
    {
     "data": {
      "application/vnd.jupyter.widget-view+json": {
       "model_id": "55febc9e-621e-4b7c-850e-257735173531",
       "version_major": 2,
       "version_minor": 0
      },
      "text/plain": [
       "[55febc9e-621e-4b7c-850e-257735173531]={:_view_module \"@jupyter-widgets/controls\", :format \"mp4\", :layout nil, :value #object[\"[B\" 0x382b3527 \"[B@382b3527\"], :width \"\", :_view_module_version \"2.0.0\", :controls true, :loop true, :tabbable nil, :autoplay true, :_view_name \"VideoView\", :_model_module \"@jupyter-widgets/controls\", :_model_name \"VideoModel\", :_dom_classes [], :tooltip nil, :height \"\", :_model_module_version \"2.0.0\"}"
      ]
     },
     "execution_count": 12,
     "metadata": {},
     "output_type": "execute_result"
    }
   ],
   "source": [
    "(def tv0 (System/currentTimeMillis))\n",
    "(ipy/video {:value video-file})"
   ]
  },
  {
   "cell_type": "code",
   "execution_count": 13,
   "metadata": {},
   "outputs": [
    {
     "data": {
      "text/plain": [
       "#'multimedia-widgets/tv1"
      ]
     },
     "execution_count": 13,
     "metadata": {},
     "output_type": "execute_result"
    }
   ],
   "source": [
    "(def tv1 (System/currentTimeMillis))"
   ]
  },
  {
   "cell_type": "code",
   "execution_count": 14,
   "metadata": {},
   "outputs": [
    {
     "data": {
      "text/plain": [
       "3.552633333333333"
      ]
     },
     "execution_count": 14,
     "metadata": {},
     "output_type": "execute_result"
    }
   ],
   "source": [
    "(s->min (ms->s (- tv1 tv0)))"
   ]
  },
  {
   "cell_type": "code",
   "execution_count": 15,
   "metadata": {},
   "outputs": [
    {
     "data": {
      "text/plain": [
       "106.62852163277977"
      ]
     },
     "execution_count": 15,
     "metadata": {},
     "output_type": "execute_result"
    }
   ],
   "source": [
    "(/ (ms->s (- ti1 ti0)) (B->MiB (count image-file)))"
   ]
  },
  {
   "cell_type": "markdown",
   "metadata": {},
   "source": [
    "The rendering speed measured in KiB/s for an image file:"
   ]
  },
  {
   "cell_type": "code",
   "execution_count": 16,
   "metadata": {},
   "outputs": [
    {
     "data": {
      "text/plain": [
       "9.603434281182059"
      ]
     },
     "execution_count": 16,
     "metadata": {},
     "output_type": "execute_result"
    }
   ],
   "source": [
    "(/ (B->KiB (count image-file)) (ms->s (- ti1 ti0)))"
   ]
  },
  {
   "cell_type": "code",
   "execution_count": null,
   "metadata": {},
   "outputs": [],
   "source": []
  },
  {
   "cell_type": "code",
   "execution_count": null,
   "metadata": {},
   "outputs": [],
   "source": []
  }
 ],
 "metadata": {
  "kernelspec": {
   "display_name": "Clojure (clojupyter-0.3.3-snapshot)",
   "language": "clojure",
   "name": "clojupyter-0.3.3-snapshot"
  },
  "language_info": {
   "file_extension": ".clj",
   "mimetype": "text/x-clojure",
   "name": "clojure",
   "version": "1.10.1"
  }
 },
 "nbformat": 4,
 "nbformat_minor": 4
}
